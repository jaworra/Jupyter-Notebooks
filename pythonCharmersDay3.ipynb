{
 "cells": [
  {
   "cell_type": "markdown",
   "metadata": {},
   "source": [
    "### Python training day 3\n",
    "\n",
    "- Monte Carlo simulation and application; bootstrap confidence intervals.\n",
    "- Statistical modelling: parametric and nonparametric density estimation.\n",
    "- Linear regression with statsmodels\n",
    "- Time-series analysis: parsing dates, resampling\n",
    "- Reading & writing vector datasets(e.g ESRI Shapefiles) with Geopandas and GDAL\n",
    "- Metres vs latitude and longitude: projections with Pyproj\n",
    "- Spatial clusting with DBScan\n",
    "- Creating beautiful maps with Cartopy and overlying statistical data"
   ]
  },
  {
   "cell_type": "markdown",
   "metadata": {},
   "source": [
    "### Installing spatial libraries\n",
    "\n",
    "Installing the spatial libraries can be a painful thansk to GDAL. To try and avoid the pain we'll use the Anaconda installer:\n",
    "\n",
    "1. Open a command prompt in the folder your've got the  PX proxy installed in.\n",
    "2. Run px.exe to start the proxy.\n",
    "3. In your start menu type \"Anaconda\" and open the \"Anaconda Prompt\"\n",
    "4. In the prompt to set up the use\n",
    "   conda config --set proxy_servers.http localhost:3128 \n",
    "   conda config --set proxy_servers.https localhost:3128 \n",
    "5. In th prompt type\n",
    "   conda install gdal fiona pyproj geopandas rtree\n",
    "   \n",
    "### Monte Carlo Simulation\n",
    "\n",
    "Monte Carlo simulation is modelling a process,, repeatedly feeding the process with random input so  you can look at the distribution of the output.\n",
    "   \n",
    " "
   ]
  },
  {
   "cell_type": "code",
   "execution_count": 1,
   "metadata": {},
   "outputs": [],
   "source": [
    "import numpy as np"
   ]
  },
  {
   "cell_type": "code",
   "execution_count": 2,
   "metadata": {},
   "outputs": [
    {
     "data": {
      "text/plain": [
       "0.36385451405945357"
      ]
     },
     "execution_count": 2,
     "metadata": {},
     "output_type": "execute_result"
    }
   ],
   "source": [
    "#np.random.seed(1)\n",
    "np.random.random()"
   ]
  },
  {
   "cell_type": "code",
   "execution_count": 4,
   "metadata": {},
   "outputs": [
    {
     "data": {
      "text/plain": [
       "array([0.70180952, 0.51134387, 0.97125065, 0.26256627, 0.30797386,\n",
       "       0.88135797, 0.37554576, 0.48568537, 0.08740021, 0.21100572,\n",
       "       0.86155382, 0.94925716, 0.07782376, 0.8786734 , 0.05842131,\n",
       "       0.52244512, 0.23107543, 0.16902174, 0.81681207, 0.00733385,\n",
       "       0.17973475, 0.22324347, 0.65526041, 0.20671262, 0.9529217 ,\n",
       "       0.96353747, 0.36258576, 0.35398085, 0.08451615, 0.97367647,\n",
       "       0.35050225, 0.49809144, 0.90638023, 0.63040874, 0.43526202,\n",
       "       0.03925926, 0.74625292, 0.16577607, 0.61978799, 0.06950171,\n",
       "       0.48756066, 0.4313999 , 0.675398  , 0.36036414, 0.00593953,\n",
       "       0.36443642, 0.34044918, 0.25788765, 0.90081826, 0.53942014,\n",
       "       0.08243357, 0.91367929, 0.53255843, 0.14155467, 0.69399053,\n",
       "       0.357259  , 0.35755029, 0.87763092, 0.49673885, 0.14695994,\n",
       "       0.38058406, 0.59514816, 0.20474878, 0.73949397, 0.47343962,\n",
       "       0.31025865, 0.431341  , 0.92632082, 0.88562972, 0.79951287,\n",
       "       0.86859564, 0.04624613, 0.02459735, 0.01520843, 0.86379976,\n",
       "       0.77338998, 0.20991705, 0.67873376, 0.23581768, 0.67564017,\n",
       "       0.28219504, 0.02350434, 0.99272184, 0.88670449, 0.45571107,\n",
       "       0.90467975, 0.06579683, 0.67490885, 0.52940584, 0.09134127,\n",
       "       0.13148346, 0.58813178, 0.815714  , 0.67790469, 0.00815865,\n",
       "       0.31573335, 0.57680265, 0.56230169, 0.09971512, 0.41510862])"
      ]
     },
     "execution_count": 4,
     "metadata": {},
     "output_type": "execute_result"
    }
   ],
   "source": [
    "np.random.random(100)"
   ]
  },
  {
   "cell_type": "code",
   "execution_count": 9,
   "metadata": {},
   "outputs": [
    {
     "data": {
      "text/plain": [
       "array([[0.5270581 , 0.8859421 , 0.35726976, ..., 0.76336024, 0.86404021,\n",
       "        0.70792747],\n",
       "       [0.94801722, 0.0469936 , 0.87398889, ..., 0.15330814, 0.84598688,\n",
       "        0.27872785],\n",
       "       [0.90185046, 0.37733316, 0.77290415, ..., 0.26913925, 0.43425152,\n",
       "        0.25913873],\n",
       "       ...,\n",
       "       [0.34535495, 0.32799136, 0.97476837, ..., 0.15854353, 0.09546152,\n",
       "        0.15600181],\n",
       "       [0.93806532, 0.78887973, 0.90718296, ..., 0.74254302, 0.80722865,\n",
       "        0.16320015],\n",
       "       [0.30936233, 0.68123105, 0.06640435, ..., 0.35351118, 0.29481217,\n",
       "        0.52091796]])"
      ]
     },
     "execution_count": 9,
     "metadata": {},
     "output_type": "execute_result"
    }
   ],
   "source": [
    "np.random.random((10000,10000))"
   ]
  },
  {
   "cell_type": "markdown",
   "metadata": {},
   "source": [
    "we're going to try and estimate the area of a circle using monte carlo simulation.\n",
    "The area of a circle is pi r^2"
   ]
  },
  {
   "cell_type": "code",
   "execution_count": 20,
   "metadata": {},
   "outputs": [
    {
     "data": {
      "text/plain": [
       "False"
      ]
     },
     "execution_count": 20,
     "metadata": {},
     "output_type": "execute_result"
    }
   ],
   "source": [
    "x = np.random.random()\n",
    "y = np.random.random()\n",
    "\n",
    "np.sqrt(x **2 + y **2) < 1"
   ]
  },
  {
   "cell_type": "code",
   "execution_count": 21,
   "metadata": {},
   "outputs": [],
   "source": [
    "def hyptenous(x,y):\n",
    "    return np.sqrt(x **2 + y **2)"
   ]
  },
  {
   "cell_type": "code",
   "execution_count": 36,
   "metadata": {},
   "outputs": [
    {
     "data": {
      "text/plain": [
       "3.1408"
      ]
     },
     "execution_count": 36,
     "metadata": {},
     "output_type": "execute_result"
    }
   ],
   "source": [
    "#%%timeit\n",
    "num_trials = 100000\n",
    "succcesses=0\n",
    "\n",
    "for trial in range(num_trials):\n",
    "    x = np.random.random()\n",
    "    y = np.random.random()\n",
    "    if np.sqrt(x **2 + y **2) < 1:\n",
    "        succcesses += 1\n",
    "        \n",
    "succcesses / num_trials * 4 #guess for pi"
   ]
  },
  {
   "cell_type": "code",
   "execution_count": 30,
   "metadata": {},
   "outputs": [],
   "source": [
    "x = np.random.random(1000)\n",
    "y = np.random.random(1000)"
   ]
  },
  {
   "cell_type": "code",
   "execution_count": 32,
   "metadata": {
    "collapsed": true
   },
   "outputs": [
    {
     "data": {
      "text/plain": [
       "array([ True,  True,  True,  True, False,  True,  True,  True,  True,\n",
       "        True,  True,  True,  True,  True,  True, False, False,  True,\n",
       "        True, False,  True, False,  True,  True,  True, False,  True,\n",
       "        True,  True,  True,  True, False,  True, False, False,  True,\n",
       "        True, False,  True,  True, False,  True,  True,  True, False,\n",
       "        True, False, False,  True, False,  True,  True,  True,  True,\n",
       "        True, False,  True,  True,  True, False,  True,  True,  True,\n",
       "        True,  True,  True,  True,  True,  True,  True,  True,  True,\n",
       "        True,  True,  True,  True,  True, False,  True,  True, False,\n",
       "       False,  True,  True,  True,  True,  True,  True, False,  True,\n",
       "        True, False, False, False,  True,  True,  True,  True,  True,\n",
       "        True,  True, False,  True,  True,  True,  True, False, False,\n",
       "        True, False,  True,  True,  True,  True,  True, False,  True,\n",
       "        True,  True,  True,  True,  True,  True,  True,  True,  True,\n",
       "        True,  True,  True,  True, False,  True, False, False,  True,\n",
       "        True,  True, False,  True,  True,  True,  True,  True,  True,\n",
       "        True, False,  True,  True,  True,  True, False,  True, False,\n",
       "        True,  True,  True, False,  True,  True,  True,  True, False,\n",
       "        True,  True, False,  True,  True,  True,  True,  True,  True,\n",
       "        True,  True, False,  True,  True,  True,  True,  True,  True,\n",
       "        True,  True, False,  True, False,  True,  True,  True,  True,\n",
       "        True,  True,  True,  True, False,  True,  True, False,  True,\n",
       "        True, False,  True,  True,  True,  True,  True,  True,  True,\n",
       "        True, False,  True,  True, False, False, False, False,  True,\n",
       "       False,  True,  True,  True,  True, False,  True,  True, False,\n",
       "        True, False,  True,  True,  True,  True,  True,  True, False,\n",
       "        True,  True,  True,  True,  True,  True,  True,  True, False,\n",
       "        True,  True,  True,  True,  True,  True,  True,  True,  True,\n",
       "        True,  True,  True,  True,  True, False,  True,  True,  True,\n",
       "        True,  True, False,  True,  True,  True,  True,  True,  True,\n",
       "        True, False,  True,  True,  True, False,  True, False,  True,\n",
       "        True,  True,  True,  True,  True,  True,  True,  True,  True,\n",
       "        True,  True,  True,  True,  True, False,  True,  True,  True,\n",
       "        True,  True,  True,  True,  True,  True,  True,  True,  True,\n",
       "        True, False,  True,  True,  True, False,  True, False, False,\n",
       "       False,  True,  True,  True,  True,  True,  True,  True,  True,\n",
       "       False,  True,  True, False,  True,  True,  True,  True,  True,\n",
       "        True,  True,  True, False,  True,  True,  True,  True, False,\n",
       "        True,  True, False,  True,  True, False, False,  True,  True,\n",
       "        True,  True,  True,  True,  True, False,  True,  True, False,\n",
       "       False,  True, False,  True,  True,  True,  True,  True,  True,\n",
       "       False,  True,  True,  True,  True,  True,  True, False,  True,\n",
       "        True,  True,  True,  True, False, False,  True,  True,  True,\n",
       "        True,  True, False, False,  True,  True,  True,  True, False,\n",
       "        True,  True, False,  True,  True,  True,  True,  True, False,\n",
       "       False,  True, False, False,  True,  True,  True,  True,  True,\n",
       "       False,  True,  True,  True, False,  True,  True,  True,  True,\n",
       "        True, False,  True, False, False,  True, False,  True,  True,\n",
       "        True,  True,  True,  True,  True,  True,  True, False,  True,\n",
       "        True,  True,  True,  True, False,  True, False,  True, False,\n",
       "        True,  True,  True,  True, False,  True,  True,  True,  True,\n",
       "        True, False,  True,  True, False,  True,  True,  True,  True,\n",
       "        True,  True, False,  True,  True,  True,  True,  True,  True,\n",
       "        True,  True,  True,  True,  True, False,  True,  True,  True,\n",
       "        True,  True,  True,  True,  True, False,  True,  True, False,\n",
       "        True,  True,  True,  True,  True,  True,  True,  True,  True,\n",
       "        True,  True,  True,  True,  True,  True,  True, False, False,\n",
       "       False,  True,  True,  True,  True,  True,  True,  True,  True,\n",
       "        True,  True,  True,  True,  True, False,  True,  True, False,\n",
       "        True, False, False,  True,  True,  True,  True,  True,  True,\n",
       "        True, False, False,  True,  True,  True,  True,  True,  True,\n",
       "        True,  True,  True,  True,  True, False,  True, False,  True,\n",
       "        True,  True,  True,  True,  True,  True,  True,  True,  True,\n",
       "       False, False, False,  True,  True,  True,  True,  True,  True,\n",
       "        True,  True,  True, False, False,  True,  True,  True,  True,\n",
       "        True,  True,  True,  True,  True,  True, False, False,  True,\n",
       "       False,  True,  True,  True, False, False,  True,  True,  True,\n",
       "        True, False,  True,  True,  True,  True,  True,  True,  True,\n",
       "       False,  True,  True,  True,  True,  True,  True, False,  True,\n",
       "        True,  True,  True,  True,  True,  True,  True, False,  True,\n",
       "        True,  True,  True, False, False,  True,  True,  True, False,\n",
       "        True,  True,  True, False,  True,  True, False,  True,  True,\n",
       "        True,  True,  True,  True,  True,  True,  True,  True, False,\n",
       "        True,  True,  True, False,  True,  True, False,  True,  True,\n",
       "        True,  True,  True,  True,  True, False, False,  True,  True,\n",
       "        True,  True,  True,  True,  True,  True, False,  True, False,\n",
       "       False,  True, False,  True,  True,  True, False,  True,  True,\n",
       "        True,  True,  True,  True,  True,  True,  True,  True,  True,\n",
       "        True,  True,  True,  True,  True,  True,  True, False,  True,\n",
       "        True,  True, False,  True,  True,  True,  True,  True,  True,\n",
       "        True,  True,  True,  True,  True,  True,  True,  True,  True,\n",
       "        True,  True,  True,  True,  True,  True,  True,  True, False,\n",
       "        True,  True,  True, False,  True,  True,  True, False,  True,\n",
       "        True,  True,  True,  True, False,  True,  True,  True,  True,\n",
       "        True,  True, False, False,  True,  True,  True,  True,  True,\n",
       "        True, False, False,  True,  True,  True,  True, False,  True,\n",
       "       False,  True, False,  True, False,  True,  True,  True,  True,\n",
       "        True,  True, False,  True, False,  True, False,  True, False,\n",
       "        True,  True,  True, False,  True, False, False,  True,  True,\n",
       "        True,  True,  True, False,  True, False,  True,  True, False,\n",
       "        True,  True,  True,  True,  True, False,  True,  True,  True,\n",
       "       False, False,  True,  True,  True,  True,  True,  True,  True,\n",
       "       False,  True,  True, False,  True,  True, False, False,  True,\n",
       "        True,  True,  True,  True,  True,  True, False,  True, False,\n",
       "        True,  True,  True,  True,  True,  True,  True,  True, False,\n",
       "        True, False,  True,  True,  True,  True,  True,  True,  True,\n",
       "        True, False, False, False,  True,  True,  True, False, False,\n",
       "        True,  True,  True, False,  True,  True,  True,  True,  True,\n",
       "        True,  True,  True,  True,  True,  True,  True,  True,  True,\n",
       "        True,  True,  True,  True,  True, False, False,  True,  True,\n",
       "       False,  True,  True,  True,  True,  True, False,  True, False,\n",
       "        True, False,  True, False,  True, False,  True, False, False,\n",
       "        True,  True,  True, False,  True, False,  True,  True,  True,\n",
       "       False,  True,  True,  True,  True,  True,  True, False, False,\n",
       "        True,  True,  True,  True, False, False,  True,  True,  True,\n",
       "       False, False,  True,  True,  True,  True,  True, False,  True,\n",
       "        True,  True,  True,  True,  True,  True, False, False,  True,\n",
       "        True,  True,  True,  True,  True,  True, False,  True,  True,\n",
       "       False,  True,  True,  True,  True,  True,  True,  True, False,\n",
       "        True, False,  True,  True, False,  True, False,  True,  True,\n",
       "        True,  True, False,  True, False, False,  True,  True,  True,\n",
       "       False])"
      ]
     },
     "execution_count": 32,
     "metadata": {},
     "output_type": "execute_result"
    }
   ],
   "source": [
    "np.sqrt(x **2 + y **2) < 1 #broadcasting"
   ]
  },
  {
   "cell_type": "code",
   "execution_count": 41,
   "metadata": {},
   "outputs": [],
   "source": [
    "inCircle = np.sqrt(x **2 + y **2) < 1"
   ]
  },
  {
   "cell_type": "code",
   "execution_count": 42,
   "metadata": {},
   "outputs": [
    {
     "data": {
      "text/plain": [
       "0.004"
      ]
     },
     "execution_count": 42,
     "metadata": {},
     "output_type": "execute_result"
    }
   ],
   "source": [
    "np.sum(inCircle)/ 1000 * 4"
   ]
  },
  {
   "cell_type": "code",
   "execution_count": 43,
   "metadata": {},
   "outputs": [
    {
     "data": {
      "text/plain": [
       "4.0"
      ]
     },
     "execution_count": 43,
     "metadata": {},
     "output_type": "execute_result"
    }
   ],
   "source": [
    "np.mean(inCircle) * 4"
   ]
  },
  {
   "cell_type": "markdown",
   "metadata": {},
   "source": [
    "## Exercise: what's your best estimate for $\\pi$\n",
    "\n",
    "\n",
    "use numpy to generate a larger set of trials say 1000000. What is your estimate of pi? you can see how good it is by comparing to the buitl in constant:"
   ]
  },
  {
   "cell_type": "code",
   "execution_count": 44,
   "metadata": {},
   "outputs": [
    {
     "data": {
      "text/plain": [
       "3.141592653589793"
      ]
     },
     "execution_count": 44,
     "metadata": {},
     "output_type": "execute_result"
    }
   ],
   "source": [
    "np.pi\n"
   ]
  },
  {
   "cell_type": "markdown",
   "metadata": {},
   "source": [
    "Tme using %%timeit how long does a milioon tirals using numpy vs how long it toook to run loop."
   ]
  },
  {
   "cell_type": "code",
   "execution_count": 57,
   "metadata": {},
   "outputs": [
    {
     "name": "stdout",
     "output_type": "stream",
     "text": [
      "56 ms ± 4.64 ms per loop (mean ± std. dev. of 7 runs, 10 loops each)\n"
     ]
    }
   ],
   "source": [
    "%%timeit\n",
    "numTrials = 1000000\n",
    "x = np.random.random(numTrials)\n",
    "y = np.random.random(numTrials)\n",
    "\n",
    "inCircle = np.sqrt(x**2 + y**2) < 1"
   ]
  },
  {
   "cell_type": "code",
   "execution_count": 58,
   "metadata": {},
   "outputs": [
    {
     "data": {
      "text/plain": [
       "4.0"
      ]
     },
     "execution_count": 58,
     "metadata": {},
     "output_type": "execute_result"
    }
   ],
   "source": [
    "np.mean(inCircle) * 4"
   ]
  },
  {
   "cell_type": "code",
   "execution_count": 51,
   "metadata": {},
   "outputs": [
    {
     "name": "stdout",
     "output_type": "stream",
     "text": [
      "3.05 s ± 508 ms per loop (mean ± std. dev. of 7 runs, 1 loop each)\n"
     ]
    }
   ],
   "source": [
    "%%timeit\n",
    "num_trials = 1000000\n",
    "succcesses=0\n",
    "for trial in range(num_trials):\n",
    "    x = np.random.random()\n",
    "    y = np.random.random()\n",
    "    if np.sqrt(x **2 + y **2) < 1:\n",
    "        succcesses += 1\n",
    "        \n",
    "succcesses / num_trials * 4 #guess for pi"
   ]
  },
  {
   "cell_type": "code",
   "execution_count": 59,
   "metadata": {},
   "outputs": [],
   "source": [
    "import sys"
   ]
  },
  {
   "cell_type": "code",
   "execution_count": 61,
   "metadata": {},
   "outputs": [
    {
     "data": {
      "text/plain": [
       "2.288818359375e-05"
      ]
     },
     "execution_count": 61,
     "metadata": {},
     "output_type": "execute_result"
    }
   ],
   "source": [
    "sys.getsizeof(x) / 1024 /1024"
   ]
  },
  {
   "cell_type": "code",
   "execution_count": 63,
   "metadata": {
    "collapsed": true
   },
   "outputs": [
    {
     "data": {
      "text/plain": [
       "{'__name__': '__main__',\n",
       " '__doc__': 'Automatically created module for IPython interactive environment',\n",
       " '__package__': None,\n",
       " '__loader__': None,\n",
       " '__spec__': None,\n",
       " '__builtin__': <module 'builtins' (built-in)>,\n",
       " '__builtins__': <module 'builtins' (built-in)>,\n",
       " '_ih': ['',\n",
       "  'import numpy as np',\n",
       "  'np.random.random()',\n",
       "  'np.random.random()',\n",
       "  'np.random.seed(1)\\nnp.random.random()',\n",
       "  'np.random.seed(1)\\nnp.random.random()',\n",
       "  'np.random.seed(1)\\nnp.random.random()',\n",
       "  'np.random.random(100)',\n",
       "  'np.random.random(10000,10000)',\n",
       "  'np.random.random((10000,10000))',\n",
       "  'x = np.random.random()\\ny = np.random.random()\\n\\nnp.sqrt(x **2 + y **2) < 1',\n",
       "  'x = np.random.random()\\ny = np.random.random()\\n\\nnp.sqrt(x **2 + y **2) < 1',\n",
       "  'x = np.random.random()\\ny = np.random.random()\\n\\nnp.sqrt(x **2 + y **2) < 1',\n",
       "  'def hyptenous(x,y):\\n    return np.sqrt(x **2 + y **2)',\n",
       "  'for trial in range(1000):\\n    x = np.random.random()\\n    y = np.random.random()\\n    if np.sqrt(x **2 + y **2):\\n        succcesses += 1',\n",
       "  'succcesses=0\\nfor trial in range(1000):\\n    x = np.random.random()\\n    y = np.random.random()\\n    if np.sqrt(x **2 + y **2):\\n        succcesses += 1',\n",
       "  'succcesses / 10000 * 4',\n",
       "  'succcesses / 1000 * 4',\n",
       "  'num_trials = 10000\\nsucccesses=0\\n\\nfor trial in range(num_trials):\\n    x = np.random.random()\\n    y = np.random.random()\\n    if np.sqrt(x **2 + y **2):\\n        succcesses += 1\\nsucccesses / num_trials * 4 #guess for pi',\n",
       "  'num_trials = 10000\\nsucccesses=0\\n\\nfor trial in range(num_trials):\\n    x = np.random.random()\\n    y = np.random.random()\\n    if np.sqrt(x **2 + y **2):\\n        succcesses += 1\\nsucccesses / num_trials * 4 #guess for pi',\n",
       "  'x = np.random.random()\\ny = np.random.random()\\n\\nnp.sqrt(x **2 + y **2) < 1',\n",
       "  'def hyptenous(x,y):\\n    return np.sqrt(x **2 + y **2)',\n",
       "  'num_trials = 10000\\nsucccesses=0\\n\\nfor trial in range(num_trials):\\n    x = np.random.random()\\n    y = np.random.random()\\n    if np.sqrt(x **2 + y **2):\\n        succcesses += 1\\n        \\nsucccesses / num_trials * 4 #guess for pi',\n",
       "  'num_trials = 100000\\nsucccesses=0\\n\\nfor trial in range(num_trials):\\n    x = np.random.random()\\n    y = np.random.random()\\n    if np.sqrt(x **2 + y **2):\\n        succcesses += 1\\n        \\nsucccesses / num_trials * 4 #guess for pi',\n",
       "  'num_trials = 100000\\nsucccesses=0\\n\\nfor trial in range(num_trials):\\n    x = np.random.random()\\n    y = np.random.random()\\n    if np.sqrt(x **2 + y **2):\\n        succcesses += 1\\n        \\nsucccesses / num_trials * 4 #guess for pi',\n",
       "  \"get_ipython().run_cell_magic('timeit', '', 'num_trials = 100000\\\\nsucccesses=0\\\\n\\\\nfor trial in range(num_trials):\\\\n    x = np.random.random()\\\\n    y = np.random.random()\\\\n    if np.sqrt(x **2 + y **2):\\\\n        succcesses += 1\\\\n        \\\\nsucccesses / num_trials * 4 #guess for pi\\\\n')\",\n",
       "  '#np.random.seed(1)\\nnp.random.random()',\n",
       "  \"get_ipython().run_cell_magic('timeit', '', 'num_trials = 100000\\\\nsucccesses=0\\\\n\\\\nfor trial in range(num_trials):\\\\n    x = np.random.random()\\\\n    y = np.random.random()\\\\n    if np.sqrt(x **2 + y **2):\\\\n        succcesses += 1\\\\n        \\\\nsucccesses / num_trials * 4 #guess for pi\\\\n')\",\n",
       "  '#%%timeit\\nnum_trials = 100000\\nsucccesses=0\\n\\nfor trial in range(num_trials):\\n    x = np.random.random()\\n    y = np.random.random()\\n    if np.sqrt(x **2 + y **2):\\n        succcesses += 1\\n        \\nsucccesses / num_trials * 4 #guess for pi',\n",
       "  'np.sqrt(x **2 + y **2)',\n",
       "  'x = np.random.random(1000)\\ny = np.random.random(1000)',\n",
       "  'np.sqrt(x **2 + y **2)',\n",
       "  'np.sqrt(x **2 + y **2) < 1',\n",
       "  '#%%timeit\\nnum_trials = 100000\\nsucccesses=0\\n\\nfor trial in range(num_trials):\\n    x = np.random.random()\\n    y = np.random.random()\\n    if np.sqrt(x **2 + y **2) < 1:\\n        succcesses += 1\\n        \\nsucccesses / num_trials * 4 #guess for pi',\n",
       "  '#%%timeit\\nnum_trials = 100000\\nsucccesses=0\\n\\nfor trial in range(num_trials):\\n    x = np.random.random()\\n    y = np.random.random()\\n    if np.sqrt(x **2 + y **2) < 1:\\n        succcesses += 1\\n        \\nsucccesses / num_trials * 4 #guess for pi',\n",
       "  '#%%timeit\\nnum_trials = 100000\\nsucccesses=0\\n\\nfor trial in range(num_trials):\\n    x = np.random.random()\\n    y = np.random.random()\\n    if np.sqrt(x **2 + y **2) < 1:\\n        succcesses += 1\\n        \\nsucccesses / num_trials * 4 #guess for pi',\n",
       "  '#%%timeit\\nnum_trials = 1000000\\nsucccesses=0\\n\\nfor trial in range(num_trials):\\n    x = np.random.random()\\n    y = np.random.random()\\n    if np.sqrt(x **2 + y **2) < 1:\\n        succcesses += 1\\n        \\nsucccesses / num_trials * 4 #guess for pi',\n",
       "  'inCircle = np.sqrt(x **2 + y **2) < 1\\nnp.sum(inCircle)\\nnp.sum(inCircle)/ 1000 * 4\\nnp.mean(inCircle)/ 1000 * 4',\n",
       "  'np.sum(inCircle)/ 1000 * 4',\n",
       "  'np.mean(inCircle)/ 1000 * 4',\n",
       "  'np.mean(inCircle) * 4',\n",
       "  'inCircle = np.sqrt(x **2 + y **2) < 1',\n",
       "  'np.sum(inCircle)/ 1000 * 4',\n",
       "  'np.mean(inCircle) * 4',\n",
       "  'np.pi',\n",
       "  \"get_ipython().run_cell_magic('timeit', '', 'x = np.random.random(1000000)\\\\ny = np.random.random(1000000)\\\\n\\\\ninCircle = np.sqrt(x **2 + y **2) < 1\\\\nnp.mean(inCircle) * 4\\\\n')\",\n",
       "  'np.mean(inCircle) * 4',\n",
       "  \"get_ipython().run_cell_magic('timeit', '', 'for trial in range(1000000):\\\\n    x = np.random.random()\\\\n    y = np.random.random()\\\\n    if np.sqrt(x **2 + y **2) < 1:\\\\n        succcesses += 1\\\\n        \\\\nsucccesses / num_trials * 4 #guess for pi\\\\n')\",\n",
       "  \"get_ipython().run_cell_magic('timeit', '', 'for trial in range(1000000):\\\\n    x = np.random.random(1000000)\\\\n    y = np.random.random(1000000)\\\\n    if np.sqrt(x **2 + y **2) < 1:\\\\n        succcesses += 1\\\\n        \\\\nsucccesses / num_trials * 4 #guess for pi\\\\n')\",\n",
       "  \"get_ipython().run_cell_magic('timeit', '', '\\\\nfor trial in range(1000000):\\\\n    x = np.random.random(1000000)\\\\n    y = np.random.random(1000000)\\\\n    if np.sqrt(x **2 + y **2) < 1:\\\\n        succcesses += 1\\\\n        \\\\nsucccesses / num_trials * 4 #guess for pi\\\\n')\",\n",
       "  \"get_ipython().run_cell_magic('timeit', '', 'for trial in range(1000000):\\\\n    x = np.random.random()\\\\n    y = np.random.random()\\\\n    if np.sqrt(x **2 + y **2) < 1:\\\\n        succcesses += 1\\\\n        \\\\nsucccesses / num_trials * 4 #guess for pi\\\\n')\",\n",
       "  \"get_ipython().run_cell_magic('timeit', '', 'num_trials = 1000000\\\\nsucccesses=0\\\\nfor trial in range(num_trials):\\\\n    x = np.random.random()\\\\n    y = np.random.random()\\\\n    if np.sqrt(x **2 + y **2) < 1:\\\\n        succcesses += 1\\\\n        \\\\nsucccesses / num_trials * 4 #guess for pi\\\\n')\",\n",
       "  'np.mean(inCircle) * 4',\n",
       "  \"get_ipython().run_cell_magic('timeit', '', 'x = np.random.random(1000000)\\\\ny = np.random.random(1000000)\\\\n\\\\ninCircle = np.sqrt(x **2 + y **2) < 1\\\\n')\",\n",
       "  \"get_ipython().run_cell_magic('timeit', '', 'numTrials = 1000000\\\\nx = np.random.random(numTrials)\\\\ny = np.random.random(numTrials)\\\\n\\\\ninCircle = np.sqrt(x**2 + y**2) < 1\\\\n')\",\n",
       "  'np.mean(inCircle) * 4',\n",
       "  'np.mean(inCircle) * 4',\n",
       "  \"get_ipython().run_cell_magic('timeit', '', 'numTrials = 1000000\\\\nx = np.random.random(numTrials)\\\\ny = np.random.random(numTrials)\\\\n\\\\ninCircle = np.sqrt(x**2 + y**2) < 1\\\\n')\",\n",
       "  'np.mean(inCircle) * 4',\n",
       "  'import sys',\n",
       "  'getsizeof(x) / 1024 /1024',\n",
       "  'sys.getsizeof(x) / 1024 /1024',\n",
       "  'locals',\n",
       "  'locals()'],\n",
       " '_oh': {2: 0.6965488409732352,\n",
       "  3: 0.2808857999562232,\n",
       "  4: 0.417022004702574,\n",
       "  5: 0.417022004702574,\n",
       "  6: 0.417022004702574,\n",
       "  7: array([7.20324493e-01, 1.14374817e-04, 3.02332573e-01, 1.46755891e-01,\n",
       "         9.23385948e-02, 1.86260211e-01, 3.45560727e-01, 3.96767474e-01,\n",
       "         5.38816734e-01, 4.19194514e-01, 6.85219500e-01, 2.04452250e-01,\n",
       "         8.78117436e-01, 2.73875932e-02, 6.70467510e-01, 4.17304802e-01,\n",
       "         5.58689828e-01, 1.40386939e-01, 1.98101489e-01, 8.00744569e-01,\n",
       "         9.68261576e-01, 3.13424178e-01, 6.92322616e-01, 8.76389152e-01,\n",
       "         8.94606664e-01, 8.50442114e-02, 3.90547832e-02, 1.69830420e-01,\n",
       "         8.78142503e-01, 9.83468338e-02, 4.21107625e-01, 9.57889530e-01,\n",
       "         5.33165285e-01, 6.91877114e-01, 3.15515631e-01, 6.86500928e-01,\n",
       "         8.34625672e-01, 1.82882773e-02, 7.50144315e-01, 9.88861089e-01,\n",
       "         7.48165654e-01, 2.80443992e-01, 7.89279328e-01, 1.03226007e-01,\n",
       "         4.47893526e-01, 9.08595503e-01, 2.93614148e-01, 2.87775339e-01,\n",
       "         1.30028572e-01, 1.93669579e-02, 6.78835533e-01, 2.11628116e-01,\n",
       "         2.65546659e-01, 4.91573159e-01, 5.33625451e-02, 5.74117605e-01,\n",
       "         1.46728575e-01, 5.89305537e-01, 6.99758360e-01, 1.02334429e-01,\n",
       "         4.14055988e-01, 6.94400158e-01, 4.14179270e-01, 4.99534589e-02,\n",
       "         5.35896406e-01, 6.63794645e-01, 5.14889112e-01, 9.44594756e-01,\n",
       "         5.86555041e-01, 9.03401915e-01, 1.37474704e-01, 1.39276347e-01,\n",
       "         8.07391289e-01, 3.97676837e-01, 1.65354197e-01, 9.27508580e-01,\n",
       "         3.47765860e-01, 7.50812103e-01, 7.25997985e-01, 8.83306091e-01,\n",
       "         6.23672207e-01, 7.50942434e-01, 3.48898342e-01, 2.69927892e-01,\n",
       "         8.95886218e-01, 4.28091190e-01, 9.64840047e-01, 6.63441498e-01,\n",
       "         6.21695720e-01, 1.14745973e-01, 9.49489259e-01, 4.49912133e-01,\n",
       "         5.78389614e-01, 4.08136803e-01, 2.37026980e-01, 9.03379521e-01,\n",
       "         5.73679487e-01, 2.87032703e-03, 6.17144914e-01, 3.26644902e-01]),\n",
       "  9: array([[0.5270581 , 0.8859421 , 0.35726976, ..., 0.76336024, 0.86404021,\n",
       "          0.70792747],\n",
       "         [0.94801722, 0.0469936 , 0.87398889, ..., 0.15330814, 0.84598688,\n",
       "          0.27872785],\n",
       "         [0.90185046, 0.37733316, 0.77290415, ..., 0.26913925, 0.43425152,\n",
       "          0.25913873],\n",
       "         ...,\n",
       "         [0.34535495, 0.32799136, 0.97476837, ..., 0.15854353, 0.09546152,\n",
       "          0.15600181],\n",
       "         [0.93806532, 0.78887973, 0.90718296, ..., 0.74254302, 0.80722865,\n",
       "          0.16320015],\n",
       "         [0.30936233, 0.68123105, 0.06640435, ..., 0.35351118, 0.29481217,\n",
       "          0.52091796]]),\n",
       "  10: False,\n",
       "  11: False,\n",
       "  12: True,\n",
       "  16: 0.4,\n",
       "  17: 4.0,\n",
       "  18: 4.0,\n",
       "  19: 4.0,\n",
       "  20: False,\n",
       "  22: 4.0,\n",
       "  23: 4.0,\n",
       "  24: 4.0,\n",
       "  26: 0.9365759901909323,\n",
       "  28: 4.0,\n",
       "  29: 0.3005844015281511,\n",
       "  31: array([0.29467217, 0.60281694, 0.27667553, 0.87587619, 1.23884108,\n",
       "         0.85172453, 0.05970262, 0.88248812, 0.6101584 , 0.94206721,\n",
       "         0.70588776, 0.9108879 , 0.66130741, 0.65482863, 0.95135665,\n",
       "         1.26749401, 1.04274031, 0.67677444, 0.37312913, 1.3254791 ,\n",
       "         0.98550579, 1.17366723, 0.99443364, 0.08444441, 0.93862567,\n",
       "         1.08430546, 0.86440074, 0.86486314, 0.249236  , 0.2274402 ,\n",
       "         0.45488993, 1.10382529, 0.35310638, 1.24856771, 1.02397987,\n",
       "         0.47474521, 0.16500678, 1.28295315, 0.81978815, 0.28434294,\n",
       "         1.03207258, 0.92659466, 0.96180698, 0.29847704, 1.03029581,\n",
       "         0.92981029, 1.29218376, 1.01247937, 0.97367792, 1.07526854,\n",
       "         0.27597901, 0.32848242, 0.62069759, 0.71571832, 0.98770393,\n",
       "         1.15630149, 0.30480478, 0.59402795, 0.94639824, 1.00214084,\n",
       "         0.20290109, 0.18459367, 0.51869595, 0.87837444, 0.15441655,\n",
       "         0.84125833, 0.97276776, 0.32911844, 0.52594631, 0.74271594,\n",
       "         0.63464421, 0.77910409, 0.57594029, 0.88254427, 0.91978537,\n",
       "         0.99149332, 0.98366202, 1.19677486, 0.79222396, 0.38853882,\n",
       "         1.08890911, 1.0709673 , 0.59139198, 0.14640386, 0.95311369,\n",
       "         0.95376802, 0.79802237, 0.21800077, 1.11368647, 0.80269551,\n",
       "         0.84561939, 1.31865227, 1.18757209, 1.07062265, 0.12681488,\n",
       "         0.63245086, 0.9421163 , 0.80701254, 0.88732028, 0.51636757,\n",
       "         0.9468844 , 1.06683903, 0.94014798, 0.87790595, 0.92061198,\n",
       "         0.55585666, 1.23495737, 1.17277028, 0.72715295, 1.11994896,\n",
       "         0.78417372, 0.74829931, 0.31482941, 0.8206845 , 0.45566565,\n",
       "         1.03314811, 0.94894871, 0.48649714, 0.56568282, 0.94535037,\n",
       "         0.91293249, 0.12635688, 0.9437875 , 0.76717729, 0.5435033 ,\n",
       "         0.98344507, 0.896886  , 0.97459456, 0.56462005, 0.56989771,\n",
       "         1.24078027, 0.84789089, 1.12622381, 1.02230098, 0.5246428 ,\n",
       "         0.87381653, 0.93052778, 1.23093166, 0.61824224, 0.53144495,\n",
       "         0.8676342 , 0.8907146 , 0.93325949, 0.72315265, 0.84092441,\n",
       "         1.12477565, 0.31963734, 0.87371822, 0.80387003, 0.68528603,\n",
       "         1.22129532, 0.89178762, 1.23809986, 0.79766652, 0.09628347,\n",
       "         0.50982819, 1.23619179, 0.77568932, 0.58709442, 0.42659873,\n",
       "         0.85332689, 1.13447789, 0.97106194, 0.09626415, 1.03575954,\n",
       "         0.67604106, 0.87546022, 0.80039467, 0.90081464, 0.37275121,\n",
       "         0.61823216, 0.61881626, 0.44697357, 1.2207887 , 0.59085582,\n",
       "         0.71317918, 0.90763154, 0.28898335, 0.81573548, 0.92206507,\n",
       "         0.69883122, 0.23839989, 1.06480041, 0.46709592, 1.04370887,\n",
       "         0.64903652, 0.99861338, 0.99857999, 0.70388215, 0.72998229,\n",
       "         0.62636377, 0.99193623, 0.44016178, 1.15809215, 0.04258449,\n",
       "         0.81364488, 1.0929159 , 0.66985506, 0.95438625, 1.15180559,\n",
       "         0.80015333, 0.91311256, 0.21701594, 0.98125574, 0.66426578,\n",
       "         0.8777751 , 0.68523246, 0.78030181, 1.14521441, 0.75486284,\n",
       "         0.77720533, 1.0235899 , 1.02715674, 1.09131266, 1.08107974,\n",
       "         0.93033943, 1.13827792, 0.78230441, 0.60163128, 0.76441755,\n",
       "         0.89113519, 1.06525796, 0.89200535, 0.41890159, 1.02567772,\n",
       "         0.52544556, 1.01561642, 0.34114647, 0.17706554, 0.96500021,\n",
       "         0.86785299, 0.63183164, 0.45894991, 1.03452662, 0.62066752,\n",
       "         0.59188365, 0.68327691, 0.77179675, 0.68684392, 0.08831624,\n",
       "         0.99071321, 0.79319814, 1.01389337, 0.71281174, 0.41639224,\n",
       "         0.95314974, 0.32254541, 0.57041093, 0.95850624, 0.60777771,\n",
       "         0.61937263, 0.96255509, 0.89929581, 0.78537852, 0.39294365,\n",
       "         0.71284341, 0.93075621, 1.18460453, 0.80925798, 0.90716533,\n",
       "         0.50771467, 0.99977705, 0.31741643, 1.01487121, 0.90039589,\n",
       "         0.65544801, 0.65670903, 0.79400563, 0.69585017, 0.48563197,\n",
       "         0.62025012, 1.23332971, 0.96525766, 0.72192536, 0.48711692,\n",
       "         1.08097792, 0.54859876, 1.13277894, 0.89318984, 0.65327563,\n",
       "         0.57636751, 0.79504326, 0.99040822, 0.81049966, 0.6011717 ,\n",
       "         0.86221559, 0.95913416, 0.75722328, 0.91580403, 0.56595408,\n",
       "         0.64511573, 0.58894247, 0.6305061 , 1.13233377, 0.97191504,\n",
       "         0.83921915, 0.61100484, 0.59804263, 0.76509843, 0.67606789,\n",
       "         0.98462074, 0.48567472, 0.84876183, 0.84058155, 0.4728229 ,\n",
       "         0.644046  , 0.12601014, 1.10774113, 0.92427937, 0.81357547,\n",
       "         0.86484652, 1.16247071, 0.38532272, 1.21246135, 1.14889178,\n",
       "         1.04001058, 0.6785383 , 0.98201388, 0.6834915 , 0.19691238,\n",
       "         0.77515134, 0.80733073, 0.34792406, 0.55147334, 1.18150219,\n",
       "         0.73185562, 0.66793093, 1.33728151, 0.25072485, 0.85083966,\n",
       "         0.71292375, 0.96631636, 0.98133246, 0.99917427, 0.98650439,\n",
       "         0.7626188 , 1.07570939, 0.97232743, 0.77416271, 0.04744134,\n",
       "         0.94414069, 1.0611536 , 0.53604374, 0.88535375, 1.07693564,\n",
       "         0.80670014, 0.58573106, 1.16884784, 1.01803145, 0.13637136,\n",
       "         0.290595  , 0.36043831, 0.63999043, 0.94434798, 0.86651381,\n",
       "         0.96243384, 1.0069323 , 0.69643992, 0.53652882, 1.06542075,\n",
       "         1.0422874 , 0.81255622, 1.28334103, 0.82324838, 0.87912183,\n",
       "         0.73809722, 0.98848852, 0.22489213, 0.91536214, 1.21284856,\n",
       "         0.9407292 , 0.85707563, 0.59366857, 0.89136702, 0.89227877,\n",
       "         0.61270086, 1.34976992, 0.25697664, 0.19482356, 0.63380607,\n",
       "         0.91262019, 0.8960309 , 1.01175216, 1.07931924, 0.8343685 ,\n",
       "         0.08449947, 0.50799735, 0.59962095, 0.63673833, 1.10268732,\n",
       "         1.18181307, 0.85368277, 0.82321724, 0.47289086, 0.56352158,\n",
       "         1.10429021, 0.58788972, 0.7986088 , 1.03650825, 0.85808859,\n",
       "         0.93058997, 0.54563096, 0.82206055, 0.25159158, 1.18434565,\n",
       "         1.18586373, 0.80684221, 1.21955621, 1.32735349, 0.51726121,\n",
       "         0.16953013, 0.68037467, 0.7058819 , 0.92606577, 1.07813219,\n",
       "         0.26006436, 0.36503969, 0.27576984, 1.00979468, 0.72331704,\n",
       "         0.80951167, 0.98713254, 0.26192023, 0.22214487, 1.03588515,\n",
       "         0.8810897 , 1.13157911, 1.09224047, 0.54239464, 1.21789044,\n",
       "         0.86447576, 0.54121576, 0.9408647 , 0.86041537, 0.26592274,\n",
       "         0.24143798, 0.84926105, 0.69465601, 0.71302182, 1.02080109,\n",
       "         0.6996381 , 0.54327421, 0.97236346, 0.63218503, 0.66612214,\n",
       "         1.09562671, 0.35708331, 1.09381609, 0.7913025 , 1.01523353,\n",
       "         0.04923047, 0.43187901, 0.75892047, 0.28851153, 1.08739614,\n",
       "         0.76036554, 0.93387587, 0.56799628, 0.85367465, 0.98069213,\n",
       "         1.1923761 , 0.53871427, 0.51081887, 1.05318707, 0.96701247,\n",
       "         0.84349879, 0.16209177, 0.76989059, 0.89228683, 0.90101435,\n",
       "         1.30930149, 0.37715577, 0.69081953, 0.93610205, 0.76019682,\n",
       "         0.22799149, 0.70377569, 0.88372633, 0.25033971, 0.8372787 ,\n",
       "         0.71040179, 0.93183322, 1.08686109, 0.0924127 , 0.52501263,\n",
       "         0.70525642, 0.79657114, 0.62274424, 0.41107665, 0.50354366,\n",
       "         0.32708166, 1.19370641, 0.69268561, 0.87059788, 1.17166815,\n",
       "         0.29534617, 0.49774537, 0.62287543, 0.68956575, 0.7561579 ,\n",
       "         0.83986444, 0.87642355, 0.36299467, 0.18045786, 0.56561737,\n",
       "         0.93994853, 0.85147067, 0.68520367, 0.97768033, 0.85211342,\n",
       "         0.65349947, 1.03902679, 1.08953413, 1.10072491, 0.94023391,\n",
       "         0.76202358, 0.36119675, 0.45442246, 0.55992223, 0.30733476,\n",
       "         0.80724288, 0.87200015, 0.37720936, 0.45017653, 0.96723981,\n",
       "         0.7346843 , 0.81515141, 1.20028109, 0.69446993, 0.31189757,\n",
       "         1.01992729, 0.87946588, 1.02418586, 1.23578138, 0.96378659,\n",
       "         0.90880611, 0.82754743, 0.07009595, 0.97972055, 0.70212953,\n",
       "         0.62669158, 1.20705102, 1.07223919, 0.91284541, 0.67588571,\n",
       "         0.54633424, 0.92445798, 0.85272042, 0.73593328, 0.81506976,\n",
       "         0.92653082, 0.91373984, 0.77888207, 0.86876926, 1.06992981,\n",
       "         0.80257105, 1.08200511, 0.89467088, 0.99195214, 0.72211232,\n",
       "         0.96316894, 0.84587409, 0.80545869, 0.72823207, 0.79267012,\n",
       "         0.3484708 , 0.37166284, 1.20232456, 1.01029031, 1.17253855,\n",
       "         0.99648196, 0.71542665, 0.38973501, 0.21041148, 0.42764507,\n",
       "         0.58952691, 0.96386221, 0.33230009, 0.4532932 , 1.00579741,\n",
       "         1.23585247, 0.57565248, 0.59561227, 0.82354143, 0.81209476,\n",
       "         0.36746608, 0.6508605 , 0.46782927, 0.67711576, 0.78891703,\n",
       "         0.89284074, 1.28184943, 1.25230911, 0.75399145, 1.01165257,\n",
       "         0.74865458, 0.43617081, 0.34895013, 1.14908915, 1.01981216,\n",
       "         0.25493517, 0.58409494, 0.32570041, 0.28925504, 1.04919211,\n",
       "         0.78882027, 0.9777132 , 0.74113338, 0.10929335, 0.65264912,\n",
       "         0.4048972 , 0.76584983, 1.33802057, 0.78320253, 0.33369533,\n",
       "         0.69914529, 0.94716095, 0.9023331 , 0.55706482, 1.28457566,\n",
       "         0.73079576, 0.77997027, 0.99027722, 0.3410709 , 0.41996332,\n",
       "         0.88466886, 0.82317859, 0.75033758, 1.07106263, 0.82137258,\n",
       "         0.55761288, 0.56138596, 0.88006162, 1.01974316, 1.13905951,\n",
       "         0.76498886, 0.18738989, 0.75748527, 1.01604207, 0.91738794,\n",
       "         0.69062908, 0.36088342, 1.07100418, 0.76625264, 0.88057305,\n",
       "         1.06447804, 0.42502952, 0.50360569, 0.51264954, 0.94305758,\n",
       "         0.97110634, 0.194442  , 0.40624478, 0.74689373, 0.98966089,\n",
       "         0.67741762, 1.05925659, 0.78936982, 0.76707368, 0.47248055,\n",
       "         1.04435462, 0.45699244, 0.94395532, 1.076093  , 0.86956252,\n",
       "         0.6407674 , 0.81793749, 0.87584878, 0.707243  , 0.97180497,\n",
       "         0.82370733, 1.26430425, 1.05917838, 0.46885248, 0.42950574,\n",
       "         0.323654  , 0.32959545, 0.41045787, 0.99939363, 0.4305831 ,\n",
       "         0.56063889, 1.23358788, 0.8105258 , 1.0241223 , 1.04185912,\n",
       "         0.34050411, 1.0522109 , 0.58183288, 0.44362408, 0.65779539,\n",
       "         1.05211805, 0.52639526, 0.76614495, 0.60731886, 0.40707887,\n",
       "         0.94051718, 0.59601545, 0.74309071, 0.53958329, 0.92079239,\n",
       "         0.80700496, 0.90443769, 0.97845108, 0.25386969, 0.92527061,\n",
       "         0.68146616, 0.97646184, 0.71785867, 0.48224279, 1.01553163,\n",
       "         0.9529249 , 0.42530959, 0.41863768, 1.11910201, 0.56897303,\n",
       "         0.51360036, 0.50467815, 0.83535344, 0.41829591, 0.53256192,\n",
       "         0.28516953, 0.9466139 , 0.51045262, 0.53974492, 0.83557819,\n",
       "         0.50741697, 0.9707346 , 0.94926437, 0.24397091, 0.32325811,\n",
       "         0.55216376, 0.6736503 , 0.92091694, 0.91791072, 0.22743071,\n",
       "         0.92102476, 0.58597462, 1.09722606, 0.68677181, 0.70918023,\n",
       "         0.79033246, 1.21363556, 0.96681381, 0.76202199, 0.70450536,\n",
       "         1.34187178, 0.66686829, 0.59584622, 0.66608426, 0.60465515,\n",
       "         0.85509738, 1.04728098, 0.67696916, 0.46475927, 0.60628078,\n",
       "         0.69534424, 0.89978765, 0.82096576, 1.0988127 , 1.13686034,\n",
       "         0.88651057, 0.31126912, 0.96398907, 0.69817256, 0.33535404,\n",
       "         0.73118707, 1.30981814, 1.06540364, 0.38982002, 0.9374801 ,\n",
       "         0.47901786, 0.56087251, 1.04891796, 0.96809717, 1.04353157,\n",
       "         0.87173703, 1.22332112, 0.88728655, 1.04782662, 0.85528283,\n",
       "         0.62436623, 0.53831427, 0.94646168, 0.86488289, 0.895023  ,\n",
       "         1.02635292, 0.31178775, 1.21900516, 0.8304147 , 1.06739643,\n",
       "         0.74382642, 1.05652328, 0.8988547 , 0.79624524, 0.48721024,\n",
       "         1.20303763, 0.46800589, 1.0044143 , 1.04094843, 0.53619655,\n",
       "         0.87315688, 0.40639196, 0.15502125, 0.72024641, 1.03869153,\n",
       "         0.53929408, 1.1563874 , 0.330048  , 0.84936471, 1.04958683,\n",
       "         0.38567575, 0.99094171, 0.14429537, 0.12296217, 0.79769673,\n",
       "         1.05688556, 0.84142723, 0.86631545, 0.735417  , 1.01908046,\n",
       "         1.0207009 , 0.96088727, 0.39624628, 0.4453026 , 0.60136683,\n",
       "         0.62600925, 0.92147676, 0.69735216, 1.15134564, 0.77215744,\n",
       "         0.90367151, 1.00430977, 0.5584736 , 0.99311759, 1.04932701,\n",
       "         1.00834864, 0.76390331, 0.67841364, 0.97499673, 0.32737258,\n",
       "         0.58503009, 0.88471408, 0.92681423, 1.060878  , 0.87667949,\n",
       "         1.2989401 , 0.77249128, 0.55513681, 0.83314501, 0.71717889,\n",
       "         0.62025664, 0.44799586, 0.54100469, 0.70621789, 1.10020388,\n",
       "         0.71227491, 1.27974965, 0.08744276, 0.5531285 , 0.75392088,\n",
       "         0.9564169 , 0.77043027, 0.85116987, 0.8773742 , 0.56920308,\n",
       "         1.26484891, 1.00283648, 1.08729998, 0.97591124, 0.85756231,\n",
       "         0.7570305 , 1.02761954, 1.07880019, 0.62047887, 0.62347185,\n",
       "         0.03324772, 1.0079775 , 0.61562851, 0.79037432, 0.9012683 ,\n",
       "         0.89312542, 0.52618334, 0.75453884, 0.70940267, 0.78313203,\n",
       "         0.2696743 , 0.83038203, 0.93454919, 0.66119301, 0.79068679,\n",
       "         0.8659644 , 0.52581631, 0.33887868, 0.42126139, 0.76420022,\n",
       "         0.2899584 , 1.19759816, 1.11105918, 0.74230153, 0.7120187 ,\n",
       "         1.00679951, 0.62850936, 0.85942057, 0.71131735, 0.89393371,\n",
       "         0.7450905 , 1.21765424, 0.17178434, 1.00420158, 0.47081709,\n",
       "         1.33693243, 0.26240218, 1.10973361, 0.73089344, 1.07576517,\n",
       "         0.42099394, 1.06644984, 1.22722276, 0.41303417, 0.45447569,\n",
       "         0.71301296, 1.12921291, 0.18542481, 1.28715775, 0.80360721,\n",
       "         0.54419244, 0.96543806, 1.09377331, 0.65172495, 0.98954328,\n",
       "         0.35735889, 0.63316049, 0.55108885, 0.85376729, 1.00465202,\n",
       "         1.14895449, 0.54306967, 0.65561588, 0.71330498, 0.2843489 ,\n",
       "         1.07345407, 1.05502962, 0.30073862, 0.22915569, 0.95525474,\n",
       "         1.23727869, 1.1293508 , 0.91905262, 0.74634701, 0.60375928,\n",
       "         0.96718625, 0.94130231, 1.34341093, 0.47220955, 0.1250027 ,\n",
       "         0.3002945 , 0.74373264, 0.79105455, 0.95497432, 0.70318701,\n",
       "         1.05457518, 1.25103503, 0.99076593, 0.34419399, 0.78853498,\n",
       "         0.44837062, 0.76358312, 0.49668521, 0.46831994, 1.01767009,\n",
       "         0.50620006, 0.91042792, 1.04855361, 0.58686761, 0.87943047,\n",
       "         0.63560551, 0.63418769, 0.81096176, 0.38969137, 0.75110397,\n",
       "         1.03878486, 0.68323872, 1.11359665, 0.99690123, 0.91259946,\n",
       "         1.06055596, 0.99832203, 1.07661085, 0.76624872, 0.95257848,\n",
       "         0.89097509, 0.45412515, 1.02391579, 0.80652226, 1.31780992,\n",
       "         1.06620021, 0.6824757 , 0.82679728, 0.70294971, 1.08343139]),\n",
       "  32: array([ True,  True,  True,  True, False,  True,  True,  True,  True,\n",
       "          True,  True,  True,  True,  True,  True, False, False,  True,\n",
       "          True, False,  True, False,  True,  True,  True, False,  True,\n",
       "          True,  True,  True,  True, False,  True, False, False,  True,\n",
       "          True, False,  True,  True, False,  True,  True,  True, False,\n",
       "          True, False, False,  True, False,  True,  True,  True,  True,\n",
       "          True, False,  True,  True,  True, False,  True,  True,  True,\n",
       "          True,  True,  True,  True,  True,  True,  True,  True,  True,\n",
       "          True,  True,  True,  True,  True, False,  True,  True, False,\n",
       "         False,  True,  True,  True,  True,  True,  True, False,  True,\n",
       "          True, False, False, False,  True,  True,  True,  True,  True,\n",
       "          True,  True, False,  True,  True,  True,  True, False, False,\n",
       "          True, False,  True,  True,  True,  True,  True, False,  True,\n",
       "          True,  True,  True,  True,  True,  True,  True,  True,  True,\n",
       "          True,  True,  True,  True, False,  True, False, False,  True,\n",
       "          True,  True, False,  True,  True,  True,  True,  True,  True,\n",
       "          True, False,  True,  True,  True,  True, False,  True, False,\n",
       "          True,  True,  True, False,  True,  True,  True,  True, False,\n",
       "          True,  True, False,  True,  True,  True,  True,  True,  True,\n",
       "          True,  True, False,  True,  True,  True,  True,  True,  True,\n",
       "          True,  True, False,  True, False,  True,  True,  True,  True,\n",
       "          True,  True,  True,  True, False,  True,  True, False,  True,\n",
       "          True, False,  True,  True,  True,  True,  True,  True,  True,\n",
       "          True, False,  True,  True, False, False, False, False,  True,\n",
       "         False,  True,  True,  True,  True, False,  True,  True, False,\n",
       "          True, False,  True,  True,  True,  True,  True,  True, False,\n",
       "          True,  True,  True,  True,  True,  True,  True,  True, False,\n",
       "          True,  True,  True,  True,  True,  True,  True,  True,  True,\n",
       "          True,  True,  True,  True,  True, False,  True,  True,  True,\n",
       "          True,  True, False,  True,  True,  True,  True,  True,  True,\n",
       "          True, False,  True,  True,  True, False,  True, False,  True,\n",
       "          True,  True,  True,  True,  True,  True,  True,  True,  True,\n",
       "          True,  True,  True,  True,  True, False,  True,  True,  True,\n",
       "          True,  True,  True,  True,  True,  True,  True,  True,  True,\n",
       "          True, False,  True,  True,  True, False,  True, False, False,\n",
       "         False,  True,  True,  True,  True,  True,  True,  True,  True,\n",
       "         False,  True,  True, False,  True,  True,  True,  True,  True,\n",
       "          True,  True,  True, False,  True,  True,  True,  True, False,\n",
       "          True,  True, False,  True,  True, False, False,  True,  True,\n",
       "          True,  True,  True,  True,  True, False,  True,  True, False,\n",
       "         False,  True, False,  True,  True,  True,  True,  True,  True,\n",
       "         False,  True,  True,  True,  True,  True,  True, False,  True,\n",
       "          True,  True,  True,  True, False, False,  True,  True,  True,\n",
       "          True,  True, False, False,  True,  True,  True,  True, False,\n",
       "          True,  True, False,  True,  True,  True,  True,  True, False,\n",
       "         False,  True, False, False,  True,  True,  True,  True,  True,\n",
       "         False,  True,  True,  True, False,  True,  True,  True,  True,\n",
       "          True, False,  True, False, False,  True, False,  True,  True,\n",
       "          True,  True,  True,  True,  True,  True,  True, False,  True,\n",
       "          True,  True,  True,  True, False,  True, False,  True, False,\n",
       "          True,  True,  True,  True, False,  True,  True,  True,  True,\n",
       "          True, False,  True,  True, False,  True,  True,  True,  True,\n",
       "          True,  True, False,  True,  True,  True,  True,  True,  True,\n",
       "          True,  True,  True,  True,  True, False,  True,  True,  True,\n",
       "          True,  True,  True,  True,  True, False,  True,  True, False,\n",
       "          True,  True,  True,  True,  True,  True,  True,  True,  True,\n",
       "          True,  True,  True,  True,  True,  True,  True, False, False,\n",
       "         False,  True,  True,  True,  True,  True,  True,  True,  True,\n",
       "          True,  True,  True,  True,  True, False,  True,  True, False,\n",
       "          True, False, False,  True,  True,  True,  True,  True,  True,\n",
       "          True, False, False,  True,  True,  True,  True,  True,  True,\n",
       "          True,  True,  True,  True,  True, False,  True, False,  True,\n",
       "          True,  True,  True,  True,  True,  True,  True,  True,  True,\n",
       "         False, False, False,  True,  True,  True,  True,  True,  True,\n",
       "          True,  True,  True, False, False,  True,  True,  True,  True,\n",
       "          True,  True,  True,  True,  True,  True, False, False,  True,\n",
       "         False,  True,  True,  True, False, False,  True,  True,  True,\n",
       "          True, False,  True,  True,  True,  True,  True,  True,  True,\n",
       "         False,  True,  True,  True,  True,  True,  True, False,  True,\n",
       "          True,  True,  True,  True,  True,  True,  True, False,  True,\n",
       "          True,  True,  True, False, False,  True,  True,  True, False,\n",
       "          True,  True,  True, False,  True,  True, False,  True,  True,\n",
       "          True,  True,  True,  True,  True,  True,  True,  True, False,\n",
       "          True,  True,  True, False,  True,  True, False,  True,  True,\n",
       "          True,  True,  True,  True,  True, False, False,  True,  True,\n",
       "          True,  True,  True,  True,  True,  True, False,  True, False,\n",
       "         False,  True, False,  True,  True,  True, False,  True,  True,\n",
       "          True,  True,  True,  True,  True,  True,  True,  True,  True,\n",
       "          True,  True,  True,  True,  True,  True,  True, False,  True,\n",
       "          True,  True, False,  True,  True,  True,  True,  True,  True,\n",
       "          True,  True,  True,  True,  True,  True,  True,  True,  True,\n",
       "          True,  True,  True,  True,  True,  True,  True,  True, False,\n",
       "          True,  True,  True, False,  True,  True,  True, False,  True,\n",
       "          True,  True,  True,  True, False,  True,  True,  True,  True,\n",
       "          True,  True, False, False,  True,  True,  True,  True,  True,\n",
       "          True, False, False,  True,  True,  True,  True, False,  True,\n",
       "         False,  True, False,  True, False,  True,  True,  True,  True,\n",
       "          True,  True, False,  True, False,  True, False,  True, False,\n",
       "          True,  True,  True, False,  True, False, False,  True,  True,\n",
       "          True,  True,  True, False,  True, False,  True,  True, False,\n",
       "          True,  True,  True,  True,  True, False,  True,  True,  True,\n",
       "         False, False,  True,  True,  True,  True,  True,  True,  True,\n",
       "         False,  True,  True, False,  True,  True, False, False,  True,\n",
       "          True,  True,  True,  True,  True,  True, False,  True, False,\n",
       "          True,  True,  True,  True,  True,  True,  True,  True, False,\n",
       "          True, False,  True,  True,  True,  True,  True,  True,  True,\n",
       "          True, False, False, False,  True,  True,  True, False, False,\n",
       "          True,  True,  True, False,  True,  True,  True,  True,  True,\n",
       "          True,  True,  True,  True,  True,  True,  True,  True,  True,\n",
       "          True,  True,  True,  True,  True, False, False,  True,  True,\n",
       "         False,  True,  True,  True,  True,  True, False,  True, False,\n",
       "          True, False,  True, False,  True, False,  True, False, False,\n",
       "          True,  True,  True, False,  True, False,  True,  True,  True,\n",
       "         False,  True,  True,  True,  True,  True,  True, False, False,\n",
       "          True,  True,  True,  True, False, False,  True,  True,  True,\n",
       "         False, False,  True,  True,  True,  True,  True, False,  True,\n",
       "          True,  True,  True,  True,  True,  True, False, False,  True,\n",
       "          True,  True,  True,  True,  True,  True, False,  True,  True,\n",
       "         False,  True,  True,  True,  True,  True,  True,  True, False,\n",
       "          True, False,  True,  True, False,  True, False,  True,  True,\n",
       "          True,  True, False,  True, False, False,  True,  True,  True,\n",
       "         False]),\n",
       "  33: 3.14048,\n",
       "  34: 3.13884,\n",
       "  35: 3.14644,\n",
       "  36: 3.1408,\n",
       "  37: 0.004,\n",
       "  38: 0.004,\n",
       "  39: 0.004,\n",
       "  40: 4.0,\n",
       "  42: 0.004,\n",
       "  43: 4.0,\n",
       "  44: 3.141592653589793,\n",
       "  46: 4.0,\n",
       "  52: 4.0,\n",
       "  55: 4.0,\n",
       "  56: 4.0,\n",
       "  58: 4.0,\n",
       "  61: 2.288818359375e-05,\n",
       "  62: <function locals()>},\n",
       " '_dh': ['C:\\\\Users\\\\jaworra\\\\PycharmProjects\\\\pythonCharmers\\\\pythonTraining'],\n",
       " 'In': ['',\n",
       "  'import numpy as np',\n",
       "  'np.random.random()',\n",
       "  'np.random.random()',\n",
       "  'np.random.seed(1)\\nnp.random.random()',\n",
       "  'np.random.seed(1)\\nnp.random.random()',\n",
       "  'np.random.seed(1)\\nnp.random.random()',\n",
       "  'np.random.random(100)',\n",
       "  'np.random.random(10000,10000)',\n",
       "  'np.random.random((10000,10000))',\n",
       "  'x = np.random.random()\\ny = np.random.random()\\n\\nnp.sqrt(x **2 + y **2) < 1',\n",
       "  'x = np.random.random()\\ny = np.random.random()\\n\\nnp.sqrt(x **2 + y **2) < 1',\n",
       "  'x = np.random.random()\\ny = np.random.random()\\n\\nnp.sqrt(x **2 + y **2) < 1',\n",
       "  'def hyptenous(x,y):\\n    return np.sqrt(x **2 + y **2)',\n",
       "  'for trial in range(1000):\\n    x = np.random.random()\\n    y = np.random.random()\\n    if np.sqrt(x **2 + y **2):\\n        succcesses += 1',\n",
       "  'succcesses=0\\nfor trial in range(1000):\\n    x = np.random.random()\\n    y = np.random.random()\\n    if np.sqrt(x **2 + y **2):\\n        succcesses += 1',\n",
       "  'succcesses / 10000 * 4',\n",
       "  'succcesses / 1000 * 4',\n",
       "  'num_trials = 10000\\nsucccesses=0\\n\\nfor trial in range(num_trials):\\n    x = np.random.random()\\n    y = np.random.random()\\n    if np.sqrt(x **2 + y **2):\\n        succcesses += 1\\nsucccesses / num_trials * 4 #guess for pi',\n",
       "  'num_trials = 10000\\nsucccesses=0\\n\\nfor trial in range(num_trials):\\n    x = np.random.random()\\n    y = np.random.random()\\n    if np.sqrt(x **2 + y **2):\\n        succcesses += 1\\nsucccesses / num_trials * 4 #guess for pi',\n",
       "  'x = np.random.random()\\ny = np.random.random()\\n\\nnp.sqrt(x **2 + y **2) < 1',\n",
       "  'def hyptenous(x,y):\\n    return np.sqrt(x **2 + y **2)',\n",
       "  'num_trials = 10000\\nsucccesses=0\\n\\nfor trial in range(num_trials):\\n    x = np.random.random()\\n    y = np.random.random()\\n    if np.sqrt(x **2 + y **2):\\n        succcesses += 1\\n        \\nsucccesses / num_trials * 4 #guess for pi',\n",
       "  'num_trials = 100000\\nsucccesses=0\\n\\nfor trial in range(num_trials):\\n    x = np.random.random()\\n    y = np.random.random()\\n    if np.sqrt(x **2 + y **2):\\n        succcesses += 1\\n        \\nsucccesses / num_trials * 4 #guess for pi',\n",
       "  'num_trials = 100000\\nsucccesses=0\\n\\nfor trial in range(num_trials):\\n    x = np.random.random()\\n    y = np.random.random()\\n    if np.sqrt(x **2 + y **2):\\n        succcesses += 1\\n        \\nsucccesses / num_trials * 4 #guess for pi',\n",
       "  \"get_ipython().run_cell_magic('timeit', '', 'num_trials = 100000\\\\nsucccesses=0\\\\n\\\\nfor trial in range(num_trials):\\\\n    x = np.random.random()\\\\n    y = np.random.random()\\\\n    if np.sqrt(x **2 + y **2):\\\\n        succcesses += 1\\\\n        \\\\nsucccesses / num_trials * 4 #guess for pi\\\\n')\",\n",
       "  '#np.random.seed(1)\\nnp.random.random()',\n",
       "  \"get_ipython().run_cell_magic('timeit', '', 'num_trials = 100000\\\\nsucccesses=0\\\\n\\\\nfor trial in range(num_trials):\\\\n    x = np.random.random()\\\\n    y = np.random.random()\\\\n    if np.sqrt(x **2 + y **2):\\\\n        succcesses += 1\\\\n        \\\\nsucccesses / num_trials * 4 #guess for pi\\\\n')\",\n",
       "  '#%%timeit\\nnum_trials = 100000\\nsucccesses=0\\n\\nfor trial in range(num_trials):\\n    x = np.random.random()\\n    y = np.random.random()\\n    if np.sqrt(x **2 + y **2):\\n        succcesses += 1\\n        \\nsucccesses / num_trials * 4 #guess for pi',\n",
       "  'np.sqrt(x **2 + y **2)',\n",
       "  'x = np.random.random(1000)\\ny = np.random.random(1000)',\n",
       "  'np.sqrt(x **2 + y **2)',\n",
       "  'np.sqrt(x **2 + y **2) < 1',\n",
       "  '#%%timeit\\nnum_trials = 100000\\nsucccesses=0\\n\\nfor trial in range(num_trials):\\n    x = np.random.random()\\n    y = np.random.random()\\n    if np.sqrt(x **2 + y **2) < 1:\\n        succcesses += 1\\n        \\nsucccesses / num_trials * 4 #guess for pi',\n",
       "  '#%%timeit\\nnum_trials = 100000\\nsucccesses=0\\n\\nfor trial in range(num_trials):\\n    x = np.random.random()\\n    y = np.random.random()\\n    if np.sqrt(x **2 + y **2) < 1:\\n        succcesses += 1\\n        \\nsucccesses / num_trials * 4 #guess for pi',\n",
       "  '#%%timeit\\nnum_trials = 100000\\nsucccesses=0\\n\\nfor trial in range(num_trials):\\n    x = np.random.random()\\n    y = np.random.random()\\n    if np.sqrt(x **2 + y **2) < 1:\\n        succcesses += 1\\n        \\nsucccesses / num_trials * 4 #guess for pi',\n",
       "  '#%%timeit\\nnum_trials = 1000000\\nsucccesses=0\\n\\nfor trial in range(num_trials):\\n    x = np.random.random()\\n    y = np.random.random()\\n    if np.sqrt(x **2 + y **2) < 1:\\n        succcesses += 1\\n        \\nsucccesses / num_trials * 4 #guess for pi',\n",
       "  'inCircle = np.sqrt(x **2 + y **2) < 1\\nnp.sum(inCircle)\\nnp.sum(inCircle)/ 1000 * 4\\nnp.mean(inCircle)/ 1000 * 4',\n",
       "  'np.sum(inCircle)/ 1000 * 4',\n",
       "  'np.mean(inCircle)/ 1000 * 4',\n",
       "  'np.mean(inCircle) * 4',\n",
       "  'inCircle = np.sqrt(x **2 + y **2) < 1',\n",
       "  'np.sum(inCircle)/ 1000 * 4',\n",
       "  'np.mean(inCircle) * 4',\n",
       "  'np.pi',\n",
       "  \"get_ipython().run_cell_magic('timeit', '', 'x = np.random.random(1000000)\\\\ny = np.random.random(1000000)\\\\n\\\\ninCircle = np.sqrt(x **2 + y **2) < 1\\\\nnp.mean(inCircle) * 4\\\\n')\",\n",
       "  'np.mean(inCircle) * 4',\n",
       "  \"get_ipython().run_cell_magic('timeit', '', 'for trial in range(1000000):\\\\n    x = np.random.random()\\\\n    y = np.random.random()\\\\n    if np.sqrt(x **2 + y **2) < 1:\\\\n        succcesses += 1\\\\n        \\\\nsucccesses / num_trials * 4 #guess for pi\\\\n')\",\n",
       "  \"get_ipython().run_cell_magic('timeit', '', 'for trial in range(1000000):\\\\n    x = np.random.random(1000000)\\\\n    y = np.random.random(1000000)\\\\n    if np.sqrt(x **2 + y **2) < 1:\\\\n        succcesses += 1\\\\n        \\\\nsucccesses / num_trials * 4 #guess for pi\\\\n')\",\n",
       "  \"get_ipython().run_cell_magic('timeit', '', '\\\\nfor trial in range(1000000):\\\\n    x = np.random.random(1000000)\\\\n    y = np.random.random(1000000)\\\\n    if np.sqrt(x **2 + y **2) < 1:\\\\n        succcesses += 1\\\\n        \\\\nsucccesses / num_trials * 4 #guess for pi\\\\n')\",\n",
       "  \"get_ipython().run_cell_magic('timeit', '', 'for trial in range(1000000):\\\\n    x = np.random.random()\\\\n    y = np.random.random()\\\\n    if np.sqrt(x **2 + y **2) < 1:\\\\n        succcesses += 1\\\\n        \\\\nsucccesses / num_trials * 4 #guess for pi\\\\n')\",\n",
       "  \"get_ipython().run_cell_magic('timeit', '', 'num_trials = 1000000\\\\nsucccesses=0\\\\nfor trial in range(num_trials):\\\\n    x = np.random.random()\\\\n    y = np.random.random()\\\\n    if np.sqrt(x **2 + y **2) < 1:\\\\n        succcesses += 1\\\\n        \\\\nsucccesses / num_trials * 4 #guess for pi\\\\n')\",\n",
       "  'np.mean(inCircle) * 4',\n",
       "  \"get_ipython().run_cell_magic('timeit', '', 'x = np.random.random(1000000)\\\\ny = np.random.random(1000000)\\\\n\\\\ninCircle = np.sqrt(x **2 + y **2) < 1\\\\n')\",\n",
       "  \"get_ipython().run_cell_magic('timeit', '', 'numTrials = 1000000\\\\nx = np.random.random(numTrials)\\\\ny = np.random.random(numTrials)\\\\n\\\\ninCircle = np.sqrt(x**2 + y**2) < 1\\\\n')\",\n",
       "  'np.mean(inCircle) * 4',\n",
       "  'np.mean(inCircle) * 4',\n",
       "  \"get_ipython().run_cell_magic('timeit', '', 'numTrials = 1000000\\\\nx = np.random.random(numTrials)\\\\ny = np.random.random(numTrials)\\\\n\\\\ninCircle = np.sqrt(x**2 + y**2) < 1\\\\n')\",\n",
       "  'np.mean(inCircle) * 4',\n",
       "  'import sys',\n",
       "  'getsizeof(x) / 1024 /1024',\n",
       "  'sys.getsizeof(x) / 1024 /1024',\n",
       "  'locals',\n",
       "  'locals()'],\n",
       " 'Out': {2: 0.6965488409732352,\n",
       "  3: 0.2808857999562232,\n",
       "  4: 0.417022004702574,\n",
       "  5: 0.417022004702574,\n",
       "  6: 0.417022004702574,\n",
       "  7: array([7.20324493e-01, 1.14374817e-04, 3.02332573e-01, 1.46755891e-01,\n",
       "         9.23385948e-02, 1.86260211e-01, 3.45560727e-01, 3.96767474e-01,\n",
       "         5.38816734e-01, 4.19194514e-01, 6.85219500e-01, 2.04452250e-01,\n",
       "         8.78117436e-01, 2.73875932e-02, 6.70467510e-01, 4.17304802e-01,\n",
       "         5.58689828e-01, 1.40386939e-01, 1.98101489e-01, 8.00744569e-01,\n",
       "         9.68261576e-01, 3.13424178e-01, 6.92322616e-01, 8.76389152e-01,\n",
       "         8.94606664e-01, 8.50442114e-02, 3.90547832e-02, 1.69830420e-01,\n",
       "         8.78142503e-01, 9.83468338e-02, 4.21107625e-01, 9.57889530e-01,\n",
       "         5.33165285e-01, 6.91877114e-01, 3.15515631e-01, 6.86500928e-01,\n",
       "         8.34625672e-01, 1.82882773e-02, 7.50144315e-01, 9.88861089e-01,\n",
       "         7.48165654e-01, 2.80443992e-01, 7.89279328e-01, 1.03226007e-01,\n",
       "         4.47893526e-01, 9.08595503e-01, 2.93614148e-01, 2.87775339e-01,\n",
       "         1.30028572e-01, 1.93669579e-02, 6.78835533e-01, 2.11628116e-01,\n",
       "         2.65546659e-01, 4.91573159e-01, 5.33625451e-02, 5.74117605e-01,\n",
       "         1.46728575e-01, 5.89305537e-01, 6.99758360e-01, 1.02334429e-01,\n",
       "         4.14055988e-01, 6.94400158e-01, 4.14179270e-01, 4.99534589e-02,\n",
       "         5.35896406e-01, 6.63794645e-01, 5.14889112e-01, 9.44594756e-01,\n",
       "         5.86555041e-01, 9.03401915e-01, 1.37474704e-01, 1.39276347e-01,\n",
       "         8.07391289e-01, 3.97676837e-01, 1.65354197e-01, 9.27508580e-01,\n",
       "         3.47765860e-01, 7.50812103e-01, 7.25997985e-01, 8.83306091e-01,\n",
       "         6.23672207e-01, 7.50942434e-01, 3.48898342e-01, 2.69927892e-01,\n",
       "         8.95886218e-01, 4.28091190e-01, 9.64840047e-01, 6.63441498e-01,\n",
       "         6.21695720e-01, 1.14745973e-01, 9.49489259e-01, 4.49912133e-01,\n",
       "         5.78389614e-01, 4.08136803e-01, 2.37026980e-01, 9.03379521e-01,\n",
       "         5.73679487e-01, 2.87032703e-03, 6.17144914e-01, 3.26644902e-01]),\n",
       "  9: array([[0.5270581 , 0.8859421 , 0.35726976, ..., 0.76336024, 0.86404021,\n",
       "          0.70792747],\n",
       "         [0.94801722, 0.0469936 , 0.87398889, ..., 0.15330814, 0.84598688,\n",
       "          0.27872785],\n",
       "         [0.90185046, 0.37733316, 0.77290415, ..., 0.26913925, 0.43425152,\n",
       "          0.25913873],\n",
       "         ...,\n",
       "         [0.34535495, 0.32799136, 0.97476837, ..., 0.15854353, 0.09546152,\n",
       "          0.15600181],\n",
       "         [0.93806532, 0.78887973, 0.90718296, ..., 0.74254302, 0.80722865,\n",
       "          0.16320015],\n",
       "         [0.30936233, 0.68123105, 0.06640435, ..., 0.35351118, 0.29481217,\n",
       "          0.52091796]]),\n",
       "  10: False,\n",
       "  11: False,\n",
       "  12: True,\n",
       "  16: 0.4,\n",
       "  17: 4.0,\n",
       "  18: 4.0,\n",
       "  19: 4.0,\n",
       "  20: False,\n",
       "  22: 4.0,\n",
       "  23: 4.0,\n",
       "  24: 4.0,\n",
       "  26: 0.9365759901909323,\n",
       "  28: 4.0,\n",
       "  29: 0.3005844015281511,\n",
       "  31: array([0.29467217, 0.60281694, 0.27667553, 0.87587619, 1.23884108,\n",
       "         0.85172453, 0.05970262, 0.88248812, 0.6101584 , 0.94206721,\n",
       "         0.70588776, 0.9108879 , 0.66130741, 0.65482863, 0.95135665,\n",
       "         1.26749401, 1.04274031, 0.67677444, 0.37312913, 1.3254791 ,\n",
       "         0.98550579, 1.17366723, 0.99443364, 0.08444441, 0.93862567,\n",
       "         1.08430546, 0.86440074, 0.86486314, 0.249236  , 0.2274402 ,\n",
       "         0.45488993, 1.10382529, 0.35310638, 1.24856771, 1.02397987,\n",
       "         0.47474521, 0.16500678, 1.28295315, 0.81978815, 0.28434294,\n",
       "         1.03207258, 0.92659466, 0.96180698, 0.29847704, 1.03029581,\n",
       "         0.92981029, 1.29218376, 1.01247937, 0.97367792, 1.07526854,\n",
       "         0.27597901, 0.32848242, 0.62069759, 0.71571832, 0.98770393,\n",
       "         1.15630149, 0.30480478, 0.59402795, 0.94639824, 1.00214084,\n",
       "         0.20290109, 0.18459367, 0.51869595, 0.87837444, 0.15441655,\n",
       "         0.84125833, 0.97276776, 0.32911844, 0.52594631, 0.74271594,\n",
       "         0.63464421, 0.77910409, 0.57594029, 0.88254427, 0.91978537,\n",
       "         0.99149332, 0.98366202, 1.19677486, 0.79222396, 0.38853882,\n",
       "         1.08890911, 1.0709673 , 0.59139198, 0.14640386, 0.95311369,\n",
       "         0.95376802, 0.79802237, 0.21800077, 1.11368647, 0.80269551,\n",
       "         0.84561939, 1.31865227, 1.18757209, 1.07062265, 0.12681488,\n",
       "         0.63245086, 0.9421163 , 0.80701254, 0.88732028, 0.51636757,\n",
       "         0.9468844 , 1.06683903, 0.94014798, 0.87790595, 0.92061198,\n",
       "         0.55585666, 1.23495737, 1.17277028, 0.72715295, 1.11994896,\n",
       "         0.78417372, 0.74829931, 0.31482941, 0.8206845 , 0.45566565,\n",
       "         1.03314811, 0.94894871, 0.48649714, 0.56568282, 0.94535037,\n",
       "         0.91293249, 0.12635688, 0.9437875 , 0.76717729, 0.5435033 ,\n",
       "         0.98344507, 0.896886  , 0.97459456, 0.56462005, 0.56989771,\n",
       "         1.24078027, 0.84789089, 1.12622381, 1.02230098, 0.5246428 ,\n",
       "         0.87381653, 0.93052778, 1.23093166, 0.61824224, 0.53144495,\n",
       "         0.8676342 , 0.8907146 , 0.93325949, 0.72315265, 0.84092441,\n",
       "         1.12477565, 0.31963734, 0.87371822, 0.80387003, 0.68528603,\n",
       "         1.22129532, 0.89178762, 1.23809986, 0.79766652, 0.09628347,\n",
       "         0.50982819, 1.23619179, 0.77568932, 0.58709442, 0.42659873,\n",
       "         0.85332689, 1.13447789, 0.97106194, 0.09626415, 1.03575954,\n",
       "         0.67604106, 0.87546022, 0.80039467, 0.90081464, 0.37275121,\n",
       "         0.61823216, 0.61881626, 0.44697357, 1.2207887 , 0.59085582,\n",
       "         0.71317918, 0.90763154, 0.28898335, 0.81573548, 0.92206507,\n",
       "         0.69883122, 0.23839989, 1.06480041, 0.46709592, 1.04370887,\n",
       "         0.64903652, 0.99861338, 0.99857999, 0.70388215, 0.72998229,\n",
       "         0.62636377, 0.99193623, 0.44016178, 1.15809215, 0.04258449,\n",
       "         0.81364488, 1.0929159 , 0.66985506, 0.95438625, 1.15180559,\n",
       "         0.80015333, 0.91311256, 0.21701594, 0.98125574, 0.66426578,\n",
       "         0.8777751 , 0.68523246, 0.78030181, 1.14521441, 0.75486284,\n",
       "         0.77720533, 1.0235899 , 1.02715674, 1.09131266, 1.08107974,\n",
       "         0.93033943, 1.13827792, 0.78230441, 0.60163128, 0.76441755,\n",
       "         0.89113519, 1.06525796, 0.89200535, 0.41890159, 1.02567772,\n",
       "         0.52544556, 1.01561642, 0.34114647, 0.17706554, 0.96500021,\n",
       "         0.86785299, 0.63183164, 0.45894991, 1.03452662, 0.62066752,\n",
       "         0.59188365, 0.68327691, 0.77179675, 0.68684392, 0.08831624,\n",
       "         0.99071321, 0.79319814, 1.01389337, 0.71281174, 0.41639224,\n",
       "         0.95314974, 0.32254541, 0.57041093, 0.95850624, 0.60777771,\n",
       "         0.61937263, 0.96255509, 0.89929581, 0.78537852, 0.39294365,\n",
       "         0.71284341, 0.93075621, 1.18460453, 0.80925798, 0.90716533,\n",
       "         0.50771467, 0.99977705, 0.31741643, 1.01487121, 0.90039589,\n",
       "         0.65544801, 0.65670903, 0.79400563, 0.69585017, 0.48563197,\n",
       "         0.62025012, 1.23332971, 0.96525766, 0.72192536, 0.48711692,\n",
       "         1.08097792, 0.54859876, 1.13277894, 0.89318984, 0.65327563,\n",
       "         0.57636751, 0.79504326, 0.99040822, 0.81049966, 0.6011717 ,\n",
       "         0.86221559, 0.95913416, 0.75722328, 0.91580403, 0.56595408,\n",
       "         0.64511573, 0.58894247, 0.6305061 , 1.13233377, 0.97191504,\n",
       "         0.83921915, 0.61100484, 0.59804263, 0.76509843, 0.67606789,\n",
       "         0.98462074, 0.48567472, 0.84876183, 0.84058155, 0.4728229 ,\n",
       "         0.644046  , 0.12601014, 1.10774113, 0.92427937, 0.81357547,\n",
       "         0.86484652, 1.16247071, 0.38532272, 1.21246135, 1.14889178,\n",
       "         1.04001058, 0.6785383 , 0.98201388, 0.6834915 , 0.19691238,\n",
       "         0.77515134, 0.80733073, 0.34792406, 0.55147334, 1.18150219,\n",
       "         0.73185562, 0.66793093, 1.33728151, 0.25072485, 0.85083966,\n",
       "         0.71292375, 0.96631636, 0.98133246, 0.99917427, 0.98650439,\n",
       "         0.7626188 , 1.07570939, 0.97232743, 0.77416271, 0.04744134,\n",
       "         0.94414069, 1.0611536 , 0.53604374, 0.88535375, 1.07693564,\n",
       "         0.80670014, 0.58573106, 1.16884784, 1.01803145, 0.13637136,\n",
       "         0.290595  , 0.36043831, 0.63999043, 0.94434798, 0.86651381,\n",
       "         0.96243384, 1.0069323 , 0.69643992, 0.53652882, 1.06542075,\n",
       "         1.0422874 , 0.81255622, 1.28334103, 0.82324838, 0.87912183,\n",
       "         0.73809722, 0.98848852, 0.22489213, 0.91536214, 1.21284856,\n",
       "         0.9407292 , 0.85707563, 0.59366857, 0.89136702, 0.89227877,\n",
       "         0.61270086, 1.34976992, 0.25697664, 0.19482356, 0.63380607,\n",
       "         0.91262019, 0.8960309 , 1.01175216, 1.07931924, 0.8343685 ,\n",
       "         0.08449947, 0.50799735, 0.59962095, 0.63673833, 1.10268732,\n",
       "         1.18181307, 0.85368277, 0.82321724, 0.47289086, 0.56352158,\n",
       "         1.10429021, 0.58788972, 0.7986088 , 1.03650825, 0.85808859,\n",
       "         0.93058997, 0.54563096, 0.82206055, 0.25159158, 1.18434565,\n",
       "         1.18586373, 0.80684221, 1.21955621, 1.32735349, 0.51726121,\n",
       "         0.16953013, 0.68037467, 0.7058819 , 0.92606577, 1.07813219,\n",
       "         0.26006436, 0.36503969, 0.27576984, 1.00979468, 0.72331704,\n",
       "         0.80951167, 0.98713254, 0.26192023, 0.22214487, 1.03588515,\n",
       "         0.8810897 , 1.13157911, 1.09224047, 0.54239464, 1.21789044,\n",
       "         0.86447576, 0.54121576, 0.9408647 , 0.86041537, 0.26592274,\n",
       "         0.24143798, 0.84926105, 0.69465601, 0.71302182, 1.02080109,\n",
       "         0.6996381 , 0.54327421, 0.97236346, 0.63218503, 0.66612214,\n",
       "         1.09562671, 0.35708331, 1.09381609, 0.7913025 , 1.01523353,\n",
       "         0.04923047, 0.43187901, 0.75892047, 0.28851153, 1.08739614,\n",
       "         0.76036554, 0.93387587, 0.56799628, 0.85367465, 0.98069213,\n",
       "         1.1923761 , 0.53871427, 0.51081887, 1.05318707, 0.96701247,\n",
       "         0.84349879, 0.16209177, 0.76989059, 0.89228683, 0.90101435,\n",
       "         1.30930149, 0.37715577, 0.69081953, 0.93610205, 0.76019682,\n",
       "         0.22799149, 0.70377569, 0.88372633, 0.25033971, 0.8372787 ,\n",
       "         0.71040179, 0.93183322, 1.08686109, 0.0924127 , 0.52501263,\n",
       "         0.70525642, 0.79657114, 0.62274424, 0.41107665, 0.50354366,\n",
       "         0.32708166, 1.19370641, 0.69268561, 0.87059788, 1.17166815,\n",
       "         0.29534617, 0.49774537, 0.62287543, 0.68956575, 0.7561579 ,\n",
       "         0.83986444, 0.87642355, 0.36299467, 0.18045786, 0.56561737,\n",
       "         0.93994853, 0.85147067, 0.68520367, 0.97768033, 0.85211342,\n",
       "         0.65349947, 1.03902679, 1.08953413, 1.10072491, 0.94023391,\n",
       "         0.76202358, 0.36119675, 0.45442246, 0.55992223, 0.30733476,\n",
       "         0.80724288, 0.87200015, 0.37720936, 0.45017653, 0.96723981,\n",
       "         0.7346843 , 0.81515141, 1.20028109, 0.69446993, 0.31189757,\n",
       "         1.01992729, 0.87946588, 1.02418586, 1.23578138, 0.96378659,\n",
       "         0.90880611, 0.82754743, 0.07009595, 0.97972055, 0.70212953,\n",
       "         0.62669158, 1.20705102, 1.07223919, 0.91284541, 0.67588571,\n",
       "         0.54633424, 0.92445798, 0.85272042, 0.73593328, 0.81506976,\n",
       "         0.92653082, 0.91373984, 0.77888207, 0.86876926, 1.06992981,\n",
       "         0.80257105, 1.08200511, 0.89467088, 0.99195214, 0.72211232,\n",
       "         0.96316894, 0.84587409, 0.80545869, 0.72823207, 0.79267012,\n",
       "         0.3484708 , 0.37166284, 1.20232456, 1.01029031, 1.17253855,\n",
       "         0.99648196, 0.71542665, 0.38973501, 0.21041148, 0.42764507,\n",
       "         0.58952691, 0.96386221, 0.33230009, 0.4532932 , 1.00579741,\n",
       "         1.23585247, 0.57565248, 0.59561227, 0.82354143, 0.81209476,\n",
       "         0.36746608, 0.6508605 , 0.46782927, 0.67711576, 0.78891703,\n",
       "         0.89284074, 1.28184943, 1.25230911, 0.75399145, 1.01165257,\n",
       "         0.74865458, 0.43617081, 0.34895013, 1.14908915, 1.01981216,\n",
       "         0.25493517, 0.58409494, 0.32570041, 0.28925504, 1.04919211,\n",
       "         0.78882027, 0.9777132 , 0.74113338, 0.10929335, 0.65264912,\n",
       "         0.4048972 , 0.76584983, 1.33802057, 0.78320253, 0.33369533,\n",
       "         0.69914529, 0.94716095, 0.9023331 , 0.55706482, 1.28457566,\n",
       "         0.73079576, 0.77997027, 0.99027722, 0.3410709 , 0.41996332,\n",
       "         0.88466886, 0.82317859, 0.75033758, 1.07106263, 0.82137258,\n",
       "         0.55761288, 0.56138596, 0.88006162, 1.01974316, 1.13905951,\n",
       "         0.76498886, 0.18738989, 0.75748527, 1.01604207, 0.91738794,\n",
       "         0.69062908, 0.36088342, 1.07100418, 0.76625264, 0.88057305,\n",
       "         1.06447804, 0.42502952, 0.50360569, 0.51264954, 0.94305758,\n",
       "         0.97110634, 0.194442  , 0.40624478, 0.74689373, 0.98966089,\n",
       "         0.67741762, 1.05925659, 0.78936982, 0.76707368, 0.47248055,\n",
       "         1.04435462, 0.45699244, 0.94395532, 1.076093  , 0.86956252,\n",
       "         0.6407674 , 0.81793749, 0.87584878, 0.707243  , 0.97180497,\n",
       "         0.82370733, 1.26430425, 1.05917838, 0.46885248, 0.42950574,\n",
       "         0.323654  , 0.32959545, 0.41045787, 0.99939363, 0.4305831 ,\n",
       "         0.56063889, 1.23358788, 0.8105258 , 1.0241223 , 1.04185912,\n",
       "         0.34050411, 1.0522109 , 0.58183288, 0.44362408, 0.65779539,\n",
       "         1.05211805, 0.52639526, 0.76614495, 0.60731886, 0.40707887,\n",
       "         0.94051718, 0.59601545, 0.74309071, 0.53958329, 0.92079239,\n",
       "         0.80700496, 0.90443769, 0.97845108, 0.25386969, 0.92527061,\n",
       "         0.68146616, 0.97646184, 0.71785867, 0.48224279, 1.01553163,\n",
       "         0.9529249 , 0.42530959, 0.41863768, 1.11910201, 0.56897303,\n",
       "         0.51360036, 0.50467815, 0.83535344, 0.41829591, 0.53256192,\n",
       "         0.28516953, 0.9466139 , 0.51045262, 0.53974492, 0.83557819,\n",
       "         0.50741697, 0.9707346 , 0.94926437, 0.24397091, 0.32325811,\n",
       "         0.55216376, 0.6736503 , 0.92091694, 0.91791072, 0.22743071,\n",
       "         0.92102476, 0.58597462, 1.09722606, 0.68677181, 0.70918023,\n",
       "         0.79033246, 1.21363556, 0.96681381, 0.76202199, 0.70450536,\n",
       "         1.34187178, 0.66686829, 0.59584622, 0.66608426, 0.60465515,\n",
       "         0.85509738, 1.04728098, 0.67696916, 0.46475927, 0.60628078,\n",
       "         0.69534424, 0.89978765, 0.82096576, 1.0988127 , 1.13686034,\n",
       "         0.88651057, 0.31126912, 0.96398907, 0.69817256, 0.33535404,\n",
       "         0.73118707, 1.30981814, 1.06540364, 0.38982002, 0.9374801 ,\n",
       "         0.47901786, 0.56087251, 1.04891796, 0.96809717, 1.04353157,\n",
       "         0.87173703, 1.22332112, 0.88728655, 1.04782662, 0.85528283,\n",
       "         0.62436623, 0.53831427, 0.94646168, 0.86488289, 0.895023  ,\n",
       "         1.02635292, 0.31178775, 1.21900516, 0.8304147 , 1.06739643,\n",
       "         0.74382642, 1.05652328, 0.8988547 , 0.79624524, 0.48721024,\n",
       "         1.20303763, 0.46800589, 1.0044143 , 1.04094843, 0.53619655,\n",
       "         0.87315688, 0.40639196, 0.15502125, 0.72024641, 1.03869153,\n",
       "         0.53929408, 1.1563874 , 0.330048  , 0.84936471, 1.04958683,\n",
       "         0.38567575, 0.99094171, 0.14429537, 0.12296217, 0.79769673,\n",
       "         1.05688556, 0.84142723, 0.86631545, 0.735417  , 1.01908046,\n",
       "         1.0207009 , 0.96088727, 0.39624628, 0.4453026 , 0.60136683,\n",
       "         0.62600925, 0.92147676, 0.69735216, 1.15134564, 0.77215744,\n",
       "         0.90367151, 1.00430977, 0.5584736 , 0.99311759, 1.04932701,\n",
       "         1.00834864, 0.76390331, 0.67841364, 0.97499673, 0.32737258,\n",
       "         0.58503009, 0.88471408, 0.92681423, 1.060878  , 0.87667949,\n",
       "         1.2989401 , 0.77249128, 0.55513681, 0.83314501, 0.71717889,\n",
       "         0.62025664, 0.44799586, 0.54100469, 0.70621789, 1.10020388,\n",
       "         0.71227491, 1.27974965, 0.08744276, 0.5531285 , 0.75392088,\n",
       "         0.9564169 , 0.77043027, 0.85116987, 0.8773742 , 0.56920308,\n",
       "         1.26484891, 1.00283648, 1.08729998, 0.97591124, 0.85756231,\n",
       "         0.7570305 , 1.02761954, 1.07880019, 0.62047887, 0.62347185,\n",
       "         0.03324772, 1.0079775 , 0.61562851, 0.79037432, 0.9012683 ,\n",
       "         0.89312542, 0.52618334, 0.75453884, 0.70940267, 0.78313203,\n",
       "         0.2696743 , 0.83038203, 0.93454919, 0.66119301, 0.79068679,\n",
       "         0.8659644 , 0.52581631, 0.33887868, 0.42126139, 0.76420022,\n",
       "         0.2899584 , 1.19759816, 1.11105918, 0.74230153, 0.7120187 ,\n",
       "         1.00679951, 0.62850936, 0.85942057, 0.71131735, 0.89393371,\n",
       "         0.7450905 , 1.21765424, 0.17178434, 1.00420158, 0.47081709,\n",
       "         1.33693243, 0.26240218, 1.10973361, 0.73089344, 1.07576517,\n",
       "         0.42099394, 1.06644984, 1.22722276, 0.41303417, 0.45447569,\n",
       "         0.71301296, 1.12921291, 0.18542481, 1.28715775, 0.80360721,\n",
       "         0.54419244, 0.96543806, 1.09377331, 0.65172495, 0.98954328,\n",
       "         0.35735889, 0.63316049, 0.55108885, 0.85376729, 1.00465202,\n",
       "         1.14895449, 0.54306967, 0.65561588, 0.71330498, 0.2843489 ,\n",
       "         1.07345407, 1.05502962, 0.30073862, 0.22915569, 0.95525474,\n",
       "         1.23727869, 1.1293508 , 0.91905262, 0.74634701, 0.60375928,\n",
       "         0.96718625, 0.94130231, 1.34341093, 0.47220955, 0.1250027 ,\n",
       "         0.3002945 , 0.74373264, 0.79105455, 0.95497432, 0.70318701,\n",
       "         1.05457518, 1.25103503, 0.99076593, 0.34419399, 0.78853498,\n",
       "         0.44837062, 0.76358312, 0.49668521, 0.46831994, 1.01767009,\n",
       "         0.50620006, 0.91042792, 1.04855361, 0.58686761, 0.87943047,\n",
       "         0.63560551, 0.63418769, 0.81096176, 0.38969137, 0.75110397,\n",
       "         1.03878486, 0.68323872, 1.11359665, 0.99690123, 0.91259946,\n",
       "         1.06055596, 0.99832203, 1.07661085, 0.76624872, 0.95257848,\n",
       "         0.89097509, 0.45412515, 1.02391579, 0.80652226, 1.31780992,\n",
       "         1.06620021, 0.6824757 , 0.82679728, 0.70294971, 1.08343139]),\n",
       "  32: array([ True,  True,  True,  True, False,  True,  True,  True,  True,\n",
       "          True,  True,  True,  True,  True,  True, False, False,  True,\n",
       "          True, False,  True, False,  True,  True,  True, False,  True,\n",
       "          True,  True,  True,  True, False,  True, False, False,  True,\n",
       "          True, False,  True,  True, False,  True,  True,  True, False,\n",
       "          True, False, False,  True, False,  True,  True,  True,  True,\n",
       "          True, False,  True,  True,  True, False,  True,  True,  True,\n",
       "          True,  True,  True,  True,  True,  True,  True,  True,  True,\n",
       "          True,  True,  True,  True,  True, False,  True,  True, False,\n",
       "         False,  True,  True,  True,  True,  True,  True, False,  True,\n",
       "          True, False, False, False,  True,  True,  True,  True,  True,\n",
       "          True,  True, False,  True,  True,  True,  True, False, False,\n",
       "          True, False,  True,  True,  True,  True,  True, False,  True,\n",
       "          True,  True,  True,  True,  True,  True,  True,  True,  True,\n",
       "          True,  True,  True,  True, False,  True, False, False,  True,\n",
       "          True,  True, False,  True,  True,  True,  True,  True,  True,\n",
       "          True, False,  True,  True,  True,  True, False,  True, False,\n",
       "          True,  True,  True, False,  True,  True,  True,  True, False,\n",
       "          True,  True, False,  True,  True,  True,  True,  True,  True,\n",
       "          True,  True, False,  True,  True,  True,  True,  True,  True,\n",
       "          True,  True, False,  True, False,  True,  True,  True,  True,\n",
       "          True,  True,  True,  True, False,  True,  True, False,  True,\n",
       "          True, False,  True,  True,  True,  True,  True,  True,  True,\n",
       "          True, False,  True,  True, False, False, False, False,  True,\n",
       "         False,  True,  True,  True,  True, False,  True,  True, False,\n",
       "          True, False,  True,  True,  True,  True,  True,  True, False,\n",
       "          True,  True,  True,  True,  True,  True,  True,  True, False,\n",
       "          True,  True,  True,  True,  True,  True,  True,  True,  True,\n",
       "          True,  True,  True,  True,  True, False,  True,  True,  True,\n",
       "          True,  True, False,  True,  True,  True,  True,  True,  True,\n",
       "          True, False,  True,  True,  True, False,  True, False,  True,\n",
       "          True,  True,  True,  True,  True,  True,  True,  True,  True,\n",
       "          True,  True,  True,  True,  True, False,  True,  True,  True,\n",
       "          True,  True,  True,  True,  True,  True,  True,  True,  True,\n",
       "          True, False,  True,  True,  True, False,  True, False, False,\n",
       "         False,  True,  True,  True,  True,  True,  True,  True,  True,\n",
       "         False,  True,  True, False,  True,  True,  True,  True,  True,\n",
       "          True,  True,  True, False,  True,  True,  True,  True, False,\n",
       "          True,  True, False,  True,  True, False, False,  True,  True,\n",
       "          True,  True,  True,  True,  True, False,  True,  True, False,\n",
       "         False,  True, False,  True,  True,  True,  True,  True,  True,\n",
       "         False,  True,  True,  True,  True,  True,  True, False,  True,\n",
       "          True,  True,  True,  True, False, False,  True,  True,  True,\n",
       "          True,  True, False, False,  True,  True,  True,  True, False,\n",
       "          True,  True, False,  True,  True,  True,  True,  True, False,\n",
       "         False,  True, False, False,  True,  True,  True,  True,  True,\n",
       "         False,  True,  True,  True, False,  True,  True,  True,  True,\n",
       "          True, False,  True, False, False,  True, False,  True,  True,\n",
       "          True,  True,  True,  True,  True,  True,  True, False,  True,\n",
       "          True,  True,  True,  True, False,  True, False,  True, False,\n",
       "          True,  True,  True,  True, False,  True,  True,  True,  True,\n",
       "          True, False,  True,  True, False,  True,  True,  True,  True,\n",
       "          True,  True, False,  True,  True,  True,  True,  True,  True,\n",
       "          True,  True,  True,  True,  True, False,  True,  True,  True,\n",
       "          True,  True,  True,  True,  True, False,  True,  True, False,\n",
       "          True,  True,  True,  True,  True,  True,  True,  True,  True,\n",
       "          True,  True,  True,  True,  True,  True,  True, False, False,\n",
       "         False,  True,  True,  True,  True,  True,  True,  True,  True,\n",
       "          True,  True,  True,  True,  True, False,  True,  True, False,\n",
       "          True, False, False,  True,  True,  True,  True,  True,  True,\n",
       "          True, False, False,  True,  True,  True,  True,  True,  True,\n",
       "          True,  True,  True,  True,  True, False,  True, False,  True,\n",
       "          True,  True,  True,  True,  True,  True,  True,  True,  True,\n",
       "         False, False, False,  True,  True,  True,  True,  True,  True,\n",
       "          True,  True,  True, False, False,  True,  True,  True,  True,\n",
       "          True,  True,  True,  True,  True,  True, False, False,  True,\n",
       "         False,  True,  True,  True, False, False,  True,  True,  True,\n",
       "          True, False,  True,  True,  True,  True,  True,  True,  True,\n",
       "         False,  True,  True,  True,  True,  True,  True, False,  True,\n",
       "          True,  True,  True,  True,  True,  True,  True, False,  True,\n",
       "          True,  True,  True, False, False,  True,  True,  True, False,\n",
       "          True,  True,  True, False,  True,  True, False,  True,  True,\n",
       "          True,  True,  True,  True,  True,  True,  True,  True, False,\n",
       "          True,  True,  True, False,  True,  True, False,  True,  True,\n",
       "          True,  True,  True,  True,  True, False, False,  True,  True,\n",
       "          True,  True,  True,  True,  True,  True, False,  True, False,\n",
       "         False,  True, False,  True,  True,  True, False,  True,  True,\n",
       "          True,  True,  True,  True,  True,  True,  True,  True,  True,\n",
       "          True,  True,  True,  True,  True,  True,  True, False,  True,\n",
       "          True,  True, False,  True,  True,  True,  True,  True,  True,\n",
       "          True,  True,  True,  True,  True,  True,  True,  True,  True,\n",
       "          True,  True,  True,  True,  True,  True,  True,  True, False,\n",
       "          True,  True,  True, False,  True,  True,  True, False,  True,\n",
       "          True,  True,  True,  True, False,  True,  True,  True,  True,\n",
       "          True,  True, False, False,  True,  True,  True,  True,  True,\n",
       "          True, False, False,  True,  True,  True,  True, False,  True,\n",
       "         False,  True, False,  True, False,  True,  True,  True,  True,\n",
       "          True,  True, False,  True, False,  True, False,  True, False,\n",
       "          True,  True,  True, False,  True, False, False,  True,  True,\n",
       "          True,  True,  True, False,  True, False,  True,  True, False,\n",
       "          True,  True,  True,  True,  True, False,  True,  True,  True,\n",
       "         False, False,  True,  True,  True,  True,  True,  True,  True,\n",
       "         False,  True,  True, False,  True,  True, False, False,  True,\n",
       "          True,  True,  True,  True,  True,  True, False,  True, False,\n",
       "          True,  True,  True,  True,  True,  True,  True,  True, False,\n",
       "          True, False,  True,  True,  True,  True,  True,  True,  True,\n",
       "          True, False, False, False,  True,  True,  True, False, False,\n",
       "          True,  True,  True, False,  True,  True,  True,  True,  True,\n",
       "          True,  True,  True,  True,  True,  True,  True,  True,  True,\n",
       "          True,  True,  True,  True,  True, False, False,  True,  True,\n",
       "         False,  True,  True,  True,  True,  True, False,  True, False,\n",
       "          True, False,  True, False,  True, False,  True, False, False,\n",
       "          True,  True,  True, False,  True, False,  True,  True,  True,\n",
       "         False,  True,  True,  True,  True,  True,  True, False, False,\n",
       "          True,  True,  True,  True, False, False,  True,  True,  True,\n",
       "         False, False,  True,  True,  True,  True,  True, False,  True,\n",
       "          True,  True,  True,  True,  True,  True, False, False,  True,\n",
       "          True,  True,  True,  True,  True,  True, False,  True,  True,\n",
       "         False,  True,  True,  True,  True,  True,  True,  True, False,\n",
       "          True, False,  True,  True, False,  True, False,  True,  True,\n",
       "          True,  True, False,  True, False, False,  True,  True,  True,\n",
       "         False]),\n",
       "  33: 3.14048,\n",
       "  34: 3.13884,\n",
       "  35: 3.14644,\n",
       "  36: 3.1408,\n",
       "  37: 0.004,\n",
       "  38: 0.004,\n",
       "  39: 0.004,\n",
       "  40: 4.0,\n",
       "  42: 0.004,\n",
       "  43: 4.0,\n",
       "  44: 3.141592653589793,\n",
       "  46: 4.0,\n",
       "  52: 4.0,\n",
       "  55: 4.0,\n",
       "  56: 4.0,\n",
       "  58: 4.0,\n",
       "  61: 2.288818359375e-05,\n",
       "  62: <function locals()>},\n",
       " 'get_ipython': <bound method InteractiveShell.get_ipython of <ipykernel.zmqshell.ZMQInteractiveShell object at 0x00000000030378D0>>,\n",
       " 'exit': <IPython.core.autocall.ZMQExitAutocall at 0x58d9fd0>,\n",
       " 'quit': <IPython.core.autocall.ZMQExitAutocall at 0x58d9fd0>,\n",
       " '_': <function locals()>,\n",
       " '__': 2.288818359375e-05,\n",
       " '___': 4.0,\n",
       " '_i': 'locals',\n",
       " '_ii': 'sys.getsizeof(x) / 1024 /1024',\n",
       " '_iii': 'getsizeof(x) / 1024 /1024',\n",
       " '_i1': 'import numpy as np',\n",
       " 'np': <module 'numpy' from 'C:\\\\ProgramData\\\\Anaconda3\\\\lib\\\\site-packages\\\\numpy\\\\__init__.py'>,\n",
       " '_i2': 'np.random.random()',\n",
       " '_2': 0.6965488409732352,\n",
       " '_i3': 'np.random.random()',\n",
       " '_3': 0.2808857999562232,\n",
       " '_i4': 'np.random.seed(1)\\nnp.random.random()',\n",
       " '_4': 0.417022004702574,\n",
       " '_i5': 'np.random.seed(1)\\nnp.random.random()',\n",
       " '_5': 0.417022004702574,\n",
       " '_i6': 'np.random.seed(1)\\nnp.random.random()',\n",
       " '_6': 0.417022004702574,\n",
       " '_i7': 'np.random.random(100)',\n",
       " '_7': array([7.20324493e-01, 1.14374817e-04, 3.02332573e-01, 1.46755891e-01,\n",
       "        9.23385948e-02, 1.86260211e-01, 3.45560727e-01, 3.96767474e-01,\n",
       "        5.38816734e-01, 4.19194514e-01, 6.85219500e-01, 2.04452250e-01,\n",
       "        8.78117436e-01, 2.73875932e-02, 6.70467510e-01, 4.17304802e-01,\n",
       "        5.58689828e-01, 1.40386939e-01, 1.98101489e-01, 8.00744569e-01,\n",
       "        9.68261576e-01, 3.13424178e-01, 6.92322616e-01, 8.76389152e-01,\n",
       "        8.94606664e-01, 8.50442114e-02, 3.90547832e-02, 1.69830420e-01,\n",
       "        8.78142503e-01, 9.83468338e-02, 4.21107625e-01, 9.57889530e-01,\n",
       "        5.33165285e-01, 6.91877114e-01, 3.15515631e-01, 6.86500928e-01,\n",
       "        8.34625672e-01, 1.82882773e-02, 7.50144315e-01, 9.88861089e-01,\n",
       "        7.48165654e-01, 2.80443992e-01, 7.89279328e-01, 1.03226007e-01,\n",
       "        4.47893526e-01, 9.08595503e-01, 2.93614148e-01, 2.87775339e-01,\n",
       "        1.30028572e-01, 1.93669579e-02, 6.78835533e-01, 2.11628116e-01,\n",
       "        2.65546659e-01, 4.91573159e-01, 5.33625451e-02, 5.74117605e-01,\n",
       "        1.46728575e-01, 5.89305537e-01, 6.99758360e-01, 1.02334429e-01,\n",
       "        4.14055988e-01, 6.94400158e-01, 4.14179270e-01, 4.99534589e-02,\n",
       "        5.35896406e-01, 6.63794645e-01, 5.14889112e-01, 9.44594756e-01,\n",
       "        5.86555041e-01, 9.03401915e-01, 1.37474704e-01, 1.39276347e-01,\n",
       "        8.07391289e-01, 3.97676837e-01, 1.65354197e-01, 9.27508580e-01,\n",
       "        3.47765860e-01, 7.50812103e-01, 7.25997985e-01, 8.83306091e-01,\n",
       "        6.23672207e-01, 7.50942434e-01, 3.48898342e-01, 2.69927892e-01,\n",
       "        8.95886218e-01, 4.28091190e-01, 9.64840047e-01, 6.63441498e-01,\n",
       "        6.21695720e-01, 1.14745973e-01, 9.49489259e-01, 4.49912133e-01,\n",
       "        5.78389614e-01, 4.08136803e-01, 2.37026980e-01, 9.03379521e-01,\n",
       "        5.73679487e-01, 2.87032703e-03, 6.17144914e-01, 3.26644902e-01]),\n",
       " '_i8': 'np.random.random(10000,10000)',\n",
       " '_i9': 'np.random.random((10000,10000))',\n",
       " '_9': array([[0.5270581 , 0.8859421 , 0.35726976, ..., 0.76336024, 0.86404021,\n",
       "         0.70792747],\n",
       "        [0.94801722, 0.0469936 , 0.87398889, ..., 0.15330814, 0.84598688,\n",
       "         0.27872785],\n",
       "        [0.90185046, 0.37733316, 0.77290415, ..., 0.26913925, 0.43425152,\n",
       "         0.25913873],\n",
       "        ...,\n",
       "        [0.34535495, 0.32799136, 0.97476837, ..., 0.15854353, 0.09546152,\n",
       "         0.15600181],\n",
       "        [0.93806532, 0.78887973, 0.90718296, ..., 0.74254302, 0.80722865,\n",
       "         0.16320015],\n",
       "        [0.30936233, 0.68123105, 0.06640435, ..., 0.35351118, 0.29481217,\n",
       "         0.52091796]]),\n",
       " '_i10': 'x = np.random.random()\\ny = np.random.random()\\n\\nnp.sqrt(x **2 + y **2) < 1',\n",
       " 'x': 0.8641154211834186,\n",
       " 'y': 0.2941373096959434,\n",
       " '_10': False,\n",
       " '_i11': 'x = np.random.random()\\ny = np.random.random()\\n\\nnp.sqrt(x **2 + y **2) < 1',\n",
       " '_11': False,\n",
       " '_i12': 'x = np.random.random()\\ny = np.random.random()\\n\\nnp.sqrt(x **2 + y **2) < 1',\n",
       " '_12': True,\n",
       " '_i13': 'def hyptenous(x,y):\\n    return np.sqrt(x **2 + y **2)',\n",
       " 'hyptenous': <function __main__.hyptenous(x, y)>,\n",
       " '_i14': 'for trial in range(1000):\\n    x = np.random.random()\\n    y = np.random.random()\\n    if np.sqrt(x **2 + y **2):\\n        succcesses += 1',\n",
       " 'trial': 999999,\n",
       " '_i15': 'succcesses=0\\nfor trial in range(1000):\\n    x = np.random.random()\\n    y = np.random.random()\\n    if np.sqrt(x **2 + y **2):\\n        succcesses += 1',\n",
       " 'succcesses': 785200,\n",
       " '_i16': 'succcesses / 10000 * 4',\n",
       " '_16': 0.4,\n",
       " '_i17': 'succcesses / 1000 * 4',\n",
       " '_17': 4.0,\n",
       " '_i18': 'num_trials = 10000\\nsucccesses=0\\n\\nfor trial in range(num_trials):\\n    x = np.random.random()\\n    y = np.random.random()\\n    if np.sqrt(x **2 + y **2):\\n        succcesses += 1\\nsucccesses / num_trials * 4 #guess for pi',\n",
       " 'num_trials': 1000000,\n",
       " '_18': 4.0,\n",
       " '_i19': 'num_trials = 10000\\nsucccesses=0\\n\\nfor trial in range(num_trials):\\n    x = np.random.random()\\n    y = np.random.random()\\n    if np.sqrt(x **2 + y **2):\\n        succcesses += 1\\nsucccesses / num_trials * 4 #guess for pi',\n",
       " '_19': 4.0,\n",
       " '_i20': 'x = np.random.random()\\ny = np.random.random()\\n\\nnp.sqrt(x **2 + y **2) < 1',\n",
       " '_20': False,\n",
       " '_i21': 'def hyptenous(x,y):\\n    return np.sqrt(x **2 + y **2)',\n",
       " '_i22': 'num_trials = 10000\\nsucccesses=0\\n\\nfor trial in range(num_trials):\\n    x = np.random.random()\\n    y = np.random.random()\\n    if np.sqrt(x **2 + y **2):\\n        succcesses += 1\\n        \\nsucccesses / num_trials * 4 #guess for pi',\n",
       " '_22': 4.0,\n",
       " '_i23': 'num_trials = 100000\\nsucccesses=0\\n\\nfor trial in range(num_trials):\\n    x = np.random.random()\\n    y = np.random.random()\\n    if np.sqrt(x **2 + y **2):\\n        succcesses += 1\\n        \\nsucccesses / num_trials * 4 #guess for pi',\n",
       " '_23': 4.0,\n",
       " '_i24': 'num_trials = 100000\\nsucccesses=0\\n\\nfor trial in range(num_trials):\\n    x = np.random.random()\\n    y = np.random.random()\\n    if np.sqrt(x **2 + y **2):\\n        succcesses += 1\\n        \\nsucccesses / num_trials * 4 #guess for pi',\n",
       " '_24': 4.0,\n",
       " '_i25': '%%timeit\\nnum_trials = 100000\\nsucccesses=0\\n\\nfor trial in range(num_trials):\\n    x = np.random.random()\\n    y = np.random.random()\\n    if np.sqrt(x **2 + y **2):\\n        succcesses += 1\\n        \\nsucccesses / num_trials * 4 #guess for pi',\n",
       " 'self': <ipykernel.zmqshell.ZMQInteractiveShell at 0x30378d0>,\n",
       " 'code_obj': <code object <module> at 0x0000000005EBAD20, file \"<ipython-input-50-96e11c5d4930>\", line 1>,\n",
       " 'result': <ExecutionResult object at 82606a0, execution_count=50 error_before_exec=None error_in_exec=local variable 'succcesses' referenced before assignment info=<ExecutionInfo object at 82600b8, raw_cell=\"%%timeit\n",
       " for trial in range(1000000):\n",
       "     x = np.r..\" store_history=True silent=False shell_futures=True> result=None>,\n",
       " 'async_': False,\n",
       " 'old_excepthook': <bound method IPKernelApp.excepthook of <ipykernel.kernelapp.IPKernelApp object at 0x0000000001CB1CC0>>,\n",
       " 'outflag': True,\n",
       " '_i26': '#np.random.seed(1)\\nnp.random.random()',\n",
       " '_26': 0.9365759901909323,\n",
       " '_i27': '%%timeit\\nnum_trials = 100000\\nsucccesses=0\\n\\nfor trial in range(num_trials):\\n    x = np.random.random()\\n    y = np.random.random()\\n    if np.sqrt(x **2 + y **2):\\n        succcesses += 1\\n        \\nsucccesses / num_trials * 4 #guess for pi',\n",
       " '_i28': '#%%timeit\\nnum_trials = 100000\\nsucccesses=0\\n\\nfor trial in range(num_trials):\\n    x = np.random.random()\\n    y = np.random.random()\\n    if np.sqrt(x **2 + y **2):\\n        succcesses += 1\\n        \\nsucccesses / num_trials * 4 #guess for pi',\n",
       " '_28': 4.0,\n",
       " '_i29': 'np.sqrt(x **2 + y **2)',\n",
       " '_29': 0.3005844015281511,\n",
       " '_i30': 'x = np.random.random(1000)\\ny = np.random.random(1000)',\n",
       " '_i31': 'np.sqrt(x **2 + y **2)',\n",
       " '_31': array([0.29467217, 0.60281694, 0.27667553, 0.87587619, 1.23884108,\n",
       "        0.85172453, 0.05970262, 0.88248812, 0.6101584 , 0.94206721,\n",
       "        0.70588776, 0.9108879 , 0.66130741, 0.65482863, 0.95135665,\n",
       "        1.26749401, 1.04274031, 0.67677444, 0.37312913, 1.3254791 ,\n",
       "        0.98550579, 1.17366723, 0.99443364, 0.08444441, 0.93862567,\n",
       "        1.08430546, 0.86440074, 0.86486314, 0.249236  , 0.2274402 ,\n",
       "        0.45488993, 1.10382529, 0.35310638, 1.24856771, 1.02397987,\n",
       "        0.47474521, 0.16500678, 1.28295315, 0.81978815, 0.28434294,\n",
       "        1.03207258, 0.92659466, 0.96180698, 0.29847704, 1.03029581,\n",
       "        0.92981029, 1.29218376, 1.01247937, 0.97367792, 1.07526854,\n",
       "        0.27597901, 0.32848242, 0.62069759, 0.71571832, 0.98770393,\n",
       "        1.15630149, 0.30480478, 0.59402795, 0.94639824, 1.00214084,\n",
       "        0.20290109, 0.18459367, 0.51869595, 0.87837444, 0.15441655,\n",
       "        0.84125833, 0.97276776, 0.32911844, 0.52594631, 0.74271594,\n",
       "        0.63464421, 0.77910409, 0.57594029, 0.88254427, 0.91978537,\n",
       "        0.99149332, 0.98366202, 1.19677486, 0.79222396, 0.38853882,\n",
       "        1.08890911, 1.0709673 , 0.59139198, 0.14640386, 0.95311369,\n",
       "        0.95376802, 0.79802237, 0.21800077, 1.11368647, 0.80269551,\n",
       "        0.84561939, 1.31865227, 1.18757209, 1.07062265, 0.12681488,\n",
       "        0.63245086, 0.9421163 , 0.80701254, 0.88732028, 0.51636757,\n",
       "        0.9468844 , 1.06683903, 0.94014798, 0.87790595, 0.92061198,\n",
       "        0.55585666, 1.23495737, 1.17277028, 0.72715295, 1.11994896,\n",
       "        0.78417372, 0.74829931, 0.31482941, 0.8206845 , 0.45566565,\n",
       "        1.03314811, 0.94894871, 0.48649714, 0.56568282, 0.94535037,\n",
       "        0.91293249, 0.12635688, 0.9437875 , 0.76717729, 0.5435033 ,\n",
       "        0.98344507, 0.896886  , 0.97459456, 0.56462005, 0.56989771,\n",
       "        1.24078027, 0.84789089, 1.12622381, 1.02230098, 0.5246428 ,\n",
       "        0.87381653, 0.93052778, 1.23093166, 0.61824224, 0.53144495,\n",
       "        0.8676342 , 0.8907146 , 0.93325949, 0.72315265, 0.84092441,\n",
       "        1.12477565, 0.31963734, 0.87371822, 0.80387003, 0.68528603,\n",
       "        1.22129532, 0.89178762, 1.23809986, 0.79766652, 0.09628347,\n",
       "        0.50982819, 1.23619179, 0.77568932, 0.58709442, 0.42659873,\n",
       "        0.85332689, 1.13447789, 0.97106194, 0.09626415, 1.03575954,\n",
       "        0.67604106, 0.87546022, 0.80039467, 0.90081464, 0.37275121,\n",
       "        0.61823216, 0.61881626, 0.44697357, 1.2207887 , 0.59085582,\n",
       "        0.71317918, 0.90763154, 0.28898335, 0.81573548, 0.92206507,\n",
       "        0.69883122, 0.23839989, 1.06480041, 0.46709592, 1.04370887,\n",
       "        0.64903652, 0.99861338, 0.99857999, 0.70388215, 0.72998229,\n",
       "        0.62636377, 0.99193623, 0.44016178, 1.15809215, 0.04258449,\n",
       "        0.81364488, 1.0929159 , 0.66985506, 0.95438625, 1.15180559,\n",
       "        0.80015333, 0.91311256, 0.21701594, 0.98125574, 0.66426578,\n",
       "        0.8777751 , 0.68523246, 0.78030181, 1.14521441, 0.75486284,\n",
       "        0.77720533, 1.0235899 , 1.02715674, 1.09131266, 1.08107974,\n",
       "        0.93033943, 1.13827792, 0.78230441, 0.60163128, 0.76441755,\n",
       "        0.89113519, 1.06525796, 0.89200535, 0.41890159, 1.02567772,\n",
       "        0.52544556, 1.01561642, 0.34114647, 0.17706554, 0.96500021,\n",
       "        0.86785299, 0.63183164, 0.45894991, 1.03452662, 0.62066752,\n",
       "        0.59188365, 0.68327691, 0.77179675, 0.68684392, 0.08831624,\n",
       "        0.99071321, 0.79319814, 1.01389337, 0.71281174, 0.41639224,\n",
       "        0.95314974, 0.32254541, 0.57041093, 0.95850624, 0.60777771,\n",
       "        0.61937263, 0.96255509, 0.89929581, 0.78537852, 0.39294365,\n",
       "        0.71284341, 0.93075621, 1.18460453, 0.80925798, 0.90716533,\n",
       "        0.50771467, 0.99977705, 0.31741643, 1.01487121, 0.90039589,\n",
       "        0.65544801, 0.65670903, 0.79400563, 0.69585017, 0.48563197,\n",
       "        0.62025012, 1.23332971, 0.96525766, 0.72192536, 0.48711692,\n",
       "        1.08097792, 0.54859876, 1.13277894, 0.89318984, 0.65327563,\n",
       "        0.57636751, 0.79504326, 0.99040822, 0.81049966, 0.6011717 ,\n",
       "        0.86221559, 0.95913416, 0.75722328, 0.91580403, 0.56595408,\n",
       "        0.64511573, 0.58894247, 0.6305061 , 1.13233377, 0.97191504,\n",
       "        0.83921915, 0.61100484, 0.59804263, 0.76509843, 0.67606789,\n",
       "        0.98462074, 0.48567472, 0.84876183, 0.84058155, 0.4728229 ,\n",
       "        0.644046  , 0.12601014, 1.10774113, 0.92427937, 0.81357547,\n",
       "        0.86484652, 1.16247071, 0.38532272, 1.21246135, 1.14889178,\n",
       "        1.04001058, 0.6785383 , 0.98201388, 0.6834915 , 0.19691238,\n",
       "        0.77515134, 0.80733073, 0.34792406, 0.55147334, 1.18150219,\n",
       "        0.73185562, 0.66793093, 1.33728151, 0.25072485, 0.85083966,\n",
       "        0.71292375, 0.96631636, 0.98133246, 0.99917427, 0.98650439,\n",
       "        0.7626188 , 1.07570939, 0.97232743, 0.77416271, 0.04744134,\n",
       "        0.94414069, 1.0611536 , 0.53604374, 0.88535375, 1.07693564,\n",
       "        0.80670014, 0.58573106, 1.16884784, 1.01803145, 0.13637136,\n",
       "        0.290595  , 0.36043831, 0.63999043, 0.94434798, 0.86651381,\n",
       "        0.96243384, 1.0069323 , 0.69643992, 0.53652882, 1.06542075,\n",
       "        1.0422874 , 0.81255622, 1.28334103, 0.82324838, 0.87912183,\n",
       "        0.73809722, 0.98848852, 0.22489213, 0.91536214, 1.21284856,\n",
       "        0.9407292 , 0.85707563, 0.59366857, 0.89136702, 0.89227877,\n",
       "        0.61270086, 1.34976992, 0.25697664, 0.19482356, 0.63380607,\n",
       "        0.91262019, 0.8960309 , 1.01175216, 1.07931924, 0.8343685 ,\n",
       "        0.08449947, 0.50799735, 0.59962095, 0.63673833, 1.10268732,\n",
       "        1.18181307, 0.85368277, 0.82321724, 0.47289086, 0.56352158,\n",
       "        1.10429021, 0.58788972, 0.7986088 , 1.03650825, 0.85808859,\n",
       "        0.93058997, 0.54563096, 0.82206055, 0.25159158, 1.18434565,\n",
       "        1.18586373, 0.80684221, 1.21955621, 1.32735349, 0.51726121,\n",
       "        0.16953013, 0.68037467, 0.7058819 , 0.92606577, 1.07813219,\n",
       "        0.26006436, 0.36503969, 0.27576984, 1.00979468, 0.72331704,\n",
       "        0.80951167, 0.98713254, 0.26192023, 0.22214487, 1.03588515,\n",
       "        0.8810897 , 1.13157911, 1.09224047, 0.54239464, 1.21789044,\n",
       "        0.86447576, 0.54121576, 0.9408647 , 0.86041537, 0.26592274,\n",
       "        0.24143798, 0.84926105, 0.69465601, 0.71302182, 1.02080109,\n",
       "        0.6996381 , 0.54327421, 0.97236346, 0.63218503, 0.66612214,\n",
       "        1.09562671, 0.35708331, 1.09381609, 0.7913025 , 1.01523353,\n",
       "        0.04923047, 0.43187901, 0.75892047, 0.28851153, 1.08739614,\n",
       "        0.76036554, 0.93387587, 0.56799628, 0.85367465, 0.98069213,\n",
       "        1.1923761 , 0.53871427, 0.51081887, 1.05318707, 0.96701247,\n",
       "        0.84349879, 0.16209177, 0.76989059, 0.89228683, 0.90101435,\n",
       "        1.30930149, 0.37715577, 0.69081953, 0.93610205, 0.76019682,\n",
       "        0.22799149, 0.70377569, 0.88372633, 0.25033971, 0.8372787 ,\n",
       "        0.71040179, 0.93183322, 1.08686109, 0.0924127 , 0.52501263,\n",
       "        0.70525642, 0.79657114, 0.62274424, 0.41107665, 0.50354366,\n",
       "        0.32708166, 1.19370641, 0.69268561, 0.87059788, 1.17166815,\n",
       "        0.29534617, 0.49774537, 0.62287543, 0.68956575, 0.7561579 ,\n",
       "        0.83986444, 0.87642355, 0.36299467, 0.18045786, 0.56561737,\n",
       "        0.93994853, 0.85147067, 0.68520367, 0.97768033, 0.85211342,\n",
       "        0.65349947, 1.03902679, 1.08953413, 1.10072491, 0.94023391,\n",
       "        0.76202358, 0.36119675, 0.45442246, 0.55992223, 0.30733476,\n",
       "        0.80724288, 0.87200015, 0.37720936, 0.45017653, 0.96723981,\n",
       "        0.7346843 , 0.81515141, 1.20028109, 0.69446993, 0.31189757,\n",
       "        1.01992729, 0.87946588, 1.02418586, 1.23578138, 0.96378659,\n",
       "        0.90880611, 0.82754743, 0.07009595, 0.97972055, 0.70212953,\n",
       "        0.62669158, 1.20705102, 1.07223919, 0.91284541, 0.67588571,\n",
       "        0.54633424, 0.92445798, 0.85272042, 0.73593328, 0.81506976,\n",
       "        0.92653082, 0.91373984, 0.77888207, 0.86876926, 1.06992981,\n",
       "        0.80257105, 1.08200511, 0.89467088, 0.99195214, 0.72211232,\n",
       "        0.96316894, 0.84587409, 0.80545869, 0.72823207, 0.79267012,\n",
       "        0.3484708 , 0.37166284, 1.20232456, 1.01029031, 1.17253855,\n",
       "        0.99648196, 0.71542665, 0.38973501, 0.21041148, 0.42764507,\n",
       "        0.58952691, 0.96386221, 0.33230009, 0.4532932 , 1.00579741,\n",
       "        1.23585247, 0.57565248, 0.59561227, 0.82354143, 0.81209476,\n",
       "        0.36746608, 0.6508605 , 0.46782927, 0.67711576, 0.78891703,\n",
       "        0.89284074, 1.28184943, 1.25230911, 0.75399145, 1.01165257,\n",
       "        0.74865458, 0.43617081, 0.34895013, 1.14908915, 1.01981216,\n",
       "        0.25493517, 0.58409494, 0.32570041, 0.28925504, 1.04919211,\n",
       "        0.78882027, 0.9777132 , 0.74113338, 0.10929335, 0.65264912,\n",
       "        0.4048972 , 0.76584983, 1.33802057, 0.78320253, 0.33369533,\n",
       "        0.69914529, 0.94716095, 0.9023331 , 0.55706482, 1.28457566,\n",
       "        0.73079576, 0.77997027, 0.99027722, 0.3410709 , 0.41996332,\n",
       "        0.88466886, 0.82317859, 0.75033758, 1.07106263, 0.82137258,\n",
       "        0.55761288, 0.56138596, 0.88006162, 1.01974316, 1.13905951,\n",
       "        0.76498886, 0.18738989, 0.75748527, 1.01604207, 0.91738794,\n",
       "        0.69062908, 0.36088342, 1.07100418, 0.76625264, 0.88057305,\n",
       "        1.06447804, 0.42502952, 0.50360569, 0.51264954, 0.94305758,\n",
       "        0.97110634, 0.194442  , 0.40624478, 0.74689373, 0.98966089,\n",
       "        0.67741762, 1.05925659, 0.78936982, 0.76707368, 0.47248055,\n",
       "        1.04435462, 0.45699244, 0.94395532, 1.076093  , 0.86956252,\n",
       "        0.6407674 , 0.81793749, 0.87584878, 0.707243  , 0.97180497,\n",
       "        0.82370733, 1.26430425, 1.05917838, 0.46885248, 0.42950574,\n",
       "        0.323654  , 0.32959545, 0.41045787, 0.99939363, 0.4305831 ,\n",
       "        0.56063889, 1.23358788, 0.8105258 , 1.0241223 , 1.04185912,\n",
       "        0.34050411, 1.0522109 , 0.58183288, 0.44362408, 0.65779539,\n",
       "        1.05211805, 0.52639526, 0.76614495, 0.60731886, 0.40707887,\n",
       "        0.94051718, 0.59601545, 0.74309071, 0.53958329, 0.92079239,\n",
       "        0.80700496, 0.90443769, 0.97845108, 0.25386969, 0.92527061,\n",
       "        0.68146616, 0.97646184, 0.71785867, 0.48224279, 1.01553163,\n",
       "        0.9529249 , 0.42530959, 0.41863768, 1.11910201, 0.56897303,\n",
       "        0.51360036, 0.50467815, 0.83535344, 0.41829591, 0.53256192,\n",
       "        0.28516953, 0.9466139 , 0.51045262, 0.53974492, 0.83557819,\n",
       "        0.50741697, 0.9707346 , 0.94926437, 0.24397091, 0.32325811,\n",
       "        0.55216376, 0.6736503 , 0.92091694, 0.91791072, 0.22743071,\n",
       "        0.92102476, 0.58597462, 1.09722606, 0.68677181, 0.70918023,\n",
       "        0.79033246, 1.21363556, 0.96681381, 0.76202199, 0.70450536,\n",
       "        1.34187178, 0.66686829, 0.59584622, 0.66608426, 0.60465515,\n",
       "        0.85509738, 1.04728098, 0.67696916, 0.46475927, 0.60628078,\n",
       "        0.69534424, 0.89978765, 0.82096576, 1.0988127 , 1.13686034,\n",
       "        0.88651057, 0.31126912, 0.96398907, 0.69817256, 0.33535404,\n",
       "        0.73118707, 1.30981814, 1.06540364, 0.38982002, 0.9374801 ,\n",
       "        0.47901786, 0.56087251, 1.04891796, 0.96809717, 1.04353157,\n",
       "        0.87173703, 1.22332112, 0.88728655, 1.04782662, 0.85528283,\n",
       "        0.62436623, 0.53831427, 0.94646168, 0.86488289, 0.895023  ,\n",
       "        1.02635292, 0.31178775, 1.21900516, 0.8304147 , 1.06739643,\n",
       "        0.74382642, 1.05652328, 0.8988547 , 0.79624524, 0.48721024,\n",
       "        1.20303763, 0.46800589, 1.0044143 , 1.04094843, 0.53619655,\n",
       "        0.87315688, 0.40639196, 0.15502125, 0.72024641, 1.03869153,\n",
       "        0.53929408, 1.1563874 , 0.330048  , 0.84936471, 1.04958683,\n",
       "        0.38567575, 0.99094171, 0.14429537, 0.12296217, 0.79769673,\n",
       "        1.05688556, 0.84142723, 0.86631545, 0.735417  , 1.01908046,\n",
       "        1.0207009 , 0.96088727, 0.39624628, 0.4453026 , 0.60136683,\n",
       "        0.62600925, 0.92147676, 0.69735216, 1.15134564, 0.77215744,\n",
       "        0.90367151, 1.00430977, 0.5584736 , 0.99311759, 1.04932701,\n",
       "        1.00834864, 0.76390331, 0.67841364, 0.97499673, 0.32737258,\n",
       "        0.58503009, 0.88471408, 0.92681423, 1.060878  , 0.87667949,\n",
       "        1.2989401 , 0.77249128, 0.55513681, 0.83314501, 0.71717889,\n",
       "        0.62025664, 0.44799586, 0.54100469, 0.70621789, 1.10020388,\n",
       "        0.71227491, 1.27974965, 0.08744276, 0.5531285 , 0.75392088,\n",
       "        0.9564169 , 0.77043027, 0.85116987, 0.8773742 , 0.56920308,\n",
       "        1.26484891, 1.00283648, 1.08729998, 0.97591124, 0.85756231,\n",
       "        0.7570305 , 1.02761954, 1.07880019, 0.62047887, 0.62347185,\n",
       "        0.03324772, 1.0079775 , 0.61562851, 0.79037432, 0.9012683 ,\n",
       "        0.89312542, 0.52618334, 0.75453884, 0.70940267, 0.78313203,\n",
       "        0.2696743 , 0.83038203, 0.93454919, 0.66119301, 0.79068679,\n",
       "        0.8659644 , 0.52581631, 0.33887868, 0.42126139, 0.76420022,\n",
       "        0.2899584 , 1.19759816, 1.11105918, 0.74230153, 0.7120187 ,\n",
       "        1.00679951, 0.62850936, 0.85942057, 0.71131735, 0.89393371,\n",
       "        0.7450905 , 1.21765424, 0.17178434, 1.00420158, 0.47081709,\n",
       "        1.33693243, 0.26240218, 1.10973361, 0.73089344, 1.07576517,\n",
       "        0.42099394, 1.06644984, 1.22722276, 0.41303417, 0.45447569,\n",
       "        0.71301296, 1.12921291, 0.18542481, 1.28715775, 0.80360721,\n",
       "        0.54419244, 0.96543806, 1.09377331, 0.65172495, 0.98954328,\n",
       "        0.35735889, 0.63316049, 0.55108885, 0.85376729, 1.00465202,\n",
       "        1.14895449, 0.54306967, 0.65561588, 0.71330498, 0.2843489 ,\n",
       "        1.07345407, 1.05502962, 0.30073862, 0.22915569, 0.95525474,\n",
       "        1.23727869, 1.1293508 , 0.91905262, 0.74634701, 0.60375928,\n",
       "        0.96718625, 0.94130231, 1.34341093, 0.47220955, 0.1250027 ,\n",
       "        0.3002945 , 0.74373264, 0.79105455, 0.95497432, 0.70318701,\n",
       "        1.05457518, 1.25103503, 0.99076593, 0.34419399, 0.78853498,\n",
       "        0.44837062, 0.76358312, 0.49668521, 0.46831994, 1.01767009,\n",
       "        0.50620006, 0.91042792, 1.04855361, 0.58686761, 0.87943047,\n",
       "        0.63560551, 0.63418769, 0.81096176, 0.38969137, 0.75110397,\n",
       "        1.03878486, 0.68323872, 1.11359665, 0.99690123, 0.91259946,\n",
       "        1.06055596, 0.99832203, 1.07661085, 0.76624872, 0.95257848,\n",
       "        0.89097509, 0.45412515, 1.02391579, 0.80652226, 1.31780992,\n",
       "        1.06620021, 0.6824757 , 0.82679728, 0.70294971, 1.08343139]),\n",
       " '_i32': 'np.sqrt(x **2 + y **2) < 1',\n",
       " '_32': array([ True,  True,  True,  True, False,  True,  True,  True,  True,\n",
       "         True,  True,  True,  True,  True,  True, False, False,  True,\n",
       "         True, False,  True, False,  True,  True,  True, False,  True,\n",
       "         True,  True,  True,  True, False,  True, False, False,  True,\n",
       "         True, False,  True,  True, False,  True,  True,  True, False,\n",
       "         True, False, False,  True, False,  True,  True,  True,  True,\n",
       "         True, False,  True,  True,  True, False,  True,  True,  True,\n",
       "         True,  True,  True,  True,  True,  True,  True,  True,  True,\n",
       "         True,  True,  True,  True,  True, False,  True,  True, False,\n",
       "        False,  True,  True,  True,  True,  True,  True, False,  True,\n",
       "         True, False, False, False,  True,  True,  True,  True,  True,\n",
       "         True,  True, False,  True,  True,  True,  True, False, False,\n",
       "         True, False,  True,  True,  True,  True,  True, False,  True,\n",
       "         True,  True,  True,  True,  True,  True,  True,  True,  True,\n",
       "         True,  True,  True,  True, False,  True, False, False,  True,\n",
       "         True,  True, False,  True,  True,  True,  True,  True,  True,\n",
       "         True, False,  True,  True,  True,  True, False,  True, False,\n",
       "         True,  True,  True, False,  True,  True,  True,  True, False,\n",
       "         True,  True, False,  True,  True,  True,  True,  True,  True,\n",
       "         True,  True, False,  True,  True,  True,  True,  True,  True,\n",
       "         True,  True, False,  True, False,  True,  True,  True,  True,\n",
       "         True,  True,  True,  True, False,  True,  True, False,  True,\n",
       "         True, False,  True,  True,  True,  True,  True,  True,  True,\n",
       "         True, False,  True,  True, False, False, False, False,  True,\n",
       "        False,  True,  True,  True,  True, False,  True,  True, False,\n",
       "         True, False,  True,  True,  True,  True,  True,  True, False,\n",
       "         True,  True,  True,  True,  True,  True,  True,  True, False,\n",
       "         True,  True,  True,  True,  True,  True,  True,  True,  True,\n",
       "         True,  True,  True,  True,  True, False,  True,  True,  True,\n",
       "         True,  True, False,  True,  True,  True,  True,  True,  True,\n",
       "         True, False,  True,  True,  True, False,  True, False,  True,\n",
       "         True,  True,  True,  True,  True,  True,  True,  True,  True,\n",
       "         True,  True,  True,  True,  True, False,  True,  True,  True,\n",
       "         True,  True,  True,  True,  True,  True,  True,  True,  True,\n",
       "         True, False,  True,  True,  True, False,  True, False, False,\n",
       "        False,  True,  True,  True,  True,  True,  True,  True,  True,\n",
       "        False,  True,  True, False,  True,  True,  True,  True,  True,\n",
       "         True,  True,  True, False,  True,  True,  True,  True, False,\n",
       "         True,  True, False,  True,  True, False, False,  True,  True,\n",
       "         True,  True,  True,  True,  True, False,  True,  True, False,\n",
       "        False,  True, False,  True,  True,  True,  True,  True,  True,\n",
       "        False,  True,  True,  True,  True,  True,  True, False,  True,\n",
       "         True,  True,  True,  True, False, False,  True,  True,  True,\n",
       "         True,  True, False, False,  True,  True,  True,  True, False,\n",
       "         True,  True, False,  True,  True,  True,  True,  True, False,\n",
       "        False,  True, False, False,  True,  True,  True,  True,  True,\n",
       "        False,  True,  True,  True, False,  True,  True,  True,  True,\n",
       "         True, False,  True, False, False,  True, False,  True,  True,\n",
       "         True,  True,  True,  True,  True,  True,  True, False,  True,\n",
       "         True,  True,  True,  True, False,  True, False,  True, False,\n",
       "         True,  True,  True,  True, False,  True,  True,  True,  True,\n",
       "         True, False,  True,  True, False,  True,  True,  True,  True,\n",
       "         True,  True, False,  True,  True,  True,  True,  True,  True,\n",
       "         True,  True,  True,  True,  True, False,  True,  True,  True,\n",
       "         True,  True,  True,  True,  True, False,  True,  True, False,\n",
       "         True,  True,  True,  True,  True,  True,  True,  True,  True,\n",
       "         True,  True,  True,  True,  True,  True,  True, False, False,\n",
       "        False,  True,  True,  True,  True,  True,  True,  True,  True,\n",
       "         True,  True,  True,  True,  True, False,  True,  True, False,\n",
       "         True, False, False,  True,  True,  True,  True,  True,  True,\n",
       "         True, False, False,  True,  True,  True,  True,  True,  True,\n",
       "         True,  True,  True,  True,  True, False,  True, False,  True,\n",
       "         True,  True,  True,  True,  True,  True,  True,  True,  True,\n",
       "        False, False, False,  True,  True,  True,  True,  True,  True,\n",
       "         True,  True,  True, False, False,  True,  True,  True,  True,\n",
       "         True,  True,  True,  True,  True,  True, False, False,  True,\n",
       "        False,  True,  True,  True, False, False,  True,  True,  True,\n",
       "         True, False,  True,  True,  True,  True,  True,  True,  True,\n",
       "        False,  True,  True,  True,  True,  True,  True, False,  True,\n",
       "         True,  True,  True,  True,  True,  True,  True, False,  True,\n",
       "         True,  True,  True, False, False,  True,  True,  True, False,\n",
       "         True,  True,  True, False,  True,  True, False,  True,  True,\n",
       "         True,  True,  True,  True,  True,  True,  True,  True, False,\n",
       "         True,  True,  True, False,  True,  True, False,  True,  True,\n",
       "         True,  True,  True,  True,  True, False, False,  True,  True,\n",
       "         True,  True,  True,  True,  True,  True, False,  True, False,\n",
       "        False,  True, False,  True,  True,  True, False,  True,  True,\n",
       "         True,  True,  True,  True,  True,  True,  True,  True,  True,\n",
       "         True,  True,  True,  True,  True,  True,  True, False,  True,\n",
       "         True,  True, False,  True,  True,  True,  True,  True,  True,\n",
       "         True,  True,  True,  True,  True,  True,  True,  True,  True,\n",
       "         True,  True,  True,  True,  True,  True,  True,  True, False,\n",
       "         True,  True,  True, False,  True,  True,  True, False,  True,\n",
       "         True,  True,  True,  True, False,  True,  True,  True,  True,\n",
       "         True,  True, False, False,  True,  True,  True,  True,  True,\n",
       "         True, False, False,  True,  True,  True,  True, False,  True,\n",
       "        False,  True, False,  True, False,  True,  True,  True,  True,\n",
       "         True,  True, False,  True, False,  True, False,  True, False,\n",
       "         True,  True,  True, False,  True, False, False,  True,  True,\n",
       "         True,  True,  True, False,  True, False,  True,  True, False,\n",
       "         True,  True,  True,  True,  True, False,  True,  True,  True,\n",
       "        False, False,  True,  True,  True,  True,  True,  True,  True,\n",
       "        False,  True,  True, False,  True,  True, False, False,  True,\n",
       "         True,  True,  True,  True,  True,  True, False,  True, False,\n",
       "         True,  True,  True,  True,  True,  True,  True,  True, False,\n",
       "         True, False,  True,  True,  True,  True,  True,  True,  True,\n",
       "         True, False, False, False,  True,  True,  True, False, False,\n",
       "         True,  True,  True, False,  True,  True,  True,  True,  True,\n",
       "         True,  True,  True,  True,  True,  True,  True,  True,  True,\n",
       "         True,  True,  True,  True,  True, False, False,  True,  True,\n",
       "        False,  True,  True,  True,  True,  True, False,  True, False,\n",
       "         True, False,  True, False,  True, False,  True, False, False,\n",
       "         True,  True,  True, False,  True, False,  True,  True,  True,\n",
       "        False,  True,  True,  True,  True,  True,  True, False, False,\n",
       "         True,  True,  True,  True, False, False,  True,  True,  True,\n",
       "        False, False,  True,  True,  True,  True,  True, False,  True,\n",
       "         True,  True,  True,  True,  True,  True, False, False,  True,\n",
       "         True,  True,  True,  True,  True,  True, False,  True,  True,\n",
       "        False,  True,  True,  True,  True,  True,  True,  True, False,\n",
       "         True, False,  True,  True, False,  True, False,  True,  True,\n",
       "         True,  True, False,  True, False, False,  True,  True,  True,\n",
       "        False]),\n",
       " '_i33': '#%%timeit\\nnum_trials = 100000\\nsucccesses=0\\n\\nfor trial in range(num_trials):\\n    x = np.random.random()\\n    y = np.random.random()\\n    if np.sqrt(x **2 + y **2) < 1:\\n        succcesses += 1\\n        \\nsucccesses / num_trials * 4 #guess for pi',\n",
       " '_33': 3.14048,\n",
       " '_i34': '#%%timeit\\nnum_trials = 100000\\nsucccesses=0\\n\\nfor trial in range(num_trials):\\n    x = np.random.random()\\n    y = np.random.random()\\n    if np.sqrt(x **2 + y **2) < 1:\\n        succcesses += 1\\n        \\nsucccesses / num_trials * 4 #guess for pi',\n",
       " '_34': 3.13884,\n",
       " '_i35': '#%%timeit\\nnum_trials = 100000\\nsucccesses=0\\n\\nfor trial in range(num_trials):\\n    x = np.random.random()\\n    y = np.random.random()\\n    if np.sqrt(x **2 + y **2) < 1:\\n        succcesses += 1\\n        \\nsucccesses / num_trials * 4 #guess for pi',\n",
       " '_35': 3.14644,\n",
       " '_i36': '#%%timeit\\nnum_trials = 1000000\\nsucccesses=0\\n\\nfor trial in range(num_trials):\\n    x = np.random.random()\\n    y = np.random.random()\\n    if np.sqrt(x **2 + y **2) < 1:\\n        succcesses += 1\\n        \\nsucccesses / num_trials * 4 #guess for pi',\n",
       " '_36': 3.1408,\n",
       " '_i37': 'inCircle = np.sqrt(x **2 + y **2) < 1\\nnp.sum(inCircle)\\nnp.sum(inCircle)/ 1000 * 4\\nnp.mean(inCircle)/ 1000 * 4',\n",
       " 'inCircle': True,\n",
       " '_37': 0.004,\n",
       " '_i38': 'np.sum(inCircle)/ 1000 * 4',\n",
       " '_38': 0.004,\n",
       " '_i39': 'np.mean(inCircle)/ 1000 * 4',\n",
       " '_39': 0.004,\n",
       " '_i40': 'np.mean(inCircle) * 4',\n",
       " '_40': 4.0,\n",
       " '_i41': 'inCircle = np.sqrt(x **2 + y **2) < 1',\n",
       " '_i42': 'np.sum(inCircle)/ 1000 * 4',\n",
       " '_42': 0.004,\n",
       " '_i43': 'np.mean(inCircle) * 4',\n",
       " '_43': 4.0,\n",
       " '_i44': 'np.pi',\n",
       " '_44': 3.141592653589793,\n",
       " '_i45': '%%timeit\\nx = np.random.random(1000000)\\ny = np.random.random(1000000)\\n\\ninCircle = np.sqrt(x **2 + y **2) < 1\\nnp.mean(inCircle) * 4',\n",
       " '_i46': 'np.mean(inCircle) * 4',\n",
       " '_46': 4.0,\n",
       " '_i47': '%%timeit\\nfor trial in range(1000000):\\n    x = np.random.random()\\n    y = np.random.random()\\n    if np.sqrt(x **2 + y **2) < 1:\\n        succcesses += 1\\n        \\nsucccesses / num_trials * 4 #guess for pi',\n",
       " '_i48': '%%timeit\\nfor trial in range(1000000):\\n    x = np.random.random(1000000)\\n    y = np.random.random(1000000)\\n    if np.sqrt(x **2 + y **2) < 1:\\n        succcesses += 1\\n        \\nsucccesses / num_trials * 4 #guess for pi',\n",
       " '_i49': '%%timeit\\n\\nfor trial in range(1000000):\\n    x = np.random.random(1000000)\\n    y = np.random.random(1000000)\\n    if np.sqrt(x **2 + y **2) < 1:\\n        succcesses += 1\\n        \\nsucccesses / num_trials * 4 #guess for pi',\n",
       " '_i50': '%%timeit\\nfor trial in range(1000000):\\n    x = np.random.random()\\n    y = np.random.random()\\n    if np.sqrt(x **2 + y **2) < 1:\\n        succcesses += 1\\n        \\nsucccesses / num_trials * 4 #guess for pi',\n",
       " '_i51': '%%timeit\\nnum_trials = 1000000\\nsucccesses=0\\nfor trial in range(num_trials):\\n    x = np.random.random()\\n    y = np.random.random()\\n    if np.sqrt(x **2 + y **2) < 1:\\n        succcesses += 1\\n        \\nsucccesses / num_trials * 4 #guess for pi',\n",
       " '_i52': 'np.mean(inCircle) * 4',\n",
       " '_52': 4.0,\n",
       " '_i53': '%%timeit\\nx = np.random.random(1000000)\\ny = np.random.random(1000000)\\n\\ninCircle = np.sqrt(x **2 + y **2) < 1',\n",
       " '_i54': '%%timeit\\nnumTrials = 1000000\\nx = np.random.random(numTrials)\\ny = np.random.random(numTrials)\\n\\ninCircle = np.sqrt(x**2 + y**2) < 1',\n",
       " '_i55': 'np.mean(inCircle) * 4',\n",
       " '_55': 4.0,\n",
       " '_i56': 'np.mean(inCircle) * 4',\n",
       " '_56': 4.0,\n",
       " '_i57': '%%timeit\\nnumTrials = 1000000\\nx = np.random.random(numTrials)\\ny = np.random.random(numTrials)\\n\\ninCircle = np.sqrt(x**2 + y**2) < 1',\n",
       " '_i58': 'np.mean(inCircle) * 4',\n",
       " '_58': 4.0,\n",
       " '_i59': 'import sys',\n",
       " 'sys': <module 'sys' (built-in)>,\n",
       " '_i60': 'getsizeof(x) / 1024 /1024',\n",
       " '_i61': 'sys.getsizeof(x) / 1024 /1024',\n",
       " '_61': 2.288818359375e-05,\n",
       " '_i62': 'locals',\n",
       " '_62': <function locals()>,\n",
       " '_i63': 'locals()'}"
      ]
     },
     "execution_count": 63,
     "metadata": {},
     "output_type": "execute_result"
    }
   ],
   "source": [
    "locals()"
   ]
  },
  {
   "cell_type": "markdown",
   "metadata": {},
   "source": [
    "### Not all algorithms are simple math\n",
    "\n",
    "If you have a function you want to use for monte-carl simulation and it isn't just math you can re-write to be effincient in numpy, you can still use numpy as an input without having to write a for loop."
   ]
  },
  {
   "cell_type": "code",
   "execution_count": 64,
   "metadata": {},
   "outputs": [],
   "source": [
    "def isItCold(temperature):\n",
    "    \"\"\"A complex way to say is it cold or not\"\"\"\n",
    "    if temperature < 20:\n",
    "        return True\n",
    "    return False"
   ]
  },
  {
   "cell_type": "code",
   "execution_count": 65,
   "metadata": {},
   "outputs": [],
   "source": [
    "vIsItCold = np.vectorize(isItCold)"
   ]
  },
  {
   "cell_type": "code",
   "execution_count": 66,
   "metadata": {},
   "outputs": [],
   "source": [
    "temperatures = np.random.normal(23,4,10)"
   ]
  },
  {
   "cell_type": "code",
   "execution_count": 67,
   "metadata": {},
   "outputs": [
    {
     "data": {
      "text/plain": [
       "array([25.78435684, 21.47458276, 20.50545988, 21.56034772, 21.48880305,\n",
       "       23.42111828, 24.88958262, 21.89146385, 24.79973294, 20.48511187])"
      ]
     },
     "execution_count": 67,
     "metadata": {},
     "output_type": "execute_result"
    }
   ],
   "source": [
    "temperatures"
   ]
  },
  {
   "cell_type": "code",
   "execution_count": 68,
   "metadata": {
    "collapsed": true
   },
   "outputs": [
    {
     "ename": "ValueError",
     "evalue": "The truth value of an array with more than one element is ambiguous. Use a.any() or a.all()",
     "output_type": "error",
     "traceback": [
      "\u001b[1;31m---------------------------------------------------------------------------\u001b[0m",
      "\u001b[1;31mValueError\u001b[0m                                Traceback (most recent call last)",
      "\u001b[1;32m<ipython-input-68-f64475883d19>\u001b[0m in \u001b[0;36m<module>\u001b[1;34m\u001b[0m\n\u001b[1;32m----> 1\u001b[1;33m \u001b[0misItCold\u001b[0m\u001b[1;33m(\u001b[0m\u001b[0mtemperatures\u001b[0m\u001b[1;33m)\u001b[0m\u001b[1;33m\u001b[0m\u001b[1;33m\u001b[0m\u001b[0m\n\u001b[0m",
      "\u001b[1;32m<ipython-input-64-2f3132938070>\u001b[0m in \u001b[0;36misItCold\u001b[1;34m(temperature)\u001b[0m\n\u001b[0;32m      1\u001b[0m \u001b[1;32mdef\u001b[0m \u001b[0misItCold\u001b[0m\u001b[1;33m(\u001b[0m\u001b[0mtemperature\u001b[0m\u001b[1;33m)\u001b[0m\u001b[1;33m:\u001b[0m\u001b[1;33m\u001b[0m\u001b[1;33m\u001b[0m\u001b[0m\n\u001b[0;32m      2\u001b[0m     \u001b[1;34m\"\"\"A complex way to say is it cold or not\"\"\"\u001b[0m\u001b[1;33m\u001b[0m\u001b[1;33m\u001b[0m\u001b[0m\n\u001b[1;32m----> 3\u001b[1;33m     \u001b[1;32mif\u001b[0m \u001b[0mtemperature\u001b[0m \u001b[1;33m<\u001b[0m \u001b[1;36m20\u001b[0m\u001b[1;33m:\u001b[0m\u001b[1;33m\u001b[0m\u001b[1;33m\u001b[0m\u001b[0m\n\u001b[0m\u001b[0;32m      4\u001b[0m         \u001b[1;32mreturn\u001b[0m \u001b[1;32mTrue\u001b[0m\u001b[1;33m\u001b[0m\u001b[1;33m\u001b[0m\u001b[0m\n\u001b[0;32m      5\u001b[0m     \u001b[1;32mreturn\u001b[0m \u001b[1;32mFalse\u001b[0m\u001b[1;33m\u001b[0m\u001b[1;33m\u001b[0m\u001b[0m\n",
      "\u001b[1;31mValueError\u001b[0m: The truth value of an array with more than one element is ambiguous. Use a.any() or a.all()"
     ]
    }
   ],
   "source": [
    "isItCold(temperatures)"
   ]
  },
  {
   "cell_type": "code",
   "execution_count": 69,
   "metadata": {},
   "outputs": [
    {
     "data": {
      "text/plain": [
       "array([False, False, False, False, False, False, False, False, False,\n",
       "       False])"
      ]
     },
     "execution_count": 69,
     "metadata": {},
     "output_type": "execute_result"
    }
   ],
   "source": [
    "vIsItCold(temperatures)"
   ]
  },
  {
   "cell_type": "code",
   "execution_count": 70,
   "metadata": {},
   "outputs": [],
   "source": [
    "@np.vectorize\n",
    "def isItCold(temperature):\n",
    "    \"\"\"A complex way to say is it cold or not\"\"\"\n",
    "    if temperature < 20:\n",
    "        return True\n",
    "    return False"
   ]
  },
  {
   "cell_type": "markdown",
   "metadata": {},
   "source": [
    "### Morning tea - back in 15"
   ]
  },
  {
   "cell_type": "markdown",
   "metadata": {},
   "source": [
    "### Statistics with SciPY"
   ]
  },
  {
   "cell_type": "code",
   "execution_count": 72,
   "metadata": {},
   "outputs": [],
   "source": [
    "import pandas as pd"
   ]
  },
  {
   "cell_type": "code",
   "execution_count": 73,
   "metadata": {},
   "outputs": [
    {
     "name": "stderr",
     "output_type": "stream",
     "text": [
      "C:\\ProgramData\\Anaconda3\\lib\\site-packages\\IPython\\core\\interactiveshell.py:3049: DtypeWarning: Columns (15) have mixed types. Specify dtype option on import or set low_memory=False.\n",
      "  interactivity=interactivity, compiler=compiler, result=result)\n"
     ]
    }
   ],
   "source": [
    "crashes = pd.read_csv('D:/Data/traffic/Queensland_crashes.csv')"
   ]
  },
  {
   "cell_type": "code",
   "execution_count": 74,
   "metadata": {
    "collapsed": true
   },
   "outputs": [
    {
     "data": {
      "text/plain": [
       "Crash_Ref_Number                     int64\n",
       "Crash_Severity                      object\n",
       "Crash_Year                           int64\n",
       "Crash_Month                         object\n",
       "Crash_Day_Of_Week                   object\n",
       "Crash_Hour                           int64\n",
       "Crash_Nature                        object\n",
       "Crash_Type                          object\n",
       "Crash_Longitude_GDA94              float64\n",
       "Crash_Latitude_GDA94               float64\n",
       "Crash_Street                        object\n",
       "Crash_Street_Intersecting           object\n",
       "State_Road_Name                     object\n",
       "Loc_Suburb                          object\n",
       "Loc_Local_Government_Area           object\n",
       "Loc_Post_Code                       object\n",
       "Loc_Police_Division                 object\n",
       "Loc_Police_District                 object\n",
       "Loc_Police_Region                   object\n",
       "Loc_Queensland_Transport_Region     object\n",
       "Loc_Main_Roads_Region               object\n",
       "Loc_ABS_Statistical_Area_2          object\n",
       "Loc_ABS_Statistical_Area_3          object\n",
       "Loc_ABS_Statistical_Area_4          object\n",
       "Loc_ABS_Remoteness                  object\n",
       "Loc_State_Electorate                object\n",
       "Loc_Federal_Electorate              object\n",
       "Crash_Controlling_Authority         object\n",
       "Crash_Roadway_Feature               object\n",
       "Crash_Traffic_Control               object\n",
       "Crash_Speed_Limit                   object\n",
       "Crash_Road_Surface_Condition        object\n",
       "Crash_Atmospheric_Condition         object\n",
       "Crash_Lighting_Condition            object\n",
       "Crash_Road_Horiz_Align              object\n",
       "Crash_Road_Vert_Align               object\n",
       "Crash_DCA_Code                     float64\n",
       "Crash_DCA_Description               object\n",
       "Crash_DCA_Group_Description         object\n",
       "DCA_Key_Approach_Dir                object\n",
       "Count_Casualty_Fatality              int64\n",
       "Count_Casualty_Hospitalised          int64\n",
       "Count_Casualty_MedicallyTreated      int64\n",
       "Count_Casualty_MinorInjury           int64\n",
       "Count_Casualty_Total                 int64\n",
       "Count_Unit_Car                       int64\n",
       "Count_Unit_Motorcycle_Moped          int64\n",
       "Count_Unit_Truck                     int64\n",
       "Count_Unit_Bus                       int64\n",
       "Count_Unit_Bicycle                   int64\n",
       "Count_Unit_Pedestrian                int64\n",
       "Count_Unit_Other                     int64\n",
       "dtype: object"
      ]
     },
     "execution_count": 74,
     "metadata": {},
     "output_type": "execute_result"
    }
   ],
   "source": [
    "crashes.dtypes"
   ]
  },
  {
   "cell_type": "code",
   "execution_count": 79,
   "metadata": {},
   "outputs": [
    {
     "data": {
      "text/plain": [
       "<matplotlib.axes._subplots.AxesSubplot at 0x3e1fd748>"
      ]
     },
     "execution_count": 79,
     "metadata": {},
     "output_type": "execute_result"
    },
    {
     "data": {
      "image/png": "[encoded data removed]",
      "text/plain": [
       "<Figure size 432x288 with 1 Axes>"
      ]
     },
     "metadata": {
      "needs_background": "light"
     },
     "output_type": "display_data"
    }
   ],
   "source": [
    "%matplotlib inline\n",
    "crashes['Count_Casualty_Total'].hist(bins=20, density=True)"
   ]
  },
  {
   "cell_type": "code",
   "execution_count": 80,
   "metadata": {},
   "outputs": [],
   "source": [
    "casuatly = crashes['Count_Casualty_Total'].values"
   ]
  },
  {
   "cell_type": "code",
   "execution_count": 81,
   "metadata": {},
   "outputs": [],
   "source": [
    "import scipy.stats"
   ]
  },
  {
   "cell_type": "code",
   "execution_count": 84,
   "metadata": {},
   "outputs": [],
   "source": [
    "params = scipy.stats.uniform.fit(casuatly)  #generates parameters to fit model"
   ]
  },
  {
   "cell_type": "code",
   "execution_count": 87,
   "metadata": {},
   "outputs": [],
   "source": [
    "models = scipy.stats.uniform(params[0],params[1])"
   ]
  },
  {
   "cell_type": "code",
   "execution_count": 89,
   "metadata": {},
   "outputs": [
    {
     "data": {
      "text/plain": [
       "array([26.33355442, 14.5811711 , 18.06746575, 19.17799855, 28.54219946,\n",
       "       11.24739953,  8.24964229, 19.78723245, 25.3644303 ,  3.6404636 ])"
      ]
     },
     "execution_count": 89,
     "metadata": {},
     "output_type": "execute_result"
    }
   ],
   "source": [
    "models.rvs(10)"
   ]
  },
  {
   "cell_type": "code",
   "execution_count": 91,
   "metadata": {},
   "outputs": [
    {
     "data": {
      "text/plain": [
       "0.03125"
      ]
     },
     "execution_count": 91,
     "metadata": {},
     "output_type": "execute_result"
    }
   ],
   "source": [
    "models.pdf(1)   #probabilty denstiy function"
   ]
  },
  {
   "cell_type": "code",
   "execution_count": 92,
   "metadata": {},
   "outputs": [
    {
     "data": {
      "text/plain": [
       "0.46875"
      ]
     },
     "execution_count": 92,
     "metadata": {},
     "output_type": "execute_result"
    }
   ],
   "source": [
    "models.cdf(15)    #cummalitve density function"
   ]
  },
  {
   "cell_type": "code",
   "execution_count": 93,
   "metadata": {},
   "outputs": [
    {
     "data": {
      "text/plain": [
       "16.0"
      ]
     },
     "execution_count": 93,
     "metadata": {},
     "output_type": "execute_result"
    }
   ],
   "source": [
    "models.ppf(0.5)   #percent point function"
   ]
  },
  {
   "cell_type": "code",
   "execution_count": 95,
   "metadata": {},
   "outputs": [],
   "source": [
    "potentialCas = np.linspace(0,32,1000)"
   ]
  },
  {
   "cell_type": "code",
   "execution_count": 97,
   "metadata": {},
   "outputs": [],
   "source": [
    "import matplotlib.pyplot as plt"
   ]
  },
  {
   "cell_type": "code",
   "execution_count": 99,
   "metadata": {},
   "outputs": [
    {
     "data": {
      "text/plain": [
       "[<matplotlib.lines.Line2D at 0x48df4630>]"
      ]
     },
     "execution_count": 99,
     "metadata": {},
     "output_type": "execute_result"
    },
    {
     "data": {
      "image/png": "[encoded data removed]",
      "text/plain": [
       "<Figure size 432x288 with 1 Axes>"
      ]
     },
     "metadata": {
      "needs_background": "light"
     },
     "output_type": "display_data"
    }
   ],
   "source": [
    "plt.plot(models.pdf(potentialCas))"
   ]
  },
  {
   "cell_type": "code",
   "execution_count": 100,
   "metadata": {},
   "outputs": [],
   "source": [
    "params = scipy.stats.norm.fit(casuatly) "
   ]
  },
  {
   "cell_type": "code",
   "execution_count": 101,
   "metadata": {},
   "outputs": [
    {
     "data": {
      "text/plain": [
       "(0.9799419339704551, 0.8774647540482406)"
      ]
     },
     "execution_count": 101,
     "metadata": {},
     "output_type": "execute_result"
    }
   ],
   "source": [
    "params"
   ]
  },
  {
   "cell_type": "code",
   "execution_count": 103,
   "metadata": {},
   "outputs": [],
   "source": [
    "model = scipy.stats.norm(params[0],params[1])"
   ]
  },
  {
   "cell_type": "code",
   "execution_count": 107,
   "metadata": {},
   "outputs": [
    {
     "data": {
      "text/plain": [
       "[<matplotlib.lines.Line2D at 0x4915cb70>]"
      ]
     },
     "execution_count": 107,
     "metadata": {},
     "output_type": "execute_result"
    },
    {
     "data": {
      "image/png": "[encoded data removed]",
      "text/plain": [
       "<Figure size 432x288 with 1 Axes>"
      ]
     },
     "metadata": {
      "needs_background": "light"
     },
     "output_type": "display_data"
    }
   ],
   "source": [
    "crashes['Count_Casualty_Total'].hist(bins=20, density=True)\n",
    "plt.plot(potentialCas, # x values\n",
    "        model.pdf(potentialCas)) # y valus"
   ]
  },
  {
   "cell_type": "code",
   "execution_count": 108,
   "metadata": {},
   "outputs": [],
   "source": [
    "params = scipy.stats.gamma.fit(casuatly)"
   ]
  },
  {
   "cell_type": "code",
   "execution_count": 110,
   "metadata": {},
   "outputs": [],
   "source": [
    "model = scipy.stats.gamma(*params)  # fit data parameters number not needed"
   ]
  },
  {
   "cell_type": "code",
   "execution_count": 111,
   "metadata": {},
   "outputs": [
    {
     "data": {
      "text/plain": [
       "[<matplotlib.lines.Line2D at 0x495d0dd8>]"
      ]
     },
     "execution_count": 111,
     "metadata": {},
     "output_type": "execute_result"
    },
    {
     "data": {
      "image/png": "[encoded data removed]",
      "text/plain": [
       "<Figure size 432x288 with 1 Axes>"
      ]
     },
     "metadata": {
      "needs_background": "light"
     },
     "output_type": "display_data"
    }
   ],
   "source": [
    "crashes['Count_Casualty_Total'].hist(bins=20, density=True)\n",
    "plt.plot(potentialCas, # x values\n",
    "        model.pdf(potentialCas)) # y valus"
   ]
  },
  {
   "cell_type": "markdown",
   "metadata": {},
   "source": [
    "### Fitting and choosing a modle for your data\n",
    "\n",
    "Try fitting and plotting for the following models."
   ]
  },
  {
   "cell_type": "code",
   "execution_count": 112,
   "metadata": {},
   "outputs": [
    {
     "data": {
      "text/plain": [
       "[<matplotlib.lines.Line2D at 0x49728f28>]"
      ]
     },
     "execution_count": 112,
     "metadata": {},
     "output_type": "execute_result"
    },
    {
     "data": {
      "image/png": "[encoded data removed]",
      "text/plain": [
       "<Figure size 432x288 with 1 Axes>"
      ]
     },
     "metadata": {
      "needs_background": "light"
     },
     "output_type": "display_data"
    }
   ],
   "source": [
    "params = scipy.stats.t.fit(casuatly)\n",
    "model = scipy.stats.t(*params)\n",
    "crashes['Count_Casualty_Total'].hist(bins=20, density=True)\n",
    "plt.plot(potentialCas, # x values\n",
    "        model.pdf(potentialCas)) # y valus"
   ]
  },
  {
   "cell_type": "code",
   "execution_count": 113,
   "metadata": {},
   "outputs": [
    {
     "name": "stderr",
     "output_type": "stream",
     "text": [
      "C:\\ProgramData\\Anaconda3\\lib\\site-packages\\scipy\\stats\\_distn_infrastructure.py:2316: RuntimeWarning: invalid value encountered in double_scalars\n",
      "  Lhat = muhat - Shat*mu\n"
     ]
    },
    {
     "data": {
      "text/plain": [
       "[<matplotlib.lines.Line2D at 0x3df783c8>]"
      ]
     },
     "execution_count": 113,
     "metadata": {},
     "output_type": "execute_result"
    },
    {
     "data": {
      "image/png": "[encoded data removed]",
      "text/plain": [
       "<Figure size 432x288 with 1 Axes>"
      ]
     },
     "metadata": {
      "needs_background": "light"
     },
     "output_type": "display_data"
    }
   ],
   "source": [
    "params = scipy.stats.pareto.fit(casuatly)\n",
    "model = scipy.stats.pareto(*params)\n",
    "crashes['Count_Casualty_Total'].hist(bins=20, density=True)\n",
    "plt.plot(potentialCas, # x values\n",
    "        model.pdf(potentialCas)) # y valus"
   ]
  },
  {
   "cell_type": "code",
   "execution_count": 114,
   "metadata": {},
   "outputs": [
    {
     "data": {
      "text/plain": [
       "[<matplotlib.lines.Line2D at 0x48cd5c18>]"
      ]
     },
     "execution_count": 114,
     "metadata": {},
     "output_type": "execute_result"
    },
    {
     "data": {
      "image/png": "[encoded data removed]",
      "text/plain": [
       "<Figure size 432x288 with 1 Axes>"
      ]
     },
     "metadata": {
      "needs_background": "light"
     },
     "output_type": "display_data"
    }
   ],
   "source": [
    "params = scipy.stats.laplace.fit(casuatly)\n",
    "model = scipy.stats.laplace(*params)\n",
    "crashes['Count_Casualty_Total'].hist(bins=20, density=True)\n",
    "plt.plot(potentialCas, # x values\n",
    "        model.pdf(potentialCas)) # y valus"
   ]
  },
  {
   "cell_type": "code",
   "execution_count": 116,
   "metadata": {},
   "outputs": [],
   "source": [
    "models = {\n",
    "    'students t': scipy.stats.t,\n",
    "    'pareto': scipy.stats.pareto,\n",
    "    'laplace': scipy.stats.laplace\n",
    "}"
   ]
  },
  {
   "cell_type": "code",
   "execution_count": 118,
   "metadata": {},
   "outputs": [
    {
     "data": {
      "text/plain": [
       "<matplotlib.legend.Legend at 0x48cb4da0>"
      ]
     },
     "execution_count": 118,
     "metadata": {},
     "output_type": "execute_result"
    },
    {
     "data": {
      "image/png": "[encoded data removed]",
      "text/plain": [
       "<Figure size 432x288 with 1 Axes>"
      ]
     },
     "metadata": {
      "needs_background": "light"
     },
     "output_type": "display_data"
    }
   ],
   "source": [
    "crashes['Count_Casualty_Total'].hist(bins=20, density=True)\n",
    "\n",
    "for key in models:\n",
    "    params = models[key].fit(casuatly)\n",
    "    model =  models[key](*params)\n",
    "    plt.plot(\n",
    "        potentialCas, # x values\n",
    "        model.pdf(potentialCas),\n",
    "    label =key\n",
    "    ) # y valus\n",
    "plt.legend()"
   ]
  },
  {
   "cell_type": "code",
   "execution_count": 119,
   "metadata": {},
   "outputs": [],
   "source": [
    "params = scipy.stats.pareto.fit(casuatly)"
   ]
  },
  {
   "cell_type": "code",
   "execution_count": 120,
   "metadata": {},
   "outputs": [],
   "source": [
    "model = scipy.stats.pareto(*params)"
   ]
  },
  {
   "cell_type": "code",
   "execution_count": 121,
   "metadata": {},
   "outputs": [
    {
     "data": {
      "text/plain": [
       "<bound method rv_frozen.cdf of <scipy.stats._distn_infrastructure.rv_frozen object at 0x0000000048C6C080>>"
      ]
     },
     "execution_count": 121,
     "metadata": {},
     "output_type": "execute_result"
    }
   ],
   "source": [
    "model.cdf"
   ]
  },
  {
   "cell_type": "code",
   "execution_count": 124,
   "metadata": {},
   "outputs": [
    {
     "data": {
      "text/plain": [
       "KstestResult(statistic=0.35646857032914575, pvalue=0.0)"
      ]
     },
     "execution_count": 124,
     "metadata": {},
     "output_type": "execute_result"
    }
   ],
   "source": [
    "scipy.stats.kstest(casuatly, model.cdf)"
   ]
  },
  {
   "cell_type": "markdown",
   "metadata": {},
   "source": [
    "### Non-parametric statistics"
   ]
  },
  {
   "cell_type": "code",
   "execution_count": 127,
   "metadata": {},
   "outputs": [],
   "source": [
    "kd_model = scipy.stats.gaussian_kde(casuatly)"
   ]
  },
  {
   "cell_type": "code",
   "execution_count": 129,
   "metadata": {
    "collapsed": true
   },
   "outputs": [
    {
     "ename": "NameError",
     "evalue": "name 'potential_casualties' is not defined",
     "output_type": "error",
     "traceback": [
      "\u001b[1;31m---------------------------------------------------------------------------\u001b[0m",
      "\u001b[1;31mNameError\u001b[0m                                 Traceback (most recent call last)",
      "\u001b[1;32m<ipython-input-129-270727152c4b>\u001b[0m in \u001b[0;36m<module>\u001b[1;34m\u001b[0m\n\u001b[0;32m      1\u001b[0m plt.plot(\n\u001b[1;32m----> 2\u001b[1;33m     \u001b[0mpotential_casualties\u001b[0m\u001b[1;33m,\u001b[0m\u001b[1;33m\u001b[0m\u001b[1;33m\u001b[0m\u001b[0m\n\u001b[0m\u001b[0;32m      3\u001b[0m     casuatly(potential_casualties))\n",
      "\u001b[1;31mNameError\u001b[0m: name 'potential_casualties' is not defined"
     ]
    }
   ],
   "source": [
    "plt.plot(\n",
    "    potential_casualties,\n",
    "    casuatly(potential_casualties))"
   ]
  },
  {
   "cell_type": "code",
   "execution_count": 130,
   "metadata": {
    "collapsed": true
   },
   "outputs": [
    {
     "ename": "NameError",
     "evalue": "name 'kdeModel' is not defined",
     "output_type": "error",
     "traceback": [
      "\u001b[1;31m---------------------------------------------------------------------------\u001b[0m",
      "\u001b[1;31mNameError\u001b[0m                                 Traceback (most recent call last)",
      "\u001b[1;32m<ipython-input-130-484e233f3af3>\u001b[0m in \u001b[0;36m<module>\u001b[1;34m\u001b[0m\n\u001b[1;32m----> 1\u001b[1;33m \u001b[0mkdeModel\u001b[0m\u001b[1;33m.\u001b[0m\u001b[0mintegrate_box_1d\u001b[0m\u001b[1;33m(\u001b[0m\u001b[1;36m1\u001b[0m\u001b[1;33m,\u001b[0m\u001b[1;36m5\u001b[0m\u001b[1;33m)\u001b[0m \u001b[1;31m#probility of between 1 and 5 casualites\u001b[0m\u001b[1;33m\u001b[0m\u001b[1;33m\u001b[0m\u001b[0m\n\u001b[0m",
      "\u001b[1;31mNameError\u001b[0m: name 'kdeModel' is not defined"
     ]
    }
   ],
   "source": [
    "kdeModel.integrate_box_1d(1,5) #probility of between 1 and 5 casualites"
   ]
  },
  {
   "cell_type": "markdown",
   "metadata": {},
   "source": [
    "### Linear regression in Python\n",
    "\n",
    "We can do linear regression in scipy, but its ugly. But its much nicer to use the \"statsmodel\" library.  **A quick note**\n",
    "Python is by design happy to be second best at lots of thing and to be easy to write. R is the language for stats but its not a general purpose language. Happily if you want you can call R code from Python using the \"RPy2\" library. You can go the other way from R to Python with \"reticulate\".\n"
   ]
  },
  {
   "cell_type": "code",
   "execution_count": 142,
   "metadata": {},
   "outputs": [],
   "source": [
    "calories = pd.read_csv('D:/Data/calories.csv')\n",
    "calories.set_index =\"food\""
   ]
  },
  {
   "cell_type": "code",
   "execution_count": 145,
   "metadata": {},
   "outputs": [
    {
     "data": {
      "text/html": [
       "<div>\n",
       "<style scoped>\n",
       "    .dataframe tbody tr th:only-of-type {\n",
       "        vertical-align: middle;\n",
       "    }\n",
       "\n",
       "    .dataframe tbody tr th {\n",
       "        vertical-align: top;\n",
       "    }\n",
       "\n",
       "    .dataframe thead th {\n",
       "        text-align: right;\n",
       "    }\n",
       "</style>\n",
       "<table border=\"1\" class=\"dataframe\">\n",
       "  <thead>\n",
       "    <tr style=\"text-align: right;\">\n",
       "      <th></th>\n",
       "      <th>Food</th>\n",
       "      <th>Measure</th>\n",
       "      <th>Weight (g)</th>\n",
       "      <th>kCal</th>\n",
       "      <th>Fat (g)</th>\n",
       "      <th>Carbo(g)</th>\n",
       "      <th>Protein (g)</th>\n",
       "    </tr>\n",
       "  </thead>\n",
       "  <tbody>\n",
       "    <tr>\n",
       "      <th>0</th>\n",
       "      <td>1000 Island,Salad Drsng,Local</td>\n",
       "      <td>1 Tbsp</td>\n",
       "      <td>15.00</td>\n",
       "      <td>25</td>\n",
       "      <td>2</td>\n",
       "      <td>2</td>\n",
       "      <td>0</td>\n",
       "    </tr>\n",
       "    <tr>\n",
       "      <th>1</th>\n",
       "      <td>1000 Island,Salad Drsng,Reglr</td>\n",
       "      <td>1 Tbsp</td>\n",
       "      <td>16.00</td>\n",
       "      <td>60</td>\n",
       "      <td>6</td>\n",
       "      <td>2</td>\n",
       "      <td>0</td>\n",
       "    </tr>\n",
       "    <tr>\n",
       "      <th>2</th>\n",
       "      <td>40% Bran Flakes,Kellogg's</td>\n",
       "      <td>1 oz</td>\n",
       "      <td>28.35</td>\n",
       "      <td>90</td>\n",
       "      <td>1</td>\n",
       "      <td>22</td>\n",
       "      <td>4</td>\n",
       "    </tr>\n",
       "    <tr>\n",
       "      <th>3</th>\n",
       "      <td>40% Bran Flakes,Post</td>\n",
       "      <td>1 oz</td>\n",
       "      <td>28.35</td>\n",
       "      <td>90</td>\n",
       "      <td>0</td>\n",
       "      <td>22</td>\n",
       "      <td>3</td>\n",
       "    </tr>\n",
       "    <tr>\n",
       "      <th>4</th>\n",
       "      <td>Alfalfa Seeds,Sprouted,Raw</td>\n",
       "      <td>1 Cup</td>\n",
       "      <td>33.00</td>\n",
       "      <td>10</td>\n",
       "      <td>0</td>\n",
       "      <td>1</td>\n",
       "      <td>1</td>\n",
       "    </tr>\n",
       "  </tbody>\n",
       "</table>\n",
       "</div>"
      ],
      "text/plain": [
       "                            Food Measure  Weight (g)  kCal  Fat (g)  Carbo(g)  \\\n",
       "0  1000 Island,Salad Drsng,Local  1 Tbsp       15.00    25        2         2   \n",
       "1  1000 Island,Salad Drsng,Reglr  1 Tbsp       16.00    60        6         2   \n",
       "2      40% Bran Flakes,Kellogg's    1 oz       28.35    90        1        22   \n",
       "3           40% Bran Flakes,Post    1 oz       28.35    90        0        22   \n",
       "4     Alfalfa Seeds,Sprouted,Raw   1 Cup       33.00    10        0         1   \n",
       "\n",
       "   Protein (g)  \n",
       "0            0  \n",
       "1            0  \n",
       "2            4  \n",
       "3            3  \n",
       "4            1  "
      ]
     },
     "execution_count": 145,
     "metadata": {},
     "output_type": "execute_result"
    }
   ],
   "source": [
    "calories.head()"
   ]
  },
  {
   "cell_type": "code",
   "execution_count": 147,
   "metadata": {},
   "outputs": [],
   "source": [
    "calories.columns = [\n",
    "    'food','measure','weight','kcal','fat','carbo', 'protein'\n",
    "]"
   ]
  },
  {
   "cell_type": "code",
   "execution_count": 150,
   "metadata": {},
   "outputs": [],
   "source": [
    "import statsmodels.api as sm\n",
    "from statsmodels.api import formula as smf"
   ]
  },
  {
   "cell_type": "code",
   "execution_count": 151,
   "metadata": {},
   "outputs": [],
   "source": [
    "formula = 'kcal ~ carbo + protein' "
   ]
  },
  {
   "cell_type": "code",
   "execution_count": 152,
   "metadata": {},
   "outputs": [],
   "source": [
    "model = smf.ols(formula, calories).fit()"
   ]
  },
  {
   "cell_type": "code",
   "execution_count": 154,
   "metadata": {},
   "outputs": [
    {
     "data": {
      "text/html": [
       "<table class=\"simpletable\">\n",
       "<caption>OLS Regression Results</caption>\n",
       "<tr>\n",
       "  <th>Dep. Variable:</th>          <td>kcal</td>       <th>  R-squared:         </th> <td>   0.795</td> \n",
       "</tr>\n",
       "<tr>\n",
       "  <th>Model:</th>                   <td>OLS</td>       <th>  Adj. R-squared:    </th> <td>   0.795</td> \n",
       "</tr>\n",
       "<tr>\n",
       "  <th>Method:</th>             <td>Least Squares</td>  <th>  F-statistic:       </th> <td>   1859.</td> \n",
       "</tr>\n",
       "<tr>\n",
       "  <th>Date:</th>             <td>Wed, 02 Oct 2019</td> <th>  Prob (F-statistic):</th>  <td>  0.00</td>  \n",
       "</tr>\n",
       "<tr>\n",
       "  <th>Time:</th>                 <td>11:57:12</td>     <th>  Log-Likelihood:    </th> <td> -6645.9</td> \n",
       "</tr>\n",
       "<tr>\n",
       "  <th>No. Observations:</th>      <td>   960</td>      <th>  AIC:               </th> <td>1.330e+04</td>\n",
       "</tr>\n",
       "<tr>\n",
       "  <th>Df Residuals:</th>          <td>   957</td>      <th>  BIC:               </th> <td>1.331e+04</td>\n",
       "</tr>\n",
       "<tr>\n",
       "  <th>Df Model:</th>              <td>     2</td>      <th>                     </th>     <td> </td>    \n",
       "</tr>\n",
       "<tr>\n",
       "  <th>Covariance Type:</th>      <td>nonrobust</td>    <th>                     </th>     <td> </td>    \n",
       "</tr>\n",
       "</table>\n",
       "<table class=\"simpletable\">\n",
       "<tr>\n",
       "      <td></td>         <th>coef</th>     <th>std err</th>      <th>t</th>      <th>P>|t|</th>  <th>[0.025</th>    <th>0.975]</th>  \n",
       "</tr>\n",
       "<tr>\n",
       "  <th>Intercept</th> <td>   20.2256</td> <td>    9.765</td> <td>    2.071</td> <td> 0.039</td> <td>    1.062</td> <td>   39.389</td>\n",
       "</tr>\n",
       "<tr>\n",
       "  <th>carbo</th>     <td>    5.4356</td> <td>    0.122</td> <td>   44.401</td> <td> 0.000</td> <td>    5.195</td> <td>    5.676</td>\n",
       "</tr>\n",
       "<tr>\n",
       "  <th>protein</th>   <td>    9.0395</td> <td>    0.949</td> <td>    9.521</td> <td> 0.000</td> <td>    7.176</td> <td>   10.903</td>\n",
       "</tr>\n",
       "</table>\n",
       "<table class=\"simpletable\">\n",
       "<tr>\n",
       "  <th>Omnibus:</th>       <td>1021.350</td> <th>  Durbin-Watson:     </th> <td>   1.811</td> \n",
       "</tr>\n",
       "<tr>\n",
       "  <th>Prob(Omnibus):</th>  <td> 0.000</td>  <th>  Jarque-Bera (JB):  </th> <td>52593.022</td>\n",
       "</tr>\n",
       "<tr>\n",
       "  <th>Skew:</th>           <td> 5.194</td>  <th>  Prob(JB):          </th> <td>    0.00</td> \n",
       "</tr>\n",
       "<tr>\n",
       "  <th>Kurtosis:</th>       <td>37.741</td>  <th>  Cond. No.          </th> <td>    106.</td> \n",
       "</tr>\n",
       "</table><br/><br/>Warnings:<br/>[1] Standard Errors assume that the covariance matrix of the errors is correctly specified."
      ],
      "text/plain": [
       "<class 'statsmodels.iolib.summary.Summary'>\n",
       "\"\"\"\n",
       "                            OLS Regression Results                            \n",
       "==============================================================================\n",
       "Dep. Variable:                   kcal   R-squared:                       0.795\n",
       "Model:                            OLS   Adj. R-squared:                  0.795\n",
       "Method:                 Least Squares   F-statistic:                     1859.\n",
       "Date:                Wed, 02 Oct 2019   Prob (F-statistic):               0.00\n",
       "Time:                        11:57:12   Log-Likelihood:                -6645.9\n",
       "No. Observations:                 960   AIC:                         1.330e+04\n",
       "Df Residuals:                     957   BIC:                         1.331e+04\n",
       "Df Model:                           2                                         \n",
       "Covariance Type:            nonrobust                                         \n",
       "==============================================================================\n",
       "                 coef    std err          t      P>|t|      [0.025      0.975]\n",
       "------------------------------------------------------------------------------\n",
       "Intercept     20.2256      9.765      2.071      0.039       1.062      39.389\n",
       "carbo          5.4356      0.122     44.401      0.000       5.195       5.676\n",
       "protein        9.0395      0.949      9.521      0.000       7.176      10.903\n",
       "==============================================================================\n",
       "Omnibus:                     1021.350   Durbin-Watson:                   1.811\n",
       "Prob(Omnibus):                  0.000   Jarque-Bera (JB):            52593.022\n",
       "Skew:                           5.194   Prob(JB):                         0.00\n",
       "Kurtosis:                      37.741   Cond. No.                         106.\n",
       "==============================================================================\n",
       "\n",
       "Warnings:\n",
       "[1] Standard Errors assume that the covariance matrix of the errors is correctly specified.\n",
       "\"\"\""
      ]
     },
     "execution_count": 154,
     "metadata": {},
     "output_type": "execute_result"
    }
   ],
   "source": [
    "model.summary()"
   ]
  },
  {
   "cell_type": "code",
   "execution_count": 156,
   "metadata": {},
   "outputs": [],
   "source": [
    "sample = calories.sample(3) "
   ]
  },
  {
   "cell_type": "code",
   "execution_count": 157,
   "metadata": {},
   "outputs": [
    {
     "data": {
      "text/html": [
       "<div>\n",
       "<style scoped>\n",
       "    .dataframe tbody tr th:only-of-type {\n",
       "        vertical-align: middle;\n",
       "    }\n",
       "\n",
       "    .dataframe tbody tr th {\n",
       "        vertical-align: top;\n",
       "    }\n",
       "\n",
       "    .dataframe thead th {\n",
       "        text-align: right;\n",
       "    }\n",
       "</style>\n",
       "<table border=\"1\" class=\"dataframe\">\n",
       "  <thead>\n",
       "    <tr style=\"text-align: right;\">\n",
       "      <th></th>\n",
       "      <th>food</th>\n",
       "      <th>measure</th>\n",
       "      <th>weight</th>\n",
       "      <th>kcal</th>\n",
       "      <th>fat</th>\n",
       "      <th>carbo</th>\n",
       "      <th>protein</th>\n",
       "    </tr>\n",
       "  </thead>\n",
       "  <tbody>\n",
       "    <tr>\n",
       "      <th>292</th>\n",
       "      <td>Custard Pie</td>\n",
       "      <td>1 Pie</td>\n",
       "      <td>910.00</td>\n",
       "      <td>1985</td>\n",
       "      <td>101</td>\n",
       "      <td>213</td>\n",
       "      <td>56</td>\n",
       "    </tr>\n",
       "    <tr>\n",
       "      <th>3</th>\n",
       "      <td>40% Bran Flakes,Post</td>\n",
       "      <td>1 oz</td>\n",
       "      <td>28.35</td>\n",
       "      <td>90</td>\n",
       "      <td>0</td>\n",
       "      <td>22</td>\n",
       "      <td>3</td>\n",
       "    </tr>\n",
       "    <tr>\n",
       "      <th>519</th>\n",
       "      <td>Mixed Nuts W/ Peants,Oil,Saltd</td>\n",
       "      <td>1 oz</td>\n",
       "      <td>28.35</td>\n",
       "      <td>175</td>\n",
       "      <td>16</td>\n",
       "      <td>6</td>\n",
       "      <td>5</td>\n",
       "    </tr>\n",
       "  </tbody>\n",
       "</table>\n",
       "</div>"
      ],
      "text/plain": [
       "                               food measure  weight  kcal  fat  carbo  protein\n",
       "292                     Custard Pie   1 Pie  910.00  1985  101    213       56\n",
       "3              40% Bran Flakes,Post    1 oz   28.35    90    0     22        3\n",
       "519  Mixed Nuts W/ Peants,Oil,Saltd    1 oz   28.35   175   16      6        5"
      ]
     },
     "execution_count": 157,
     "metadata": {},
     "output_type": "execute_result"
    }
   ],
   "source": [
    "sample"
   ]
  },
  {
   "cell_type": "code",
   "execution_count": 158,
   "metadata": {},
   "outputs": [
    {
     "data": {
      "text/plain": [
       "292    1684.217571\n",
       "3       166.927017\n",
       "519      98.036665\n",
       "dtype: float64"
      ]
     },
     "execution_count": 158,
     "metadata": {},
     "output_type": "execute_result"
    }
   ],
   "source": [
    "model.predict(sample)"
   ]
  },
  {
   "cell_type": "markdown",
   "metadata": {},
   "source": [
    "### Exercise: Getting a better fit\n",
    "\n",
    "Update your formula to include the weight, fat,carbo and protein columns.\n",
    "Create a new model form the formula an dlook at the summary. What is the rsquared value\n",
    "\n",
    "Use the model to preidict the entire calories dataset to get estimated calories. Use a scatter plot to plot acutal vs estimated to see how well you did:"
   ]
  },
  {
   "cell_type": "code",
   "execution_count": 159,
   "metadata": {},
   "outputs": [],
   "source": [
    "import seaborn"
   ]
  },
  {
   "cell_type": "code",
   "execution_count": 160,
   "metadata": {},
   "outputs": [],
   "source": [
    "formula2 = 'kcal ~ carbo + protein +fat + weight' "
   ]
  },
  {
   "cell_type": "code",
   "execution_count": 162,
   "metadata": {},
   "outputs": [],
   "source": [
    "model = smf.ols(formula2, calories).fit()"
   ]
  },
  {
   "cell_type": "code",
   "execution_count": 163,
   "metadata": {},
   "outputs": [
    {
     "data": {
      "text/html": [
       "<table class=\"simpletable\">\n",
       "<caption>OLS Regression Results</caption>\n",
       "<tr>\n",
       "  <th>Dep. Variable:</th>          <td>kcal</td>       <th>  R-squared:         </th> <td>   0.999</td> \n",
       "</tr>\n",
       "<tr>\n",
       "  <th>Model:</th>                   <td>OLS</td>       <th>  Adj. R-squared:    </th> <td>   0.999</td> \n",
       "</tr>\n",
       "<tr>\n",
       "  <th>Method:</th>             <td>Least Squares</td>  <th>  F-statistic:       </th> <td>1.913e+05</td>\n",
       "</tr>\n",
       "<tr>\n",
       "  <th>Date:</th>             <td>Wed, 02 Oct 2019</td> <th>  Prob (F-statistic):</th>  <td>  0.00</td>  \n",
       "</tr>\n",
       "<tr>\n",
       "  <th>Time:</th>                 <td>12:05:48</td>     <th>  Log-Likelihood:    </th> <td> -4197.2</td> \n",
       "</tr>\n",
       "<tr>\n",
       "  <th>No. Observations:</th>      <td>   960</td>      <th>  AIC:               </th> <td>   8404.</td> \n",
       "</tr>\n",
       "<tr>\n",
       "  <th>Df Residuals:</th>          <td>   955</td>      <th>  BIC:               </th> <td>   8429.</td> \n",
       "</tr>\n",
       "<tr>\n",
       "  <th>Df Model:</th>              <td>     4</td>      <th>                     </th>     <td> </td>    \n",
       "</tr>\n",
       "<tr>\n",
       "  <th>Covariance Type:</th>      <td>nonrobust</td>    <th>                     </th>     <td> </td>    \n",
       "</tr>\n",
       "</table>\n",
       "<table class=\"simpletable\">\n",
       "<tr>\n",
       "      <td></td>         <th>coef</th>     <th>std err</th>      <th>t</th>      <th>P>|t|</th>  <th>[0.025</th>    <th>0.975]</th>  \n",
       "</tr>\n",
       "<tr>\n",
       "  <th>Intercept</th> <td>   -1.9897</td> <td>    0.909</td> <td>   -2.190</td> <td> 0.029</td> <td>   -3.773</td> <td>   -0.207</td>\n",
       "</tr>\n",
       "<tr>\n",
       "  <th>carbo</th>     <td>    3.8120</td> <td>    0.015</td> <td>  259.536</td> <td> 0.000</td> <td>    3.783</td> <td>    3.841</td>\n",
       "</tr>\n",
       "<tr>\n",
       "  <th>protein</th>   <td>    4.2337</td> <td>    0.076</td> <td>   55.753</td> <td> 0.000</td> <td>    4.085</td> <td>    4.383</td>\n",
       "</tr>\n",
       "<tr>\n",
       "  <th>fat</th>       <td>    8.7775</td> <td>    0.023</td> <td>  385.772</td> <td> 0.000</td> <td>    8.733</td> <td>    8.822</td>\n",
       "</tr>\n",
       "<tr>\n",
       "  <th>weight</th>    <td>    0.0165</td> <td>    0.007</td> <td>    2.505</td> <td> 0.012</td> <td>    0.004</td> <td>    0.029</td>\n",
       "</tr>\n",
       "</table>\n",
       "<table class=\"simpletable\">\n",
       "<tr>\n",
       "  <th>Omnibus:</th>       <td>761.712</td> <th>  Durbin-Watson:     </th>  <td>   1.605</td> \n",
       "</tr>\n",
       "<tr>\n",
       "  <th>Prob(Omnibus):</th> <td> 0.000</td>  <th>  Jarque-Bera (JB):  </th> <td>103573.955</td>\n",
       "</tr>\n",
       "<tr>\n",
       "  <th>Skew:</th>          <td>-2.821</td>  <th>  Prob(JB):          </th>  <td>    0.00</td> \n",
       "</tr>\n",
       "<tr>\n",
       "  <th>Kurtosis:</th>      <td>53.572</td>  <th>  Cond. No.          </th>  <td>    357.</td> \n",
       "</tr>\n",
       "</table><br/><br/>Warnings:<br/>[1] Standard Errors assume that the covariance matrix of the errors is correctly specified."
      ],
      "text/plain": [
       "<class 'statsmodels.iolib.summary.Summary'>\n",
       "\"\"\"\n",
       "                            OLS Regression Results                            \n",
       "==============================================================================\n",
       "Dep. Variable:                   kcal   R-squared:                       0.999\n",
       "Model:                            OLS   Adj. R-squared:                  0.999\n",
       "Method:                 Least Squares   F-statistic:                 1.913e+05\n",
       "Date:                Wed, 02 Oct 2019   Prob (F-statistic):               0.00\n",
       "Time:                        12:05:48   Log-Likelihood:                -4197.2\n",
       "No. Observations:                 960   AIC:                             8404.\n",
       "Df Residuals:                     955   BIC:                             8429.\n",
       "Df Model:                           4                                         \n",
       "Covariance Type:            nonrobust                                         \n",
       "==============================================================================\n",
       "                 coef    std err          t      P>|t|      [0.025      0.975]\n",
       "------------------------------------------------------------------------------\n",
       "Intercept     -1.9897      0.909     -2.190      0.029      -3.773      -0.207\n",
       "carbo          3.8120      0.015    259.536      0.000       3.783       3.841\n",
       "protein        4.2337      0.076     55.753      0.000       4.085       4.383\n",
       "fat            8.7775      0.023    385.772      0.000       8.733       8.822\n",
       "weight         0.0165      0.007      2.505      0.012       0.004       0.029\n",
       "==============================================================================\n",
       "Omnibus:                      761.712   Durbin-Watson:                   1.605\n",
       "Prob(Omnibus):                  0.000   Jarque-Bera (JB):           103573.955\n",
       "Skew:                          -2.821   Prob(JB):                         0.00\n",
       "Kurtosis:                      53.572   Cond. No.                         357.\n",
       "==============================================================================\n",
       "\n",
       "Warnings:\n",
       "[1] Standard Errors assume that the covariance matrix of the errors is correctly specified.\n",
       "\"\"\""
      ]
     },
     "execution_count": 163,
     "metadata": {},
     "output_type": "execute_result"
    }
   ],
   "source": [
    "model.summary()"
   ]
  },
  {
   "cell_type": "code",
   "execution_count": 165,
   "metadata": {},
   "outputs": [
    {
     "data": {
      "text/plain": [
       "array(['Monday', 'Tuesday', 'Wednesday', 'Thursday', 'Friday', 'Saturday',\n",
       "       'Sunday'], dtype=object)"
      ]
     },
     "execution_count": 165,
     "metadata": {},
     "output_type": "execute_result"
    }
   ],
   "source": [
    "crashes['Crash_Day_Of_Week'].unique()"
   ]
  },
  {
   "cell_type": "code",
   "execution_count": 166,
   "metadata": {},
   "outputs": [
    {
     "data": {
      "text/plain": [
       "Index(['Crash_Ref_Number', 'Crash_Severity', 'Crash_Year', 'Crash_Month',\n",
       "       'Crash_Day_Of_Week', 'Crash_Hour', 'Crash_Nature', 'Crash_Type',\n",
       "       'Crash_Longitude_GDA94', 'Crash_Latitude_GDA94', 'Crash_Street',\n",
       "       'Crash_Street_Intersecting', 'State_Road_Name', 'Loc_Suburb',\n",
       "       'Loc_Local_Government_Area', 'Loc_Post_Code', 'Loc_Police_Division',\n",
       "       'Loc_Police_District', 'Loc_Police_Region',\n",
       "       'Loc_Queensland_Transport_Region', 'Loc_Main_Roads_Region',\n",
       "       'Loc_ABS_Statistical_Area_2', 'Loc_ABS_Statistical_Area_3',\n",
       "       'Loc_ABS_Statistical_Area_4', 'Loc_ABS_Remoteness',\n",
       "       'Loc_State_Electorate', 'Loc_Federal_Electorate',\n",
       "       'Crash_Controlling_Authority', 'Crash_Roadway_Feature',\n",
       "       'Crash_Traffic_Control', 'Crash_Speed_Limit',\n",
       "       'Crash_Road_Surface_Condition', 'Crash_Atmospheric_Condition',\n",
       "       'Crash_Lighting_Condition', 'Crash_Road_Horiz_Align',\n",
       "       'Crash_Road_Vert_Align', 'Crash_DCA_Code', 'Crash_DCA_Description',\n",
       "       'Crash_DCA_Group_Description', 'DCA_Key_Approach_Dir',\n",
       "       'Count_Casualty_Fatality', 'Count_Casualty_Hospitalised',\n",
       "       'Count_Casualty_MedicallyTreated', 'Count_Casualty_MinorInjury',\n",
       "       'Count_Casualty_Total', 'Count_Unit_Car', 'Count_Unit_Motorcycle_Moped',\n",
       "       'Count_Unit_Truck', 'Count_Unit_Bus', 'Count_Unit_Bicycle',\n",
       "       'Count_Unit_Pedestrian', 'Count_Unit_Other'],\n",
       "      dtype='object')"
      ]
     },
     "execution_count": 166,
     "metadata": {},
     "output_type": "execute_result"
    }
   ],
   "source": [
    "crashes.columns"
   ]
  },
  {
   "cell_type": "code",
   "execution_count": 172,
   "metadata": {},
   "outputs": [],
   "source": [
    "formula = 'Count_Casualty_Total ~ C(Crash_Day_Of_Week)+ Crash_Hour -1'"
   ]
  },
  {
   "cell_type": "code",
   "execution_count": 173,
   "metadata": {},
   "outputs": [],
   "source": [
    "model= smf.ols(formula,crashes).fit()"
   ]
  },
  {
   "cell_type": "code",
   "execution_count": 174,
   "metadata": {},
   "outputs": [
    {
     "data": {
      "text/html": [
       "<table class=\"simpletable\">\n",
       "<caption>OLS Regression Results</caption>\n",
       "<tr>\n",
       "  <th>Dep. Variable:</th>    <td>Count_Casualty_Total</td> <th>  R-squared:         </th>  <td>   0.001</td>  \n",
       "</tr>\n",
       "<tr>\n",
       "  <th>Model:</th>                     <td>OLS</td>         <th>  Adj. R-squared:    </th>  <td>   0.001</td>  \n",
       "</tr>\n",
       "<tr>\n",
       "  <th>Method:</th>               <td>Least Squares</td>    <th>  F-statistic:       </th>  <td>   33.02</td>  \n",
       "</tr>\n",
       "<tr>\n",
       "  <th>Date:</th>               <td>Wed, 02 Oct 2019</td>   <th>  Prob (F-statistic):</th>  <td>2.92e-46</td>  \n",
       "</tr>\n",
       "<tr>\n",
       "  <th>Time:</th>                   <td>12:19:47</td>       <th>  Log-Likelihood:    </th> <td>-4.2274e+05</td>\n",
       "</tr>\n",
       "<tr>\n",
       "  <th>No. Observations:</th>        <td>328247</td>        <th>  AIC:               </th>  <td>8.455e+05</td> \n",
       "</tr>\n",
       "<tr>\n",
       "  <th>Df Residuals:</th>            <td>328239</td>        <th>  BIC:               </th>  <td>8.456e+05</td> \n",
       "</tr>\n",
       "<tr>\n",
       "  <th>Df Model:</th>                <td>     7</td>        <th>                     </th>      <td> </td>     \n",
       "</tr>\n",
       "<tr>\n",
       "  <th>Covariance Type:</th>        <td>nonrobust</td>      <th>                     </th>      <td> </td>     \n",
       "</tr>\n",
       "</table>\n",
       "<table class=\"simpletable\">\n",
       "<tr>\n",
       "                 <td></td>                    <th>coef</th>     <th>std err</th>      <th>t</th>      <th>P>|t|</th>  <th>[0.025</th>    <th>0.975]</th>  \n",
       "</tr>\n",
       "<tr>\n",
       "  <th>C(Crash_Day_Of_Week)[Friday]</th>    <td>    0.9262</td> <td>    0.005</td> <td>  172.005</td> <td> 0.000</td> <td>    0.916</td> <td>    0.937</td>\n",
       "</tr>\n",
       "<tr>\n",
       "  <th>C(Crash_Day_Of_Week)[Monday]</th>    <td>    0.9392</td> <td>    0.006</td> <td>  169.465</td> <td> 0.000</td> <td>    0.928</td> <td>    0.950</td>\n",
       "</tr>\n",
       "<tr>\n",
       "  <th>C(Crash_Day_Of_Week)[Saturday]</th>  <td>    0.9683</td> <td>    0.005</td> <td>  178.083</td> <td> 0.000</td> <td>    0.958</td> <td>    0.979</td>\n",
       "</tr>\n",
       "<tr>\n",
       "  <th>C(Crash_Day_Of_Week)[Sunday]</th>    <td>    0.9890</td> <td>    0.006</td> <td>  173.239</td> <td> 0.000</td> <td>    0.978</td> <td>    1.000</td>\n",
       "</tr>\n",
       "<tr>\n",
       "  <th>C(Crash_Day_Of_Week)[Thursday]</th>  <td>    0.9330</td> <td>    0.005</td> <td>  171.281</td> <td> 0.000</td> <td>    0.922</td> <td>    0.944</td>\n",
       "</tr>\n",
       "<tr>\n",
       "  <th>C(Crash_Day_Of_Week)[Tuesday]</th>   <td>    0.9403</td> <td>    0.006</td> <td>  170.842</td> <td> 0.000</td> <td>    0.930</td> <td>    0.951</td>\n",
       "</tr>\n",
       "<tr>\n",
       "  <th>C(Crash_Day_Of_Week)[Wednesday]</th> <td>    0.9414</td> <td>    0.005</td> <td>  171.720</td> <td> 0.000</td> <td>    0.931</td> <td>    0.952</td>\n",
       "</tr>\n",
       "<tr>\n",
       "  <th>Crash_Hour</th>                      <td>    0.0026</td> <td>    0.000</td> <td>    9.057</td> <td> 0.000</td> <td>    0.002</td> <td>    0.003</td>\n",
       "</tr>\n",
       "</table>\n",
       "<table class=\"simpletable\">\n",
       "<tr>\n",
       "  <th>Omnibus:</th>       <td>213234.685</td> <th>  Durbin-Watson:     </th>   <td>   1.846</td>  \n",
       "</tr>\n",
       "<tr>\n",
       "  <th>Prob(Omnibus):</th>   <td> 0.000</td>   <th>  Jarque-Bera (JB):  </th> <td>10136930.823</td>\n",
       "</tr>\n",
       "<tr>\n",
       "  <th>Skew:</th>            <td> 2.519</td>   <th>  Prob(JB):          </th>   <td>    0.00</td>  \n",
       "</tr>\n",
       "<tr>\n",
       "  <th>Kurtosis:</th>        <td>29.754</td>   <th>  Cond. No.          </th>   <td>    95.9</td>  \n",
       "</tr>\n",
       "</table><br/><br/>Warnings:<br/>[1] Standard Errors assume that the covariance matrix of the errors is correctly specified."
      ],
      "text/plain": [
       "<class 'statsmodels.iolib.summary.Summary'>\n",
       "\"\"\"\n",
       "                             OLS Regression Results                             \n",
       "================================================================================\n",
       "Dep. Variable:     Count_Casualty_Total   R-squared:                       0.001\n",
       "Model:                              OLS   Adj. R-squared:                  0.001\n",
       "Method:                   Least Squares   F-statistic:                     33.02\n",
       "Date:                  Wed, 02 Oct 2019   Prob (F-statistic):           2.92e-46\n",
       "Time:                          12:19:47   Log-Likelihood:            -4.2274e+05\n",
       "No. Observations:                328247   AIC:                         8.455e+05\n",
       "Df Residuals:                    328239   BIC:                         8.456e+05\n",
       "Df Model:                             7                                         \n",
       "Covariance Type:              nonrobust                                         \n",
       "===================================================================================================\n",
       "                                      coef    std err          t      P>|t|      [0.025      0.975]\n",
       "---------------------------------------------------------------------------------------------------\n",
       "C(Crash_Day_Of_Week)[Friday]        0.9262      0.005    172.005      0.000       0.916       0.937\n",
       "C(Crash_Day_Of_Week)[Monday]        0.9392      0.006    169.465      0.000       0.928       0.950\n",
       "C(Crash_Day_Of_Week)[Saturday]      0.9683      0.005    178.083      0.000       0.958       0.979\n",
       "C(Crash_Day_Of_Week)[Sunday]        0.9890      0.006    173.239      0.000       0.978       1.000\n",
       "C(Crash_Day_Of_Week)[Thursday]      0.9330      0.005    171.281      0.000       0.922       0.944\n",
       "C(Crash_Day_Of_Week)[Tuesday]       0.9403      0.006    170.842      0.000       0.930       0.951\n",
       "C(Crash_Day_Of_Week)[Wednesday]     0.9414      0.005    171.720      0.000       0.931       0.952\n",
       "Crash_Hour                          0.0026      0.000      9.057      0.000       0.002       0.003\n",
       "==============================================================================\n",
       "Omnibus:                   213234.685   Durbin-Watson:                   1.846\n",
       "Prob(Omnibus):                  0.000   Jarque-Bera (JB):         10136930.823\n",
       "Skew:                           2.519   Prob(JB):                         0.00\n",
       "Kurtosis:                      29.754   Cond. No.                         95.9\n",
       "==============================================================================\n",
       "\n",
       "Warnings:\n",
       "[1] Standard Errors assume that the covariance matrix of the errors is correctly specified.\n",
       "\"\"\""
      ]
     },
     "execution_count": 174,
     "metadata": {},
     "output_type": "execute_result"
    }
   ],
   "source": [
    "model.summary()"
   ]
  },
  {
   "cell_type": "markdown",
   "metadata": {},
   "source": [
    "### Time series data in Pandas\n",
    "Any dataset with a data/time can be turned into a time series. However when you load most datasets they don't have a native dateime format."
   ]
  },
  {
   "cell_type": "code",
   "execution_count": 194,
   "metadata": {},
   "outputs": [],
   "source": [
    "rain=pd.read_csv(\n",
    "    'D:/Data/Rainfall/10010.csv',\n",
    "    header= None,\n",
    "    names=['date','rain'],\n",
    "    parse_dates=['date'],\n",
    "    dayfirst=True,\n",
    "    index_col='date')"
   ]
  },
  {
   "cell_type": "code",
   "execution_count": 195,
   "metadata": {},
   "outputs": [
    {
     "data": {
      "text/plain": [
       "rain    float64\n",
       "dtype: object"
      ]
     },
     "execution_count": 195,
     "metadata": {},
     "output_type": "execute_result"
    }
   ],
   "source": [
    "rain.dtypes"
   ]
  },
  {
   "cell_type": "code",
   "execution_count": 196,
   "metadata": {
    "scrolled": true
   },
   "outputs": [
    {
     "data": {
      "text/html": [
       "<div>\n",
       "<style scoped>\n",
       "    .dataframe tbody tr th:only-of-type {\n",
       "        vertical-align: middle;\n",
       "    }\n",
       "\n",
       "    .dataframe tbody tr th {\n",
       "        vertical-align: top;\n",
       "    }\n",
       "\n",
       "    .dataframe thead th {\n",
       "        text-align: right;\n",
       "    }\n",
       "</style>\n",
       "<table border=\"1\" class=\"dataframe\">\n",
       "  <thead>\n",
       "    <tr style=\"text-align: right;\">\n",
       "      <th></th>\n",
       "      <th>rain</th>\n",
       "    </tr>\n",
       "    <tr>\n",
       "      <th>date</th>\n",
       "      <th></th>\n",
       "    </tr>\n",
       "  </thead>\n",
       "  <tbody>\n",
       "    <tr>\n",
       "      <th>1930-09-01</th>\n",
       "      <td>0.000000</td>\n",
       "    </tr>\n",
       "    <tr>\n",
       "      <th>1930-09-02</th>\n",
       "      <td>0.000000</td>\n",
       "    </tr>\n",
       "    <tr>\n",
       "      <th>1930-09-03</th>\n",
       "      <td>0.000000</td>\n",
       "    </tr>\n",
       "    <tr>\n",
       "      <th>1930-09-04</th>\n",
       "      <td>0.000000</td>\n",
       "    </tr>\n",
       "    <tr>\n",
       "      <th>1930-09-05</th>\n",
       "      <td>3.063430</td>\n",
       "    </tr>\n",
       "    <tr>\n",
       "      <th>1930-09-06</th>\n",
       "      <td>1.967835</td>\n",
       "    </tr>\n",
       "    <tr>\n",
       "      <th>1930-09-07</th>\n",
       "      <td>1.090469</td>\n",
       "    </tr>\n",
       "    <tr>\n",
       "      <th>1930-09-08</th>\n",
       "      <td>0.610020</td>\n",
       "    </tr>\n",
       "    <tr>\n",
       "      <th>1930-09-09</th>\n",
       "      <td>0.346879</td>\n",
       "    </tr>\n",
       "    <tr>\n",
       "      <th>1930-09-10</th>\n",
       "      <td>0.121272</td>\n",
       "    </tr>\n",
       "    <tr>\n",
       "      <th>1930-09-11</th>\n",
       "      <td>0.000000</td>\n",
       "    </tr>\n",
       "    <tr>\n",
       "      <th>1930-09-12</th>\n",
       "      <td>0.000000</td>\n",
       "    </tr>\n",
       "    <tr>\n",
       "      <th>1930-09-13</th>\n",
       "      <td>0.165719</td>\n",
       "    </tr>\n",
       "    <tr>\n",
       "      <th>1930-09-14</th>\n",
       "      <td>0.000000</td>\n",
       "    </tr>\n",
       "    <tr>\n",
       "      <th>1930-09-15</th>\n",
       "      <td>0.000000</td>\n",
       "    </tr>\n",
       "    <tr>\n",
       "      <th>1930-09-16</th>\n",
       "      <td>0.000000</td>\n",
       "    </tr>\n",
       "    <tr>\n",
       "      <th>1930-09-17</th>\n",
       "      <td>0.000000</td>\n",
       "    </tr>\n",
       "    <tr>\n",
       "      <th>1930-09-18</th>\n",
       "      <td>0.000000</td>\n",
       "    </tr>\n",
       "    <tr>\n",
       "      <th>1930-09-19</th>\n",
       "      <td>0.000000</td>\n",
       "    </tr>\n",
       "    <tr>\n",
       "      <th>1930-09-20</th>\n",
       "      <td>0.000000</td>\n",
       "    </tr>\n",
       "    <tr>\n",
       "      <th>1930-09-21</th>\n",
       "      <td>1.569311</td>\n",
       "    </tr>\n",
       "    <tr>\n",
       "      <th>1930-09-22</th>\n",
       "      <td>0.939889</td>\n",
       "    </tr>\n",
       "    <tr>\n",
       "      <th>1930-09-23</th>\n",
       "      <td>0.533134</td>\n",
       "    </tr>\n",
       "    <tr>\n",
       "      <th>1930-09-24</th>\n",
       "      <td>0.310294</td>\n",
       "    </tr>\n",
       "    <tr>\n",
       "      <th>1930-09-25</th>\n",
       "      <td>0.120378</td>\n",
       "    </tr>\n",
       "    <tr>\n",
       "      <th>1930-09-26</th>\n",
       "      <td>0.000000</td>\n",
       "    </tr>\n",
       "    <tr>\n",
       "      <th>1930-09-27</th>\n",
       "      <td>0.000000</td>\n",
       "    </tr>\n",
       "    <tr>\n",
       "      <th>1930-09-28</th>\n",
       "      <td>0.000000</td>\n",
       "    </tr>\n",
       "    <tr>\n",
       "      <th>1930-09-29</th>\n",
       "      <td>0.000000</td>\n",
       "    </tr>\n",
       "    <tr>\n",
       "      <th>1930-09-30</th>\n",
       "      <td>0.000000</td>\n",
       "    </tr>\n",
       "    <tr>\n",
       "      <th>...</th>\n",
       "      <td>...</td>\n",
       "    </tr>\n",
       "    <tr>\n",
       "      <th>2007-08-02</th>\n",
       "      <td>20.216554</td>\n",
       "    </tr>\n",
       "    <tr>\n",
       "      <th>2007-08-03</th>\n",
       "      <td>19.989167</td>\n",
       "    </tr>\n",
       "    <tr>\n",
       "      <th>2007-08-04</th>\n",
       "      <td>19.794177</td>\n",
       "    </tr>\n",
       "    <tr>\n",
       "      <th>2007-08-05</th>\n",
       "      <td>19.617481</td>\n",
       "    </tr>\n",
       "    <tr>\n",
       "      <th>2007-08-06</th>\n",
       "      <td>19.451354</td>\n",
       "    </tr>\n",
       "    <tr>\n",
       "      <th>2007-08-07</th>\n",
       "      <td>19.291562</td>\n",
       "    </tr>\n",
       "    <tr>\n",
       "      <th>2007-08-08</th>\n",
       "      <td>19.135781</td>\n",
       "    </tr>\n",
       "    <tr>\n",
       "      <th>2007-08-09</th>\n",
       "      <td>18.982737</td>\n",
       "    </tr>\n",
       "    <tr>\n",
       "      <th>2007-08-10</th>\n",
       "      <td>21.086089</td>\n",
       "    </tr>\n",
       "    <tr>\n",
       "      <th>2007-08-11</th>\n",
       "      <td>20.385875</td>\n",
       "    </tr>\n",
       "    <tr>\n",
       "      <th>2007-08-12</th>\n",
       "      <td>19.929445</td>\n",
       "    </tr>\n",
       "    <tr>\n",
       "      <th>2007-08-13</th>\n",
       "      <td>19.163882</td>\n",
       "    </tr>\n",
       "    <tr>\n",
       "      <th>2007-08-14</th>\n",
       "      <td>18.679529</td>\n",
       "    </tr>\n",
       "    <tr>\n",
       "      <th>2007-08-15</th>\n",
       "      <td>18.349648</td>\n",
       "    </tr>\n",
       "    <tr>\n",
       "      <th>2007-08-16</th>\n",
       "      <td>18.875309</td>\n",
       "    </tr>\n",
       "    <tr>\n",
       "      <th>2007-08-17</th>\n",
       "      <td>18.486528</td>\n",
       "    </tr>\n",
       "    <tr>\n",
       "      <th>2007-08-18</th>\n",
       "      <td>18.393600</td>\n",
       "    </tr>\n",
       "    <tr>\n",
       "      <th>2007-08-19</th>\n",
       "      <td>18.345289</td>\n",
       "    </tr>\n",
       "    <tr>\n",
       "      <th>2007-08-20</th>\n",
       "      <td>18.135557</td>\n",
       "    </tr>\n",
       "    <tr>\n",
       "      <th>2007-08-21</th>\n",
       "      <td>17.850635</td>\n",
       "    </tr>\n",
       "    <tr>\n",
       "      <th>2007-08-22</th>\n",
       "      <td>17.465135</td>\n",
       "    </tr>\n",
       "    <tr>\n",
       "      <th>2007-08-23</th>\n",
       "      <td>17.193290</td>\n",
       "    </tr>\n",
       "    <tr>\n",
       "      <th>2007-08-24</th>\n",
       "      <td>16.984152</td>\n",
       "    </tr>\n",
       "    <tr>\n",
       "      <th>2007-08-25</th>\n",
       "      <td>16.809820</td>\n",
       "    </tr>\n",
       "    <tr>\n",
       "      <th>2007-08-26</th>\n",
       "      <td>16.655017</td>\n",
       "    </tr>\n",
       "    <tr>\n",
       "      <th>2007-08-27</th>\n",
       "      <td>16.511375</td>\n",
       "    </tr>\n",
       "    <tr>\n",
       "      <th>2007-08-28</th>\n",
       "      <td>16.612950</td>\n",
       "    </tr>\n",
       "    <tr>\n",
       "      <th>2007-08-29</th>\n",
       "      <td>16.553202</td>\n",
       "    </tr>\n",
       "    <tr>\n",
       "      <th>2007-08-30</th>\n",
       "      <td>17.191830</td>\n",
       "    </tr>\n",
       "    <tr>\n",
       "      <th>2007-08-31</th>\n",
       "      <td>17.096967</td>\n",
       "    </tr>\n",
       "  </tbody>\n",
       "</table>\n",
       "<p>28124 rows × 1 columns</p>\n",
       "</div>"
      ],
      "text/plain": [
       "                 rain\n",
       "date                 \n",
       "1930-09-01   0.000000\n",
       "1930-09-02   0.000000\n",
       "1930-09-03   0.000000\n",
       "1930-09-04   0.000000\n",
       "1930-09-05   3.063430\n",
       "1930-09-06   1.967835\n",
       "1930-09-07   1.090469\n",
       "1930-09-08   0.610020\n",
       "1930-09-09   0.346879\n",
       "1930-09-10   0.121272\n",
       "1930-09-11   0.000000\n",
       "1930-09-12   0.000000\n",
       "1930-09-13   0.165719\n",
       "1930-09-14   0.000000\n",
       "1930-09-15   0.000000\n",
       "1930-09-16   0.000000\n",
       "1930-09-17   0.000000\n",
       "1930-09-18   0.000000\n",
       "1930-09-19   0.000000\n",
       "1930-09-20   0.000000\n",
       "1930-09-21   1.569311\n",
       "1930-09-22   0.939889\n",
       "1930-09-23   0.533134\n",
       "1930-09-24   0.310294\n",
       "1930-09-25   0.120378\n",
       "1930-09-26   0.000000\n",
       "1930-09-27   0.000000\n",
       "1930-09-28   0.000000\n",
       "1930-09-29   0.000000\n",
       "1930-09-30   0.000000\n",
       "...               ...\n",
       "2007-08-02  20.216554\n",
       "2007-08-03  19.989167\n",
       "2007-08-04  19.794177\n",
       "2007-08-05  19.617481\n",
       "2007-08-06  19.451354\n",
       "2007-08-07  19.291562\n",
       "2007-08-08  19.135781\n",
       "2007-08-09  18.982737\n",
       "2007-08-10  21.086089\n",
       "2007-08-11  20.385875\n",
       "2007-08-12  19.929445\n",
       "2007-08-13  19.163882\n",
       "2007-08-14  18.679529\n",
       "2007-08-15  18.349648\n",
       "2007-08-16  18.875309\n",
       "2007-08-17  18.486528\n",
       "2007-08-18  18.393600\n",
       "2007-08-19  18.345289\n",
       "2007-08-20  18.135557\n",
       "2007-08-21  17.850635\n",
       "2007-08-22  17.465135\n",
       "2007-08-23  17.193290\n",
       "2007-08-24  16.984152\n",
       "2007-08-25  16.809820\n",
       "2007-08-26  16.655017\n",
       "2007-08-27  16.511375\n",
       "2007-08-28  16.612950\n",
       "2007-08-29  16.553202\n",
       "2007-08-30  17.191830\n",
       "2007-08-31  17.096967\n",
       "\n",
       "[28124 rows x 1 columns]"
      ]
     },
     "execution_count": 196,
     "metadata": {},
     "output_type": "execute_result"
    }
   ],
   "source": [
    "rain"
   ]
  },
  {
   "cell_type": "code",
   "execution_count": 199,
   "metadata": {
    "scrolled": true
   },
   "outputs": [
    {
     "data": {
      "text/plain": [
       "<matplotlib.axes._subplots.AxesSubplot at 0x4f669f28>"
      ]
     },
     "execution_count": 199,
     "metadata": {},
     "output_type": "execute_result"
    },
    {
     "data": {
      "image/png": "[encoded data removed]",
      "text/plain": [
       "<Figure size 432x288 with 1 Axes>"
      ]
     },
     "metadata": {
      "needs_background": "light"
     },
     "output_type": "display_data"
    }
   ],
   "source": [
    "rain.plot()"
   ]
  },
  {
   "cell_type": "code",
   "execution_count": 201,
   "metadata": {},
   "outputs": [
    {
     "data": {
      "text/plain": [
       "<matplotlib.axes._subplots.AxesSubplot at 0x488bd128>"
      ]
     },
     "execution_count": 201,
     "metadata": {},
     "output_type": "execute_result"
    },
    {
     "data": {
      "image/png": "[encoded data removed]",
      "text/plain": [
       "<Figure size 432x288 with 1 Axes>"
      ]
     },
     "metadata": {
      "needs_background": "light"
     },
     "output_type": "display_data"
    }
   ],
   "source": [
    "rain.loc['1950'].plot()"
   ]
  },
  {
   "cell_type": "code",
   "execution_count": 202,
   "metadata": {},
   "outputs": [
    {
     "data": {
      "text/html": [
       "<div>\n",
       "<style scoped>\n",
       "    .dataframe tbody tr th:only-of-type {\n",
       "        vertical-align: middle;\n",
       "    }\n",
       "\n",
       "    .dataframe tbody tr th {\n",
       "        vertical-align: top;\n",
       "    }\n",
       "\n",
       "    .dataframe thead th {\n",
       "        text-align: right;\n",
       "    }\n",
       "</style>\n",
       "<table border=\"1\" class=\"dataframe\">\n",
       "  <thead>\n",
       "    <tr style=\"text-align: right;\">\n",
       "      <th></th>\n",
       "      <th>rain</th>\n",
       "    </tr>\n",
       "    <tr>\n",
       "      <th>date</th>\n",
       "      <th></th>\n",
       "    </tr>\n",
       "  </thead>\n",
       "  <tbody>\n",
       "    <tr>\n",
       "      <th>1950-02-01</th>\n",
       "      <td>1103.525610</td>\n",
       "    </tr>\n",
       "    <tr>\n",
       "      <th>1950-02-02</th>\n",
       "      <td>5482.339441</td>\n",
       "    </tr>\n",
       "    <tr>\n",
       "      <th>1950-02-03</th>\n",
       "      <td>3295.558391</td>\n",
       "    </tr>\n",
       "    <tr>\n",
       "      <th>1950-02-04</th>\n",
       "      <td>2012.802178</td>\n",
       "    </tr>\n",
       "    <tr>\n",
       "      <th>1950-02-05</th>\n",
       "      <td>1346.940205</td>\n",
       "    </tr>\n",
       "    <tr>\n",
       "      <th>1950-02-06</th>\n",
       "      <td>963.454119</td>\n",
       "    </tr>\n",
       "    <tr>\n",
       "      <th>1950-02-07</th>\n",
       "      <td>781.057200</td>\n",
       "    </tr>\n",
       "    <tr>\n",
       "      <th>1950-02-08</th>\n",
       "      <td>636.337186</td>\n",
       "    </tr>\n",
       "    <tr>\n",
       "      <th>1950-02-09</th>\n",
       "      <td>534.871851</td>\n",
       "    </tr>\n",
       "    <tr>\n",
       "      <th>1950-02-10</th>\n",
       "      <td>434.354502</td>\n",
       "    </tr>\n",
       "    <tr>\n",
       "      <th>1950-02-11</th>\n",
       "      <td>1184.410391</td>\n",
       "    </tr>\n",
       "    <tr>\n",
       "      <th>1950-02-12</th>\n",
       "      <td>1017.543092</td>\n",
       "    </tr>\n",
       "    <tr>\n",
       "      <th>1950-02-13</th>\n",
       "      <td>1384.840298</td>\n",
       "    </tr>\n",
       "    <tr>\n",
       "      <th>1950-02-14</th>\n",
       "      <td>1547.636085</td>\n",
       "    </tr>\n",
       "    <tr>\n",
       "      <th>1950-02-15</th>\n",
       "      <td>1301.293941</td>\n",
       "    </tr>\n",
       "    <tr>\n",
       "      <th>1950-02-16</th>\n",
       "      <td>1009.489545</td>\n",
       "    </tr>\n",
       "    <tr>\n",
       "      <th>1950-02-17</th>\n",
       "      <td>816.448570</td>\n",
       "    </tr>\n",
       "    <tr>\n",
       "      <th>1950-02-18</th>\n",
       "      <td>731.731928</td>\n",
       "    </tr>\n",
       "    <tr>\n",
       "      <th>1950-02-19</th>\n",
       "      <td>624.226766</td>\n",
       "    </tr>\n",
       "    <tr>\n",
       "      <th>1950-02-20</th>\n",
       "      <td>549.394632</td>\n",
       "    </tr>\n",
       "    <tr>\n",
       "      <th>1950-02-21</th>\n",
       "      <td>1358.488860</td>\n",
       "    </tr>\n",
       "    <tr>\n",
       "      <th>1950-02-22</th>\n",
       "      <td>1048.444031</td>\n",
       "    </tr>\n",
       "    <tr>\n",
       "      <th>1950-02-23</th>\n",
       "      <td>778.551461</td>\n",
       "    </tr>\n",
       "    <tr>\n",
       "      <th>1950-02-24</th>\n",
       "      <td>630.998379</td>\n",
       "    </tr>\n",
       "    <tr>\n",
       "      <th>1950-02-25</th>\n",
       "      <td>512.443456</td>\n",
       "    </tr>\n",
       "    <tr>\n",
       "      <th>1950-02-26</th>\n",
       "      <td>417.157965</td>\n",
       "    </tr>\n",
       "    <tr>\n",
       "      <th>1950-02-27</th>\n",
       "      <td>337.082448</td>\n",
       "    </tr>\n",
       "    <tr>\n",
       "      <th>1950-02-28</th>\n",
       "      <td>314.834410</td>\n",
       "    </tr>\n",
       "  </tbody>\n",
       "</table>\n",
       "</div>"
      ],
      "text/plain": [
       "                   rain\n",
       "date                   \n",
       "1950-02-01  1103.525610\n",
       "1950-02-02  5482.339441\n",
       "1950-02-03  3295.558391\n",
       "1950-02-04  2012.802178\n",
       "1950-02-05  1346.940205\n",
       "1950-02-06   963.454119\n",
       "1950-02-07   781.057200\n",
       "1950-02-08   636.337186\n",
       "1950-02-09   534.871851\n",
       "1950-02-10   434.354502\n",
       "1950-02-11  1184.410391\n",
       "1950-02-12  1017.543092\n",
       "1950-02-13  1384.840298\n",
       "1950-02-14  1547.636085\n",
       "1950-02-15  1301.293941\n",
       "1950-02-16  1009.489545\n",
       "1950-02-17   816.448570\n",
       "1950-02-18   731.731928\n",
       "1950-02-19   624.226766\n",
       "1950-02-20   549.394632\n",
       "1950-02-21  1358.488860\n",
       "1950-02-22  1048.444031\n",
       "1950-02-23   778.551461\n",
       "1950-02-24   630.998379\n",
       "1950-02-25   512.443456\n",
       "1950-02-26   417.157965\n",
       "1950-02-27   337.082448\n",
       "1950-02-28   314.834410"
      ]
     },
     "execution_count": 202,
     "metadata": {},
     "output_type": "execute_result"
    }
   ],
   "source": [
    "rain.loc['1950-02']"
   ]
  },
  {
   "cell_type": "code",
   "execution_count": 203,
   "metadata": {},
   "outputs": [
    {
     "data": {
      "text/plain": [
       "rain    1547.636085\n",
       "Name: 1950-02-14 00:00:00, dtype: float64"
      ]
     },
     "execution_count": 203,
     "metadata": {},
     "output_type": "execute_result"
    }
   ],
   "source": [
    "rain.loc['1950-02-14']"
   ]
  },
  {
   "cell_type": "code",
   "execution_count": 204,
   "metadata": {},
   "outputs": [
    {
     "data": {
      "text/plain": [
       "rain    1547.636085\n",
       "Name: 1950-02-14 00:00:00, dtype: float64"
      ]
     },
     "execution_count": 204,
     "metadata": {},
     "output_type": "execute_result"
    }
   ],
   "source": [
    "rain.loc['1950-02-14 00:00:00.000000']"
   ]
  },
  {
   "cell_type": "code",
   "execution_count": 205,
   "metadata": {
    "scrolled": true
   },
   "outputs": [
    {
     "ename": "KeyError",
     "evalue": "'1950-02-14 00:00:00.000001'",
     "output_type": "error",
     "traceback": [
      "\u001b[1;31m---------------------------------------------------------------------------\u001b[0m",
      "\u001b[1;31mTypeError\u001b[0m                                 Traceback (most recent call last)",
      "\u001b[1;32mpandas/_libs/index.pyx\u001b[0m in \u001b[0;36mpandas._libs.index.DatetimeEngine.get_loc\u001b[1;34m()\u001b[0m\n",
      "\u001b[1;32mpandas/_libs/hashtable_class_helper.pxi\u001b[0m in \u001b[0;36mpandas._libs.hashtable.Int64HashTable.get_item\u001b[1;34m()\u001b[0m\n",
      "\u001b[1;31mTypeError\u001b[0m: an integer is required",
      "\nDuring handling of the above exception, another exception occurred:\n",
      "\u001b[1;31mKeyError\u001b[0m                                  Traceback (most recent call last)",
      "\u001b[1;32mC:\\ProgramData\\Anaconda3\\lib\\site-packages\\pandas\\core\\indexes\\base.py\u001b[0m in \u001b[0;36mget_loc\u001b[1;34m(self, key, method, tolerance)\u001b[0m\n\u001b[0;32m   2656\u001b[0m             \u001b[1;32mtry\u001b[0m\u001b[1;33m:\u001b[0m\u001b[1;33m\u001b[0m\u001b[1;33m\u001b[0m\u001b[0m\n\u001b[1;32m-> 2657\u001b[1;33m                 \u001b[1;32mreturn\u001b[0m \u001b[0mself\u001b[0m\u001b[1;33m.\u001b[0m\u001b[0m_engine\u001b[0m\u001b[1;33m.\u001b[0m\u001b[0mget_loc\u001b[0m\u001b[1;33m(\u001b[0m\u001b[0mkey\u001b[0m\u001b[1;33m)\u001b[0m\u001b[1;33m\u001b[0m\u001b[1;33m\u001b[0m\u001b[0m\n\u001b[0m\u001b[0;32m   2658\u001b[0m             \u001b[1;32mexcept\u001b[0m \u001b[0mKeyError\u001b[0m\u001b[1;33m:\u001b[0m\u001b[1;33m\u001b[0m\u001b[1;33m\u001b[0m\u001b[0m\n",
      "\u001b[1;32mpandas/_libs/index.pyx\u001b[0m in \u001b[0;36mpandas._libs.index.DatetimeEngine.get_loc\u001b[1;34m()\u001b[0m\n",
      "\u001b[1;32mpandas/_libs/index.pyx\u001b[0m in \u001b[0;36mpandas._libs.index.DatetimeEngine.get_loc\u001b[1;34m()\u001b[0m\n",
      "\u001b[1;32mpandas/_libs/index.pyx\u001b[0m in \u001b[0;36mpandas._libs.index.DatetimeEngine._date_check_type\u001b[1;34m()\u001b[0m\n",
      "\u001b[1;31mKeyError\u001b[0m: '1950-02-14 00:00:00.000001'",
      "\nDuring handling of the above exception, another exception occurred:\n",
      "\u001b[1;31mTypeError\u001b[0m                                 Traceback (most recent call last)",
      "\u001b[1;32mpandas/_libs/index.pyx\u001b[0m in \u001b[0;36mpandas._libs.index.DatetimeEngine.get_loc\u001b[1;34m()\u001b[0m\n",
      "\u001b[1;32mpandas/_libs/hashtable_class_helper.pxi\u001b[0m in \u001b[0;36mpandas._libs.hashtable.Int64HashTable.get_item\u001b[1;34m()\u001b[0m\n",
      "\u001b[1;31mTypeError\u001b[0m: an integer is required",
      "\nDuring handling of the above exception, another exception occurred:\n",
      "\u001b[1;31mKeyError\u001b[0m                                  Traceback (most recent call last)",
      "\u001b[1;32mC:\\ProgramData\\Anaconda3\\lib\\site-packages\\pandas\\core\\indexes\\datetimes.py\u001b[0m in \u001b[0;36mget_loc\u001b[1;34m(self, key, method, tolerance)\u001b[0m\n\u001b[0;32m   1008\u001b[0m         \u001b[1;32mtry\u001b[0m\u001b[1;33m:\u001b[0m\u001b[1;33m\u001b[0m\u001b[1;33m\u001b[0m\u001b[0m\n\u001b[1;32m-> 1009\u001b[1;33m             \u001b[1;32mreturn\u001b[0m \u001b[0mIndex\u001b[0m\u001b[1;33m.\u001b[0m\u001b[0mget_loc\u001b[0m\u001b[1;33m(\u001b[0m\u001b[0mself\u001b[0m\u001b[1;33m,\u001b[0m \u001b[0mkey\u001b[0m\u001b[1;33m,\u001b[0m \u001b[0mmethod\u001b[0m\u001b[1;33m,\u001b[0m \u001b[0mtolerance\u001b[0m\u001b[1;33m)\u001b[0m\u001b[1;33m\u001b[0m\u001b[1;33m\u001b[0m\u001b[0m\n\u001b[0m\u001b[0;32m   1010\u001b[0m         \u001b[1;32mexcept\u001b[0m \u001b[1;33m(\u001b[0m\u001b[0mKeyError\u001b[0m\u001b[1;33m,\u001b[0m \u001b[0mValueError\u001b[0m\u001b[1;33m,\u001b[0m \u001b[0mTypeError\u001b[0m\u001b[1;33m)\u001b[0m\u001b[1;33m:\u001b[0m\u001b[1;33m\u001b[0m\u001b[1;33m\u001b[0m\u001b[0m\n",
      "\u001b[1;32mC:\\ProgramData\\Anaconda3\\lib\\site-packages\\pandas\\core\\indexes\\base.py\u001b[0m in \u001b[0;36mget_loc\u001b[1;34m(self, key, method, tolerance)\u001b[0m\n\u001b[0;32m   2658\u001b[0m             \u001b[1;32mexcept\u001b[0m \u001b[0mKeyError\u001b[0m\u001b[1;33m:\u001b[0m\u001b[1;33m\u001b[0m\u001b[1;33m\u001b[0m\u001b[0m\n\u001b[1;32m-> 2659\u001b[1;33m                 \u001b[1;32mreturn\u001b[0m \u001b[0mself\u001b[0m\u001b[1;33m.\u001b[0m\u001b[0m_engine\u001b[0m\u001b[1;33m.\u001b[0m\u001b[0mget_loc\u001b[0m\u001b[1;33m(\u001b[0m\u001b[0mself\u001b[0m\u001b[1;33m.\u001b[0m\u001b[0m_maybe_cast_indexer\u001b[0m\u001b[1;33m(\u001b[0m\u001b[0mkey\u001b[0m\u001b[1;33m)\u001b[0m\u001b[1;33m)\u001b[0m\u001b[1;33m\u001b[0m\u001b[1;33m\u001b[0m\u001b[0m\n\u001b[0m\u001b[0;32m   2660\u001b[0m         \u001b[0mindexer\u001b[0m \u001b[1;33m=\u001b[0m \u001b[0mself\u001b[0m\u001b[1;33m.\u001b[0m\u001b[0mget_indexer\u001b[0m\u001b[1;33m(\u001b[0m\u001b[1;33m[\u001b[0m\u001b[0mkey\u001b[0m\u001b[1;33m]\u001b[0m\u001b[1;33m,\u001b[0m \u001b[0mmethod\u001b[0m\u001b[1;33m=\u001b[0m\u001b[0mmethod\u001b[0m\u001b[1;33m,\u001b[0m \u001b[0mtolerance\u001b[0m\u001b[1;33m=\u001b[0m\u001b[0mtolerance\u001b[0m\u001b[1;33m)\u001b[0m\u001b[1;33m\u001b[0m\u001b[1;33m\u001b[0m\u001b[0m\n",
      "\u001b[1;32mpandas/_libs/index.pyx\u001b[0m in \u001b[0;36mpandas._libs.index.DatetimeEngine.get_loc\u001b[1;34m()\u001b[0m\n",
      "\u001b[1;32mpandas/_libs/index.pyx\u001b[0m in \u001b[0;36mpandas._libs.index.DatetimeEngine.get_loc\u001b[1;34m()\u001b[0m\n",
      "\u001b[1;32mpandas/_libs/index.pyx\u001b[0m in \u001b[0;36mpandas._libs.index.DatetimeEngine._date_check_type\u001b[1;34m()\u001b[0m\n",
      "\u001b[1;31mKeyError\u001b[0m: '1950-02-14 00:00:00.000001'",
      "\nDuring handling of the above exception, another exception occurred:\n",
      "\u001b[1;31mKeyError\u001b[0m                                  Traceback (most recent call last)",
      "\u001b[1;32mpandas/_libs/index.pyx\u001b[0m in \u001b[0;36mpandas._libs.index.DatetimeEngine.get_loc\u001b[1;34m()\u001b[0m\n",
      "\u001b[1;32mpandas/_libs/hashtable_class_helper.pxi\u001b[0m in \u001b[0;36mpandas._libs.hashtable.Int64HashTable.get_item\u001b[1;34m()\u001b[0m\n",
      "\u001b[1;32mpandas/_libs/hashtable_class_helper.pxi\u001b[0m in \u001b[0;36mpandas._libs.hashtable.Int64HashTable.get_item\u001b[1;34m()\u001b[0m\n",
      "\u001b[1;31mKeyError\u001b[0m: -627350399999999000",
      "\nDuring handling of the above exception, another exception occurred:\n",
      "\u001b[1;31mKeyError\u001b[0m                                  Traceback (most recent call last)",
      "\u001b[1;32mC:\\ProgramData\\Anaconda3\\lib\\site-packages\\pandas\\core\\indexes\\base.py\u001b[0m in \u001b[0;36mget_loc\u001b[1;34m(self, key, method, tolerance)\u001b[0m\n\u001b[0;32m   2656\u001b[0m             \u001b[1;32mtry\u001b[0m\u001b[1;33m:\u001b[0m\u001b[1;33m\u001b[0m\u001b[1;33m\u001b[0m\u001b[0m\n\u001b[1;32m-> 2657\u001b[1;33m                 \u001b[1;32mreturn\u001b[0m \u001b[0mself\u001b[0m\u001b[1;33m.\u001b[0m\u001b[0m_engine\u001b[0m\u001b[1;33m.\u001b[0m\u001b[0mget_loc\u001b[0m\u001b[1;33m(\u001b[0m\u001b[0mkey\u001b[0m\u001b[1;33m)\u001b[0m\u001b[1;33m\u001b[0m\u001b[1;33m\u001b[0m\u001b[0m\n\u001b[0m\u001b[0;32m   2658\u001b[0m             \u001b[1;32mexcept\u001b[0m \u001b[0mKeyError\u001b[0m\u001b[1;33m:\u001b[0m\u001b[1;33m\u001b[0m\u001b[1;33m\u001b[0m\u001b[0m\n",
      "\u001b[1;32mpandas/_libs/index.pyx\u001b[0m in \u001b[0;36mpandas._libs.index.DatetimeEngine.get_loc\u001b[1;34m()\u001b[0m\n",
      "\u001b[1;32mpandas/_libs/index.pyx\u001b[0m in \u001b[0;36mpandas._libs.index.DatetimeEngine.get_loc\u001b[1;34m()\u001b[0m\n",
      "\u001b[1;31mKeyError\u001b[0m: Timestamp('1950-02-14 00:00:00.000001')",
      "\nDuring handling of the above exception, another exception occurred:\n",
      "\u001b[1;31mKeyError\u001b[0m                                  Traceback (most recent call last)",
      "\u001b[1;32mpandas/_libs/index.pyx\u001b[0m in \u001b[0;36mpandas._libs.index.DatetimeEngine.get_loc\u001b[1;34m()\u001b[0m\n",
      "\u001b[1;32mpandas/_libs/hashtable_class_helper.pxi\u001b[0m in \u001b[0;36mpandas._libs.hashtable.Int64HashTable.get_item\u001b[1;34m()\u001b[0m\n",
      "\u001b[1;32mpandas/_libs/hashtable_class_helper.pxi\u001b[0m in \u001b[0;36mpandas._libs.hashtable.Int64HashTable.get_item\u001b[1;34m()\u001b[0m\n",
      "\u001b[1;31mKeyError\u001b[0m: -627350399999999000",
      "\nDuring handling of the above exception, another exception occurred:\n",
      "\u001b[1;31mKeyError\u001b[0m                                  Traceback (most recent call last)",
      "\u001b[1;32mC:\\ProgramData\\Anaconda3\\lib\\site-packages\\pandas\\core\\indexes\\datetimes.py\u001b[0m in \u001b[0;36mget_loc\u001b[1;34m(self, key, method, tolerance)\u001b[0m\n\u001b[0;32m   1021\u001b[0m                     \u001b[0mstamp\u001b[0m \u001b[1;33m=\u001b[0m \u001b[0mstamp\u001b[0m\u001b[1;33m.\u001b[0m\u001b[0mtz_localize\u001b[0m\u001b[1;33m(\u001b[0m\u001b[0mself\u001b[0m\u001b[1;33m.\u001b[0m\u001b[0mtz\u001b[0m\u001b[1;33m)\u001b[0m\u001b[1;33m\u001b[0m\u001b[1;33m\u001b[0m\u001b[0m\n\u001b[1;32m-> 1022\u001b[1;33m                 \u001b[1;32mreturn\u001b[0m \u001b[0mIndex\u001b[0m\u001b[1;33m.\u001b[0m\u001b[0mget_loc\u001b[0m\u001b[1;33m(\u001b[0m\u001b[0mself\u001b[0m\u001b[1;33m,\u001b[0m \u001b[0mstamp\u001b[0m\u001b[1;33m,\u001b[0m \u001b[0mmethod\u001b[0m\u001b[1;33m,\u001b[0m \u001b[0mtolerance\u001b[0m\u001b[1;33m)\u001b[0m\u001b[1;33m\u001b[0m\u001b[1;33m\u001b[0m\u001b[0m\n\u001b[0m\u001b[0;32m   1023\u001b[0m             \u001b[1;32mexcept\u001b[0m \u001b[0mKeyError\u001b[0m\u001b[1;33m:\u001b[0m\u001b[1;33m\u001b[0m\u001b[1;33m\u001b[0m\u001b[0m\n",
      "\u001b[1;32mC:\\ProgramData\\Anaconda3\\lib\\site-packages\\pandas\\core\\indexes\\base.py\u001b[0m in \u001b[0;36mget_loc\u001b[1;34m(self, key, method, tolerance)\u001b[0m\n\u001b[0;32m   2658\u001b[0m             \u001b[1;32mexcept\u001b[0m \u001b[0mKeyError\u001b[0m\u001b[1;33m:\u001b[0m\u001b[1;33m\u001b[0m\u001b[1;33m\u001b[0m\u001b[0m\n\u001b[1;32m-> 2659\u001b[1;33m                 \u001b[1;32mreturn\u001b[0m \u001b[0mself\u001b[0m\u001b[1;33m.\u001b[0m\u001b[0m_engine\u001b[0m\u001b[1;33m.\u001b[0m\u001b[0mget_loc\u001b[0m\u001b[1;33m(\u001b[0m\u001b[0mself\u001b[0m\u001b[1;33m.\u001b[0m\u001b[0m_maybe_cast_indexer\u001b[0m\u001b[1;33m(\u001b[0m\u001b[0mkey\u001b[0m\u001b[1;33m)\u001b[0m\u001b[1;33m)\u001b[0m\u001b[1;33m\u001b[0m\u001b[1;33m\u001b[0m\u001b[0m\n\u001b[0m\u001b[0;32m   2660\u001b[0m         \u001b[0mindexer\u001b[0m \u001b[1;33m=\u001b[0m \u001b[0mself\u001b[0m\u001b[1;33m.\u001b[0m\u001b[0mget_indexer\u001b[0m\u001b[1;33m(\u001b[0m\u001b[1;33m[\u001b[0m\u001b[0mkey\u001b[0m\u001b[1;33m]\u001b[0m\u001b[1;33m,\u001b[0m \u001b[0mmethod\u001b[0m\u001b[1;33m=\u001b[0m\u001b[0mmethod\u001b[0m\u001b[1;33m,\u001b[0m \u001b[0mtolerance\u001b[0m\u001b[1;33m=\u001b[0m\u001b[0mtolerance\u001b[0m\u001b[1;33m)\u001b[0m\u001b[1;33m\u001b[0m\u001b[1;33m\u001b[0m\u001b[0m\n",
      "\u001b[1;32mpandas/_libs/index.pyx\u001b[0m in \u001b[0;36mpandas._libs.index.DatetimeEngine.get_loc\u001b[1;34m()\u001b[0m\n",
      "\u001b[1;32mpandas/_libs/index.pyx\u001b[0m in \u001b[0;36mpandas._libs.index.DatetimeEngine.get_loc\u001b[1;34m()\u001b[0m\n",
      "\u001b[1;31mKeyError\u001b[0m: Timestamp('1950-02-14 00:00:00.000001')",
      "\nDuring handling of the above exception, another exception occurred:\n",
      "\u001b[1;31mKeyError\u001b[0m                                  Traceback (most recent call last)",
      "\u001b[1;32m<ipython-input-205-dd519665d7c5>\u001b[0m in \u001b[0;36m<module>\u001b[1;34m\u001b[0m\n\u001b[1;32m----> 1\u001b[1;33m \u001b[0mrain\u001b[0m\u001b[1;33m.\u001b[0m\u001b[0mloc\u001b[0m\u001b[1;33m[\u001b[0m\u001b[1;34m'1950-02-14 00:00:00.000001'\u001b[0m\u001b[1;33m]\u001b[0m\u001b[1;33m\u001b[0m\u001b[1;33m\u001b[0m\u001b[0m\n\u001b[0m",
      "\u001b[1;32mC:\\ProgramData\\Anaconda3\\lib\\site-packages\\pandas\\core\\indexing.py\u001b[0m in \u001b[0;36m__getitem__\u001b[1;34m(self, key)\u001b[0m\n\u001b[0;32m   1498\u001b[0m \u001b[1;33m\u001b[0m\u001b[0m\n\u001b[0;32m   1499\u001b[0m             \u001b[0mmaybe_callable\u001b[0m \u001b[1;33m=\u001b[0m \u001b[0mcom\u001b[0m\u001b[1;33m.\u001b[0m\u001b[0mapply_if_callable\u001b[0m\u001b[1;33m(\u001b[0m\u001b[0mkey\u001b[0m\u001b[1;33m,\u001b[0m \u001b[0mself\u001b[0m\u001b[1;33m.\u001b[0m\u001b[0mobj\u001b[0m\u001b[1;33m)\u001b[0m\u001b[1;33m\u001b[0m\u001b[1;33m\u001b[0m\u001b[0m\n\u001b[1;32m-> 1500\u001b[1;33m             \u001b[1;32mreturn\u001b[0m \u001b[0mself\u001b[0m\u001b[1;33m.\u001b[0m\u001b[0m_getitem_axis\u001b[0m\u001b[1;33m(\u001b[0m\u001b[0mmaybe_callable\u001b[0m\u001b[1;33m,\u001b[0m \u001b[0maxis\u001b[0m\u001b[1;33m=\u001b[0m\u001b[0maxis\u001b[0m\u001b[1;33m)\u001b[0m\u001b[1;33m\u001b[0m\u001b[1;33m\u001b[0m\u001b[0m\n\u001b[0m\u001b[0;32m   1501\u001b[0m \u001b[1;33m\u001b[0m\u001b[0m\n\u001b[0;32m   1502\u001b[0m     \u001b[1;32mdef\u001b[0m \u001b[0m_is_scalar_access\u001b[0m\u001b[1;33m(\u001b[0m\u001b[0mself\u001b[0m\u001b[1;33m,\u001b[0m \u001b[0mkey\u001b[0m\u001b[1;33m)\u001b[0m\u001b[1;33m:\u001b[0m\u001b[1;33m\u001b[0m\u001b[1;33m\u001b[0m\u001b[0m\n",
      "\u001b[1;32mC:\\ProgramData\\Anaconda3\\lib\\site-packages\\pandas\\core\\indexing.py\u001b[0m in \u001b[0;36m_getitem_axis\u001b[1;34m(self, key, axis)\u001b[0m\n\u001b[0;32m   1911\u001b[0m         \u001b[1;31m# fall thru to straight lookup\u001b[0m\u001b[1;33m\u001b[0m\u001b[1;33m\u001b[0m\u001b[1;33m\u001b[0m\u001b[0m\n\u001b[0;32m   1912\u001b[0m         \u001b[0mself\u001b[0m\u001b[1;33m.\u001b[0m\u001b[0m_validate_key\u001b[0m\u001b[1;33m(\u001b[0m\u001b[0mkey\u001b[0m\u001b[1;33m,\u001b[0m \u001b[0maxis\u001b[0m\u001b[1;33m)\u001b[0m\u001b[1;33m\u001b[0m\u001b[1;33m\u001b[0m\u001b[0m\n\u001b[1;32m-> 1913\u001b[1;33m         \u001b[1;32mreturn\u001b[0m \u001b[0mself\u001b[0m\u001b[1;33m.\u001b[0m\u001b[0m_get_label\u001b[0m\u001b[1;33m(\u001b[0m\u001b[0mkey\u001b[0m\u001b[1;33m,\u001b[0m \u001b[0maxis\u001b[0m\u001b[1;33m=\u001b[0m\u001b[0maxis\u001b[0m\u001b[1;33m)\u001b[0m\u001b[1;33m\u001b[0m\u001b[1;33m\u001b[0m\u001b[0m\n\u001b[0m\u001b[0;32m   1914\u001b[0m \u001b[1;33m\u001b[0m\u001b[0m\n\u001b[0;32m   1915\u001b[0m \u001b[1;33m\u001b[0m\u001b[0m\n",
      "\u001b[1;32mC:\\ProgramData\\Anaconda3\\lib\\site-packages\\pandas\\core\\indexing.py\u001b[0m in \u001b[0;36m_get_label\u001b[1;34m(self, label, axis)\u001b[0m\n\u001b[0;32m    139\u001b[0m             \u001b[1;32mraise\u001b[0m \u001b[0mIndexingError\u001b[0m\u001b[1;33m(\u001b[0m\u001b[1;34m'no slices here, handle elsewhere'\u001b[0m\u001b[1;33m)\u001b[0m\u001b[1;33m\u001b[0m\u001b[1;33m\u001b[0m\u001b[0m\n\u001b[0;32m    140\u001b[0m \u001b[1;33m\u001b[0m\u001b[0m\n\u001b[1;32m--> 141\u001b[1;33m         \u001b[1;32mreturn\u001b[0m \u001b[0mself\u001b[0m\u001b[1;33m.\u001b[0m\u001b[0mobj\u001b[0m\u001b[1;33m.\u001b[0m\u001b[0m_xs\u001b[0m\u001b[1;33m(\u001b[0m\u001b[0mlabel\u001b[0m\u001b[1;33m,\u001b[0m \u001b[0maxis\u001b[0m\u001b[1;33m=\u001b[0m\u001b[0maxis\u001b[0m\u001b[1;33m)\u001b[0m\u001b[1;33m\u001b[0m\u001b[1;33m\u001b[0m\u001b[0m\n\u001b[0m\u001b[0;32m    142\u001b[0m \u001b[1;33m\u001b[0m\u001b[0m\n\u001b[0;32m    143\u001b[0m     \u001b[1;32mdef\u001b[0m \u001b[0m_get_loc\u001b[0m\u001b[1;33m(\u001b[0m\u001b[0mself\u001b[0m\u001b[1;33m,\u001b[0m \u001b[0mkey\u001b[0m\u001b[1;33m,\u001b[0m \u001b[0maxis\u001b[0m\u001b[1;33m=\u001b[0m\u001b[1;32mNone\u001b[0m\u001b[1;33m)\u001b[0m\u001b[1;33m:\u001b[0m\u001b[1;33m\u001b[0m\u001b[1;33m\u001b[0m\u001b[0m\n",
      "\u001b[1;32mC:\\ProgramData\\Anaconda3\\lib\\site-packages\\pandas\\core\\generic.py\u001b[0m in \u001b[0;36mxs\u001b[1;34m(self, key, axis, level, drop_level)\u001b[0m\n\u001b[0;32m   3583\u001b[0m                                                       drop_level=drop_level)\n\u001b[0;32m   3584\u001b[0m         \u001b[1;32melse\u001b[0m\u001b[1;33m:\u001b[0m\u001b[1;33m\u001b[0m\u001b[1;33m\u001b[0m\u001b[0m\n\u001b[1;32m-> 3585\u001b[1;33m             \u001b[0mloc\u001b[0m \u001b[1;33m=\u001b[0m \u001b[0mself\u001b[0m\u001b[1;33m.\u001b[0m\u001b[0mindex\u001b[0m\u001b[1;33m.\u001b[0m\u001b[0mget_loc\u001b[0m\u001b[1;33m(\u001b[0m\u001b[0mkey\u001b[0m\u001b[1;33m)\u001b[0m\u001b[1;33m\u001b[0m\u001b[1;33m\u001b[0m\u001b[0m\n\u001b[0m\u001b[0;32m   3586\u001b[0m \u001b[1;33m\u001b[0m\u001b[0m\n\u001b[0;32m   3587\u001b[0m             \u001b[1;32mif\u001b[0m \u001b[0misinstance\u001b[0m\u001b[1;33m(\u001b[0m\u001b[0mloc\u001b[0m\u001b[1;33m,\u001b[0m \u001b[0mnp\u001b[0m\u001b[1;33m.\u001b[0m\u001b[0mndarray\u001b[0m\u001b[1;33m)\u001b[0m\u001b[1;33m:\u001b[0m\u001b[1;33m\u001b[0m\u001b[1;33m\u001b[0m\u001b[0m\n",
      "\u001b[1;32mC:\\ProgramData\\Anaconda3\\lib\\site-packages\\pandas\\core\\indexes\\datetimes.py\u001b[0m in \u001b[0;36mget_loc\u001b[1;34m(self, key, method, tolerance)\u001b[0m\n\u001b[0;32m   1022\u001b[0m                 \u001b[1;32mreturn\u001b[0m \u001b[0mIndex\u001b[0m\u001b[1;33m.\u001b[0m\u001b[0mget_loc\u001b[0m\u001b[1;33m(\u001b[0m\u001b[0mself\u001b[0m\u001b[1;33m,\u001b[0m \u001b[0mstamp\u001b[0m\u001b[1;33m,\u001b[0m \u001b[0mmethod\u001b[0m\u001b[1;33m,\u001b[0m \u001b[0mtolerance\u001b[0m\u001b[1;33m)\u001b[0m\u001b[1;33m\u001b[0m\u001b[1;33m\u001b[0m\u001b[0m\n\u001b[0;32m   1023\u001b[0m             \u001b[1;32mexcept\u001b[0m \u001b[0mKeyError\u001b[0m\u001b[1;33m:\u001b[0m\u001b[1;33m\u001b[0m\u001b[1;33m\u001b[0m\u001b[0m\n\u001b[1;32m-> 1024\u001b[1;33m                 \u001b[1;32mraise\u001b[0m \u001b[0mKeyError\u001b[0m\u001b[1;33m(\u001b[0m\u001b[0mkey\u001b[0m\u001b[1;33m)\u001b[0m\u001b[1;33m\u001b[0m\u001b[1;33m\u001b[0m\u001b[0m\n\u001b[0m\u001b[0;32m   1025\u001b[0m             \u001b[1;32mexcept\u001b[0m \u001b[0mValueError\u001b[0m \u001b[1;32mas\u001b[0m \u001b[0me\u001b[0m\u001b[1;33m:\u001b[0m\u001b[1;33m\u001b[0m\u001b[1;33m\u001b[0m\u001b[0m\n\u001b[0;32m   1026\u001b[0m                 \u001b[1;31m# list-like tolerance size must match target index size\u001b[0m\u001b[1;33m\u001b[0m\u001b[1;33m\u001b[0m\u001b[1;33m\u001b[0m\u001b[0m\n",
      "\u001b[1;31mKeyError\u001b[0m: '1950-02-14 00:00:00.000001'"
     ]
    }
   ],
   "source": [
    "rain.loc['1950-02-14 00:00:00.000001']"
   ]
  },
  {
   "cell_type": "code",
   "execution_count": 206,
   "metadata": {},
   "outputs": [
    {
     "data": {
      "text/plain": [
       "<matplotlib.axes._subplots.AxesSubplot at 0x50621470>"
      ]
     },
     "execution_count": 206,
     "metadata": {},
     "output_type": "execute_result"
    },
    {
     "data": {
      "image/png": "[encoded data removed]",
      "text/plain": [
       "<Figure size 432x288 with 1 Axes>"
      ]
     },
     "metadata": {
      "needs_background": "light"
     },
     "output_type": "display_data"
    }
   ],
   "source": [
    "rain.loc['1950-07': '1950-08'].plot()"
   ]
  },
  {
   "cell_type": "code",
   "execution_count": 207,
   "metadata": {},
   "outputs": [
    {
     "data": {
      "text/plain": [
       "rain    48.190732\n",
       "dtype: float64"
      ]
     },
     "execution_count": 207,
     "metadata": {},
     "output_type": "execute_result"
    }
   ],
   "source": [
    "rain.loc['1950-07': '1950-08'].mean()"
   ]
  },
  {
   "cell_type": "markdown",
   "metadata": {},
   "source": [
    "### Exercise: How wet was Bonny Doon when you were born?\n",
    "\n",
    "The avearage rainfall at Bonny Doon for the entire dataset is:"
   ]
  },
  {
   "cell_type": "code",
   "execution_count": 208,
   "metadata": {},
   "outputs": [
    {
     "data": {
      "text/plain": [
       "rain    201.139751\n",
       "dtype: float64"
      ]
     },
     "execution_count": 208,
     "metadata": {},
     "output_type": "execute_result"
    }
   ],
   "source": [
    "rain.mean()"
   ]
  },
  {
   "cell_type": "code",
   "execution_count": 209,
   "metadata": {},
   "outputs": [
    {
     "data": {
      "text/plain": [
       "rain    27.969615\n",
       "Name: 1983-03-03 00:00:00, dtype: float64"
      ]
     },
     "execution_count": 209,
     "metadata": {},
     "output_type": "execute_result"
    }
   ],
   "source": [
    "rain.loc['1983-03-03']"
   ]
  },
  {
   "cell_type": "code",
   "execution_count": 210,
   "metadata": {},
   "outputs": [
    {
     "data": {
      "text/plain": [
       "rain    166.830307\n",
       "dtype: float64"
      ]
     },
     "execution_count": 210,
     "metadata": {},
     "output_type": "execute_result"
    }
   ],
   "source": [
    "rain.loc['1983'].mean()"
   ]
  },
  {
   "cell_type": "code",
   "execution_count": 211,
   "metadata": {},
   "outputs": [
    {
     "data": {
      "text/plain": [
       "rain    1327.509799\n",
       "dtype: float64"
      ]
     },
     "execution_count": 211,
     "metadata": {},
     "output_type": "execute_result"
    }
   ],
   "source": [
    "rain.loc['1983-03'].mean()"
   ]
  },
  {
   "cell_type": "code",
   "execution_count": 212,
   "metadata": {},
   "outputs": [
    {
     "data": {
      "text/plain": [
       "<matplotlib.axes._subplots.AxesSubplot at 0x5f006160>"
      ]
     },
     "execution_count": 212,
     "metadata": {},
     "output_type": "execute_result"
    },
    {
     "data": {
      "image/png": "[encoded data removed]",
      "text/plain": [
       "<Figure size 432x288 with 1 Axes>"
      ]
     },
     "metadata": {
      "needs_background": "light"
     },
     "output_type": "display_data"
    }
   ],
   "source": [
    "rain.loc['1983-02': '1983-04'].plot()"
   ]
  },
  {
   "cell_type": "code",
   "execution_count": 213,
   "metadata": {},
   "outputs": [
    {
     "ename": "NameError",
     "evalue": "name 'creashes' is not defined",
     "output_type": "error",
     "traceback": [
      "\u001b[1;31m---------------------------------------------------------------------------\u001b[0m",
      "\u001b[1;31mNameError\u001b[0m                                 Traceback (most recent call last)",
      "\u001b[1;32m<ipython-input-213-c1226ce1db86>\u001b[0m in \u001b[0;36m<module>\u001b[1;34m\u001b[0m\n\u001b[1;32m----> 1\u001b[1;33m \u001b[0mcreashes\u001b[0m\u001b[1;33m.\u001b[0m\u001b[0mresample\u001b[0m\u001b[1;33m(\u001b[0m\u001b[1;34m'Y'\u001b[0m\u001b[1;33m)\u001b[0m\u001b[1;33m.\u001b[0m\u001b[0msize\u001b[0m\u001b[1;33m(\u001b[0m\u001b[1;33m)\u001b[0m\u001b[1;33m.\u001b[0m\u001b[0mplot\u001b[0m\u001b[1;33m(\u001b[0m\u001b[1;33m)\u001b[0m\u001b[1;33m\u001b[0m\u001b[1;33m\u001b[0m\u001b[0m\n\u001b[0m",
      "\u001b[1;31mNameError\u001b[0m: name 'creashes' is not defined"
     ]
    }
   ],
   "source": [
    "\n",
    ".resample('Y').size().plot()"
   ]
  },
  {
   "cell_type": "markdown",
   "metadata": {},
   "source": [
    "### Spatial data in Python \n",
    "\n",
    "First, since we our notebooks open before we did the install this morning we're going to have to restart the ntoebook server entirly."
   ]
  },
  {
   "cell_type": "code",
   "execution_count": null,
   "metadata": {},
   "outputs": [],
   "source": []
  }
 ],
 "metadata": {
  "kernelspec": {
   "display_name": "Python 3",
   "language": "python",
   "name": "python3"
  },
  "language_info": {
   "codemirror_mode": {
    "name": "ipython",
    "version": 3
   },
   "file_extension": ".py",
   "mimetype": "text/x-python",
   "name": "python",
   "nbconvert_exporter": "python",
   "pygments_lexer": "ipython3",
   "version": "3.7.3"
  }
 },
 "nbformat": 4,
 "nbformat_minor": 2
}
