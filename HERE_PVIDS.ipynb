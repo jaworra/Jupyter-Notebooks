{
 "cells": [
  {
   "cell_type": "markdown",
   "metadata": {},
   "source": [
    "### Return HERE PVIDS\n",
    "\n",
    "\n",
    "prox=lat,lon,radius\n",
    ".../6.2/reversegeocode.{format}?<parameter>=<value>...\n",
    "\n",
    "https://reverse.geocoder.api.here.com/6.2/reversegeocode.{format}\n",
    "https://developer.here.com/documentation/geocoder/topics/resources.html"
   ]
  },
  {
   "cell_type": "code",
   "execution_count": 2,
   "metadata": {},
   "outputs": [],
   "source": [
    "#Set session proxies\n",
    "import requests\n",
    "import time\n",
    "session = requests.Session()  # think of this as a new browser tab\n",
    "session.proxies = {\n",
    "    'http': 'localhost:3128',\n",
    "    'https': 'localhost:3128'\n",
    "}\n",
    "#session.get('https://www.tmr.qld.gov.au')"
   ]
  },
  {
   "cell_type": "code",
   "execution_count": 5,
   "metadata": {},
   "outputs": [
    {
     "name": "stdout",
     "output_type": "stream",
     "text": [
      "https://api.openrouteservice.org/directions?api_key=5b3ce3597851110001cf62481a60b0b1b6674cd7a4ec06bcea273ca8&&coordinates=153.032822,-27.428849|153.029011,-27.452594&profile=driving-car&geometry=true&geometry_format=geojson\n",
      "{'routes': [{'summary': {'distance': 2836.3, 'duration': 328.7}, 'geometry_format': 'geojson', 'geometry': {'type': 'LineString', 'coordinates': [[153.03281, -27.428848], [153.03279, -27.429018], [153.032692, -27.429395], [153.03266, -27.429506], [153.032607, -27.429729], [153.032555, -27.43003], [153.032414, -27.430783], [153.032209, -27.432186], [153.032055, -27.432659], [153.031915, -27.433299], [153.031769, -27.434253], [153.031592, -27.435276], [153.031512, -27.435866], [153.031447, -27.436327], [153.031204, -27.437525], [153.031138, -27.4381], [153.031065, -27.438698], [153.030953, -27.439614], [153.030936, -27.439769], [153.030894, -27.439993], [153.030791, -27.440481], [153.030765, -27.440612], [153.030715, -27.440856], [153.030585, -27.441501], [153.030386, -27.442581], [153.030353, -27.442781], [153.030328, -27.442906], [153.030236, -27.443503], [153.030226, -27.443564], [153.030192, -27.443762], [153.030183, -27.443815], [153.030071, -27.444318], [153.029956, -27.444776], [153.029886, -27.445134], [153.029736, -27.445966], [153.029668, -27.446391], [153.029636, -27.446603], [153.029395, -27.447736], [153.029366, -27.447874], [153.029355, -27.447932], [153.029287, -27.448296], [153.029202, -27.448754], [153.029031, -27.449668], [153.029007, -27.4498], [153.028885, -27.450458], [153.028804, -27.450913], [153.028826, -27.451302], [153.028866, -27.451504], [153.029035, -27.452193], [153.029138, -27.452528], [153.029164, -27.452627], [153.029041, -27.45268], [153.028875, -27.452772], [153.028694, -27.452871], [153.028413, -27.452962], [153.028581, -27.452848], [153.028811, -27.45273], [153.029015, -27.452599]]}, 'segments': [{'distance': 2836.3, 'duration': 328.7, 'steps': [{'distance': 19, 'duration': 4.6, 'type': 11, 'instruction': 'Head south on Lutwyche Road, A3', 'name': 'Lutwyche Road, A3', 'way_points': [0, 1]}, {'distance': 1210.6, 'duration': 125.5, 'type': 12, 'instruction': 'Keep left onto Roblane Street, A3', 'name': 'Roblane Street, A3', 'way_points': [1, 18]}, {'distance': 1451.6, 'duration': 176.4, 'type': 13, 'instruction': 'Keep right onto Lutwyche Road, 15', 'name': 'Lutwyche Road, 15', 'way_points': [18, 50]}, {'distance': 83.3, 'duration': 12, 'type': 1, 'instruction': 'Turn right onto Gregory Terrace, 10', 'name': 'Gregory Terrace, 10', 'way_points': [50, 54]}, {'distance': 20.8, 'duration': 3, 'type': 3, 'instruction': 'Turn sharp right onto Gregory Terrace, 10', 'name': 'Gregory Terrace, 10', 'way_points': [54, 55]}, {'distance': 51.1, 'duration': 7.4, 'type': 13, 'instruction': 'Keep right onto Gregory Terrace, 10', 'name': 'Gregory Terrace, 10', 'way_points': [55, 57]}, {'distance': 0, 'duration': 0, 'type': 10, 'instruction': 'Arrive at Gregory Terrace, 10, straight ahead', 'name': '', 'way_points': [57, 57]}]}], 'way_points': [0, 57], 'bbox': [153.028413, -27.452962, 153.03281, -27.428848]}], 'bbox': [153.028413, -27.452962, 153.03281, -27.428848], 'info': {'attribution': 'openrouteservice.org | OpenStreetMap contributors', 'engine': {'version': '5.0.2', 'build_date': '2019-09-20T13:42:22Z'}, 'service': 'routing', 'timestamp': 1572221691285, 'query': {'profile': 'driving-car', 'preference': 'fastest', 'coordinates': [[153.032822, -27.428849], [153.029011, -27.452594]], 'language': 'en', 'units': 'm', 'geometry': True, 'geometry_format': 'geojson', 'instructions_format': 'text', 'instructions': True, 'elevation': False}}}\n"
     ]
    }
   ],
   "source": [
    "#TAKE OUT\n",
    "coordinates = \"153.032822,-27.428849\" + \"|\" + \"153.029011,-27.452594\"\n",
    "route_Id = \"GympieRd_SB7_Albion_to_Gregory\"\n",
    "app_id = '5b3ce3597851110001cf62481a60b0b1b6674cd7a4ec06bcea273ca8'\n",
    "\n",
    "url = \"https://api.openrouteservice.org/directions?api_key=\" + app_id + \"&\"\n",
    "url = url + \"&coordinates=\" + coordinates + \"&profile=driving-car&geometry=true&geometry_format=geojson\"\n",
    "print(url)\n",
    "\n",
    "response = session.get(url)\n",
    "response_json = response.json()\n",
    "print(response_json)\n"
   ]
  },
  {
   "cell_type": "code",
   "execution_count": 35,
   "metadata": {
    "scrolled": true
   },
   "outputs": [
    {
     "name": "stdout",
     "output_type": "stream",
     "text": [
      "{'Response': {'MetaInfo': {'Timestamp': '2019-10-28T01:23:06.046+0000', 'NextPageInformation': '2'}, 'View': [{'_type': 'SearchResultsViewType', 'ViewId': 0, 'Result': [{'Relevance': 1.0, 'Distance': 4.0, 'MatchLevel': 'street', 'MatchQuality': {'Country': 1.0, 'State': 1.0, 'City': 1.0, 'District': 1.0, 'PostalCode': 1.0}, 'Location': {'LocationId': 'NT_z4qxhRDy2R5r5a4pbBbX9C_l_784327239_R', 'LocationType': 'point', 'DisplayPosition': {'Latitude': -26.7022004, 'Longitude': 153.1293305}, 'MapView': {'TopLeft': {'Latitude': -26.7022, 'Longitude': 153.12933}, 'BottomRight': {'Latitude': -26.7024, 'Longitude': 153.1296}}, 'Address': {'Label': 'Buddina QLD 4575, Australia', 'Country': 'AUS', 'State': 'QLD', 'City': 'Sunshine Coast', 'District': 'Buddina', 'PostalCode': '4575', 'AdditionalData': [{'value': 'Australia', 'key': 'CountryName'}, {'value': 'Queensland', 'key': 'StateName'}]}, 'MapReference': {'ReferenceId': '784327239', 'Spot': 1.0, 'SideOfStreet': 'right', 'CountryId': '1469256839', 'StateId': '1469256832', 'CityId': '28051159', 'DistrictId': '1469267576'}}}, {'Relevance': 1.0, 'Distance': 7.9, 'MatchLevel': 'houseNumber', 'MatchQuality': {'Country': 1.0, 'State': 1.0, 'City': 1.0, 'District': 1.0, 'Street': [1.0], 'HouseNumber': 1.0, 'PostalCode': 1.0}, 'MatchType': 'interpolated', 'Location': {'LocationId': 'NT_Hn4n2Q187zjJ3bkz-hdDiB_l_988573469_R_xUTO', 'LocationType': 'point', 'DisplayPosition': {'Latitude': -26.7022262, 'Longitude': 153.1293038}, 'MapView': {'TopLeft': {'Latitude': -26.7011021, 'Longitude': 153.1280454}, 'BottomRight': {'Latitude': -26.7033504, 'Longitude': 153.1305621}}, 'Address': {'Label': '159 Point Cartwright Dr, Buddina QLD 4575, Australia', 'Country': 'AUS', 'State': 'QLD', 'City': 'Sunshine Coast', 'District': 'Buddina', 'Street': 'Point Cartwright Dr', 'HouseNumber': '159', 'PostalCode': '4575', 'AdditionalData': [{'value': 'Australia', 'key': 'CountryName'}, {'value': 'Queensland', 'key': 'StateName'}]}, 'MapReference': {'ReferenceId': '988573469', 'Spot': 0.88, 'SideOfStreet': 'right', 'CountryId': '1469256839', 'StateId': '1469256832', 'CityId': '28051159', 'DistrictId': '1469267576'}}}]}]}}\n"
     ]
    }
   ],
   "source": [
    "\n",
    "prox=\"-26.702170,153.129353,10\"\n",
    "\n",
    "'''\n",
    "url = \"https://geocoder.api.here.com/6.2/geocode.json?app_id=\" + app_id + \"&app_code=\" + app_code\n",
    "#url += \"&searchtext=425+W+Randolph+Chicago\"\n",
    "url = \"https://geocoder.api.here.com/6.2/reversegeocode.json?app_id=\" + app_id + \"&app_code=\" + app_code\n",
    "url += \"&prox=-26.702170,153.129353,10\"\n",
    "url += \"&locationattributes=mapReference\"\n",
    "print(url)\n",
    "'''\n",
    "\n",
    "url = \"https://reverse.geocoder.api.here.com/6.2/reversegeocode.json\"\n",
    "url +=\"?app_id=\"+app_id+\"&app_code=\"+app_code\n",
    "url +=\"&mode=retrieveAddresses&maxresults=2\"#&additionaldata=IncludeShapeLevel%2CpostalCode\"\n",
    "url +=\"&locationattributes=mapReference\"\n",
    "\n",
    "url +=\"&prox=-26.702170,153.129353,10\"\n",
    "\n",
    "-26.6987, 153.131714\n",
    "\n",
    "response = session.get(url)\n",
    "#print(response)\n",
    "response_json = response.json()\n",
    "print(response_json)"
   ]
  },
  {
   "cell_type": "markdown",
   "metadata": {},
   "source": [
    "### HERE Analysis\n",
    "\n",
    "\\\\corp.tmr.qld.gov.au\\Shares\\Users\\jaworra\\Desktop\\Analysis"
   ]
  },
  {
   "cell_type": "code",
   "execution_count": 2,
   "metadata": {},
   "outputs": [],
   "source": [
    "import pandas as pd"
   ]
  },
  {
   "cell_type": "code",
   "execution_count": 30,
   "metadata": {},
   "outputs": [
    {
     "data": {
      "text/html": [
       "<div>\n",
       "<style scoped>\n",
       "    .dataframe tbody tr th:only-of-type {\n",
       "        vertical-align: middle;\n",
       "    }\n",
       "\n",
       "    .dataframe tbody tr th {\n",
       "        vertical-align: top;\n",
       "    }\n",
       "\n",
       "    .dataframe thead th {\n",
       "        text-align: right;\n",
       "    }\n",
       "</style>\n",
       "<table border=\"1\" class=\"dataframe\">\n",
       "  <thead>\n",
       "    <tr style=\"text-align: right;\">\n",
       "      <th></th>\n",
       "      <th>EPOCH-60MIN</th>\n",
       "      <th>LENGTH</th>\n",
       "      <th>COUNT</th>\n",
       "      <th>MEAN</th>\n",
       "    </tr>\n",
       "  </thead>\n",
       "  <tbody>\n",
       "    <tr>\n",
       "      <th>count</th>\n",
       "      <td>24846.000000</td>\n",
       "      <td>24846.000000</td>\n",
       "      <td>24846.000000</td>\n",
       "      <td>24846.000000</td>\n",
       "    </tr>\n",
       "    <tr>\n",
       "      <th>mean</th>\n",
       "      <td>11.939226</td>\n",
       "      <td>44.060573</td>\n",
       "      <td>4.275256</td>\n",
       "      <td>28.559764</td>\n",
       "    </tr>\n",
       "    <tr>\n",
       "      <th>std</th>\n",
       "      <td>4.993101</td>\n",
       "      <td>11.395822</td>\n",
       "      <td>2.925468</td>\n",
       "      <td>11.344154</td>\n",
       "    </tr>\n",
       "    <tr>\n",
       "      <th>min</th>\n",
       "      <td>0.000000</td>\n",
       "      <td>31.000000</td>\n",
       "      <td>1.000000</td>\n",
       "      <td>1.000000</td>\n",
       "    </tr>\n",
       "    <tr>\n",
       "      <th>25%</th>\n",
       "      <td>8.000000</td>\n",
       "      <td>33.000000</td>\n",
       "      <td>2.000000</td>\n",
       "      <td>19.700000</td>\n",
       "    </tr>\n",
       "    <tr>\n",
       "      <th>50%</th>\n",
       "      <td>12.000000</td>\n",
       "      <td>50.000000</td>\n",
       "      <td>4.000000</td>\n",
       "      <td>28.700000</td>\n",
       "    </tr>\n",
       "    <tr>\n",
       "      <th>75%</th>\n",
       "      <td>16.000000</td>\n",
       "      <td>52.000000</td>\n",
       "      <td>6.000000</td>\n",
       "      <td>37.000000</td>\n",
       "    </tr>\n",
       "    <tr>\n",
       "      <th>max</th>\n",
       "      <td>23.000000</td>\n",
       "      <td>62.000000</td>\n",
       "      <td>33.000000</td>\n",
       "      <td>100.000000</td>\n",
       "    </tr>\n",
       "  </tbody>\n",
       "</table>\n",
       "</div>"
      ],
      "text/plain": [
       "        EPOCH-60MIN        LENGTH         COUNT          MEAN\n",
       "count  24846.000000  24846.000000  24846.000000  24846.000000\n",
       "mean      11.939226     44.060573      4.275256     28.559764\n",
       "std        4.993101     11.395822      2.925468     11.344154\n",
       "min        0.000000     31.000000      1.000000      1.000000\n",
       "25%        8.000000     33.000000      2.000000     19.700000\n",
       "50%       12.000000     50.000000      4.000000     28.700000\n",
       "75%       16.000000     52.000000      6.000000     37.000000\n",
       "max       23.000000     62.000000     33.000000    100.000000"
      ]
     },
     "execution_count": 30,
     "metadata": {},
     "output_type": "execute_result"
    }
   ],
   "source": [
    "here_links=pd.read_csv('HERE_DA_39989_00000.csv')\n",
    "here_links.describe()"
   ]
  },
  {
   "cell_type": "code",
   "execution_count": 31,
   "metadata": {},
   "outputs": [],
   "source": [
    "here_links = here_links.reset_index()"
   ]
  },
  {
   "cell_type": "code",
   "execution_count": 44,
   "metadata": {},
   "outputs": [
    {
     "data": {
      "text/html": [
       "<div>\n",
       "<style scoped>\n",
       "    .dataframe tbody tr th:only-of-type {\n",
       "        vertical-align: middle;\n",
       "    }\n",
       "\n",
       "    .dataframe tbody tr th {\n",
       "        vertical-align: top;\n",
       "    }\n",
       "\n",
       "    .dataframe thead th {\n",
       "        text-align: right;\n",
       "    }\n",
       "</style>\n",
       "<table border=\"1\" class=\"dataframe\">\n",
       "  <thead>\n",
       "    <tr style=\"text-align: right;\">\n",
       "      <th></th>\n",
       "      <th>index</th>\n",
       "      <th>LINK-DIR</th>\n",
       "      <th>DATE-TIME</th>\n",
       "      <th>EPOCH-60MIN</th>\n",
       "      <th>LENGTH</th>\n",
       "      <th>COUNT</th>\n",
       "      <th>MEAN</th>\n",
       "      <th>groupby_count</th>\n",
       "    </tr>\n",
       "  </thead>\n",
       "  <tbody>\n",
       "    <tr>\n",
       "      <th>0</th>\n",
       "      <td>0</td>\n",
       "      <td>988573468T</td>\n",
       "      <td>2018-10-25 05:00</td>\n",
       "      <td>5</td>\n",
       "      <td>52</td>\n",
       "      <td>2</td>\n",
       "      <td>38.5</td>\n",
       "      <td>NaN</td>\n",
       "    </tr>\n",
       "    <tr>\n",
       "      <th>1</th>\n",
       "      <td>1</td>\n",
       "      <td>988573468T</td>\n",
       "      <td>2018-10-25 06:00</td>\n",
       "      <td>6</td>\n",
       "      <td>52</td>\n",
       "      <td>6</td>\n",
       "      <td>29.3</td>\n",
       "      <td>NaN</td>\n",
       "    </tr>\n",
       "    <tr>\n",
       "      <th>2</th>\n",
       "      <td>2</td>\n",
       "      <td>988573468T</td>\n",
       "      <td>2018-10-25 07:00</td>\n",
       "      <td>7</td>\n",
       "      <td>52</td>\n",
       "      <td>10</td>\n",
       "      <td>16.7</td>\n",
       "      <td>NaN</td>\n",
       "    </tr>\n",
       "    <tr>\n",
       "      <th>3</th>\n",
       "      <td>3</td>\n",
       "      <td>988573468T</td>\n",
       "      <td>2018-10-25 08:00</td>\n",
       "      <td>8</td>\n",
       "      <td>52</td>\n",
       "      <td>7</td>\n",
       "      <td>13.7</td>\n",
       "      <td>NaN</td>\n",
       "    </tr>\n",
       "    <tr>\n",
       "      <th>4</th>\n",
       "      <td>4</td>\n",
       "      <td>988573468T</td>\n",
       "      <td>2018-10-25 09:00</td>\n",
       "      <td>9</td>\n",
       "      <td>52</td>\n",
       "      <td>6</td>\n",
       "      <td>24.3</td>\n",
       "      <td>NaN</td>\n",
       "    </tr>\n",
       "  </tbody>\n",
       "</table>\n",
       "</div>"
      ],
      "text/plain": [
       "   index    LINK-DIR         DATE-TIME  EPOCH-60MIN  LENGTH  COUNT  MEAN  \\\n",
       "0      0  988573468T  2018-10-25 05:00            5      52      2  38.5   \n",
       "1      1  988573468T  2018-10-25 06:00            6      52      6  29.3   \n",
       "2      2  988573468T  2018-10-25 07:00            7      52     10  16.7   \n",
       "3      3  988573468T  2018-10-25 08:00            8      52      7  13.7   \n",
       "4      4  988573468T  2018-10-25 09:00            9      52      6  24.3   \n",
       "\n",
       "   groupby_count  \n",
       "0            NaN  \n",
       "1            NaN  \n",
       "2            NaN  \n",
       "3            NaN  \n",
       "4            NaN  "
      ]
     },
     "execution_count": 44,
     "metadata": {},
     "output_type": "execute_result"
    }
   ],
   "source": [
    "here_links.head()"
   ]
  },
  {
   "cell_type": "code",
   "execution_count": 47,
   "metadata": {},
   "outputs": [
    {
     "data": {
      "text/plain": [
       "DATE-TIME\n",
       "2018-10-25 05:00    6\n",
       "2018-10-25 06:00    6\n",
       "2018-10-25 07:00    6\n",
       "2018-10-25 08:00    6\n",
       "2018-10-25 09:00    6\n",
       "2018-10-25 10:00    6\n",
       "2018-10-25 11:00    6\n",
       "2018-10-25 12:00    6\n",
       "2018-10-25 13:00    6\n",
       "2018-10-25 14:00    6\n",
       "2018-10-25 15:00    6\n",
       "2018-10-25 16:00    6\n",
       "2018-10-25 17:00    6\n",
       "2018-10-25 18:00    5\n",
       "2018-10-25 19:00    2\n",
       "2018-10-25 21:00    6\n",
       "2018-10-26 04:00    6\n",
       "2018-10-26 05:00    6\n",
       "2018-10-26 06:00    6\n",
       "2018-10-26 07:00    6\n",
       "2018-10-26 08:00    6\n",
       "2018-10-26 09:00    6\n",
       "2018-10-26 10:00    6\n",
       "2018-10-26 11:00    6\n",
       "2018-10-26 12:00    6\n",
       "2018-10-26 13:00    6\n",
       "2018-10-26 14:00    6\n",
       "2018-10-26 15:00    6\n",
       "2018-10-26 16:00    2\n",
       "2018-10-26 17:00    6\n",
       "                   ..\n",
       "2019-10-24 10:00    4\n",
       "2019-10-24 11:00    6\n",
       "2019-10-24 12:00    6\n",
       "2019-10-24 13:00    6\n",
       "2019-10-24 14:00    6\n",
       "2019-10-24 15:00    6\n",
       "2019-10-24 16:00    6\n",
       "2019-10-24 17:00    6\n",
       "2019-10-24 18:00    4\n",
       "2019-10-24 19:00    6\n",
       "2019-10-24 20:00    2\n",
       "2019-10-24 21:00    6\n",
       "2019-10-25 04:00    6\n",
       "2019-10-25 06:00    6\n",
       "2019-10-25 07:00    6\n",
       "2019-10-25 08:00    6\n",
       "2019-10-25 09:00    6\n",
       "2019-10-25 10:00    6\n",
       "2019-10-25 11:00    6\n",
       "2019-10-25 12:00    6\n",
       "2019-10-25 13:00    6\n",
       "2019-10-25 14:00    6\n",
       "2019-10-25 15:00    5\n",
       "2019-10-25 16:00    6\n",
       "2019-10-25 17:00    6\n",
       "2019-10-25 18:00    5\n",
       "2019-10-25 19:00    2\n",
       "2019-10-25 20:00    6\n",
       "2019-10-25 21:00    6\n",
       "2019-10-25 22:00    5\n",
       "Name: index, Length: 4356, dtype: int64"
      ]
     },
     "execution_count": 47,
     "metadata": {},
     "output_type": "execute_result"
    }
   ],
   "source": [
    "#here_links.groupby([\"DATE-TIME\", \"LINK-DIR\"])[\"index\"].count().reset_index(name=\"count\")\n",
    "#here_links['groupby'] = here_links.groupby([\"DATE-TIME\", \"LINK-DIR\"])[\"index\"].count()\n",
    "mask =here_links.groupby([\"DATE-TIME\"])[\"index\"].count()\n",
    "mask"
   ]
  },
  {
   "cell_type": "code",
   "execution_count": null,
   "metadata": {},
   "outputs": [],
   "source": [
    "incidents['Indicator'] = 1\n",
    "\n",
    "incidents.pivot_table(\n",
    "    index = 'Hour(HH.H)',\n",
    "    columns ='type',\n",
    "    values = 'Indicator',   aggfunc=len, fill_value=0).plot(subplots=True, figsize=(25,10), grid= True);"
   ]
  }
 ],
 "metadata": {
  "kernelspec": {
   "display_name": "Python 3",
   "language": "python",
   "name": "python3"
  },
  "language_info": {
   "codemirror_mode": {
    "name": "ipython",
    "version": 3
   },
   "file_extension": ".py",
   "mimetype": "text/x-python",
   "name": "python",
   "nbconvert_exporter": "python",
   "pygments_lexer": "ipython3",
   "version": "3.7.3"
  }
 },
 "nbformat": 4,
 "nbformat_minor": 2
}
