{
 "cells": [
  {
   "cell_type": "markdown",
   "metadata": {},
   "source": [
    "### Find the closet point from a list of points\n",
    "\n",
    "Optimise algorithm."
   ]
  },
  {
   "cell_type": "code",
   "execution_count": 70,
   "metadata": {},
   "outputs": [],
   "source": [
    "def closes_pt(pt_list_unsorted,p2):\n",
    "    Best = [None, None, float(\"inf\")]\n",
    "    \n",
    "    pt_list_sorted = sorted(pt_list_unsorted)\n",
    "    for p1 in pt_list_sorted:\n",
    "        dx = p1[0]-p2[0]\n",
    "        dy = p1[1]-p2[1]\n",
    "        if dx < Best[2] and dy < Best[2]: #add here a condition of largest value\n",
    "            dist = sqrt(dx**2 + dy**2)\n",
    "            if dist < Best[2]:\n",
    "                Best = p1, p2, dist\n",
    "    return Best"
   ]
  },
  {
   "cell_type": "markdown",
   "metadata": {},
   "source": [
    "### Test Runs"
   ]
  },
  {
   "cell_type": "code",
   "execution_count": 79,
   "metadata": {},
   "outputs": [
    {
     "name": "stdout",
     "output_type": "stream",
     "text": [
      "((-69504.3778376401, -409009.7149841382), (12395.238072776297, -286943.42268658814), 146995.66932921752)\n",
      "0.0005997230000502896\n"
     ]
    }
   ],
   "source": [
    "from random import random, randint\n",
    "from numpy import mean\n",
    "from time import perf_counter\n",
    "\n",
    "compare_point = (12395.238072776297,-286943.42268658814) #random point here\n",
    "times = []\n",
    "for x in range(50):\n",
    "    rand_points = {(randint(-1000000, 1000000) + random(), randint(-1000000, 1000000) + random()) for i in range(50)}\n",
    "    t0 = perf_counter() #time\n",
    "    best_point_ = opt_distance(rand_points,compare_point)\n",
    "    t1 = perf_counter()\n",
    "    times.append(t1 - t0)\n",
    "    print(best_point_)\n",
    "    break\n",
    "    \n",
    "print(mean(times))"
   ]
  },
  {
   "cell_type": "markdown",
   "metadata": {},
   "source": [
    "### Devide and conquere algorithrim"
   ]
  },
  {
   "cell_type": "code",
   "execution_count": 8,
   "metadata": {},
   "outputs": [],
   "source": [
    "from math import sqrt\n",
    "from itertools import combinations\n",
    "\n",
    "# store best solution here\n",
    "Best = None\n",
    "\n",
    "def calc_distance(p1, p2):\n",
    "    global Best\n",
    "    dx = p1[0]-p2[0]\n",
    "    dy = p1[1]-p2[1]\n",
    "    if dx < Best[2] and dy < Best[2]:\n",
    "        dist = sqrt(dx**2 + dy**2)\n",
    "        if dist < Best[2]:\n",
    "            Best = p1, p2, dist\n",
    "\n",
    "\n",
    "def brute_force(points):\n",
    "    for p1, p2 in combinations(points, 2):\n",
    "        calc_distance(p1, p2)\n",
    "\n",
    "\n",
    "def closest_pair(points):\n",
    "    global Best\n",
    "    Best = [None, None, float(\"inf\")]\n",
    "    x_sorted = sorted(points)\n",
    "    find_closest(x_sorted)\n",
    "    print(Best)\n",
    "    return Best[:2]\n",
    "\n",
    "\n",
    "def find_closest(x_sorted):\n",
    "    # perform brute force for 3 or 2 points\n",
    "    points_count = len(x_sorted)\n",
    "    if points_count <= 3:\n",
    "        return brute_force(x_sorted)\n",
    "    # split into two halves (x line) -> keep sorted by x and y\n",
    "    half = points_count // 2\n",
    "    _x_sorted1, _x_sorted2 = x_sorted[:half], x_sorted[half:]\n",
    "    find_closest(_x_sorted1)\n",
    "    find_closest(_x_sorted2)\n",
    "    # check best result of split pair\n",
    "    find_closest_split_pair(x_sorted)\n",
    "\n",
    "\n",
    "def find_closest_split_pair(x_sorted):\n",
    "    points_count = len(x_sorted)\n",
    "    mid_x = x_sorted[points_count // 2][0]\n",
    "    # consider only point that are no further than best distance from x\n",
    "    remained_points = sorted([p for p in x_sorted if mid_x - Best[2] < p[0] < mid_x + Best[2]], key=lambda p: p[1])\n",
    "    remained_count = len(remained_points)\n",
    "    for i, p1 in enumerate(remained_points[:-1]):\n",
    "        for p2 in remained_points[i+1:min(i+7, remained_count)]:\n",
    "            calc_distance(p1, p2)"
   ]
  },
  {
   "cell_type": "code",
   "execution_count": 68,
   "metadata": {},
   "outputs": [
    {
     "name": "stdout",
     "output_type": "stream",
     "text": [
      "((12385.238072776297, -286939.42268658814), (12395.238072776297, -286943.42268658814), 10.770329614269007)\n"
     ]
    }
   ],
   "source": [
    "global Best\n",
    "Best = None #Global variable\n",
    "Best = [None, None, float(\"inf\")]\n",
    "\n",
    "p2 =(12395.238072776297, -286943.42268658814)\n",
    "for p1 in input:\n",
    "    dx = p1[0]-p2[0]\n",
    "    dy = p1[1]-p2[1]\n",
    "    if dx < Best[2] and dy < Best[2]: #add here a condition of largest value\n",
    "        dist = sqrt(dx**2 + dy**2)\n",
    "        if dist < Best[2]:\n",
    "            Best = p1, p2, dist\n",
    "print(Best)"
   ]
  }
 ],
 "metadata": {
  "kernelspec": {
   "display_name": "Python 3",
   "language": "python",
   "name": "python3"
  },
  "language_info": {
   "codemirror_mode": {
    "name": "ipython",
    "version": 3
   },
   "file_extension": ".py",
   "mimetype": "text/x-python",
   "name": "python",
   "nbconvert_exporter": "python",
   "pygments_lexer": "ipython3",
   "version": "3.7.3"
  }
 },
 "nbformat": 4,
 "nbformat_minor": 2
}
