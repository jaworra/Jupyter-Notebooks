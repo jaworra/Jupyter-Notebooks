{
 "cells": [
  {
   "cell_type": "markdown",
   "metadata": {},
   "source": [
    "### Find the closet point from a list of points\n",
    "\n",
    "Optimise algorithm."
   ]
  },
  {
   "cell_type": "code",
   "execution_count": 70,
   "metadata": {},
   "outputs": [],
   "source": [
    "def closes_pt(pt_list_unsorted,p2):\n",
    "    Best = [None, None, float(\"inf\")]\n",
    "    \n",
    "    pt_list_sorted = sorted(pt_list_unsorted)\n",
    "    for p1 in pt_list_sorted:\n",
    "        dx = p1[0]-p2[0]\n",
    "        dy = p1[1]-p2[1]\n",
    "        if dx < Best[2] and dy < Best[2]: #add here a condition of largest value\n",
    "            dist = sqrt(dx**2 + dy**2)\n",
    "            if dist < Best[2]:\n",
    "                Best = p1, p2, dist\n",
    "    return Best"
   ]
  },
  {
   "cell_type": "markdown",
   "metadata": {},
   "source": [
    "### Test Runs"
   ]
  },
  {
   "cell_type": "code",
   "execution_count": 76,
   "metadata": {},
   "outputs": [
    {
     "name": "stdout",
     "output_type": "stream",
     "text": [
      "7.35008999981801e-05\n"
     ]
    }
   ],
   "source": [
    "from random import random, randint\n",
    "from numpy import mean\n",
    "from time import perf_counter\n",
    "\n",
    "compare_point = (12395.238072776297, -286943.42268658814) #random point here\n",
    "times = []\n",
    "for x in range(50):\n",
    "    rand_points = {(randint(-1000000, 1000000) + random(), randint(-1000000, 1000000) + random()) for i in range(50)}\n",
    "    t0 = perf_counter() #time\n",
    "    best_point_ = opt_distance(rand_points,compare_point)\n",
    "    t1 = perf_counter()\n",
    "    times.append(t1 - t0)\n",
    "    \n",
    "print(mean(times))"
   ]
  },
  {
   "cell_type": "markdown",
   "metadata": {},
   "source": [
    "### Devide and conquere algorithrim"
   ]
  },
  {
   "cell_type": "code",
   "execution_count": 8,
   "metadata": {},
   "outputs": [],
   "source": [
    "from math import sqrt\n",
    "from itertools import combinations\n",
    "\n",
    "# store best solution here\n",
    "Best = None\n",
    "\n",
    "def calc_distance(p1, p2):\n",
    "    global Best\n",
    "    dx = p1[0]-p2[0]\n",
    "    dy = p1[1]-p2[1]\n",
    "    if dx < Best[2] and dy < Best[2]:\n",
    "        dist = sqrt(dx**2 + dy**2)\n",
    "        if dist < Best[2]:\n",
    "            Best = p1, p2, dist\n",
    "\n",
    "\n",
    "def brute_force(points):\n",
    "    for p1, p2 in combinations(points, 2):\n",
    "        calc_distance(p1, p2)\n",
    "\n",
    "\n",
    "def closest_pair(points):\n",
    "    global Best\n",
    "    Best = [None, None, float(\"inf\")]\n",
    "    x_sorted = sorted(points)\n",
    "    find_closest(x_sorted)\n",
    "    print(Best)\n",
    "    return Best[:2]\n",
    "\n",
    "\n",
    "def find_closest(x_sorted):\n",
    "    # perform brute force for 3 or 2 points\n",
    "    points_count = len(x_sorted)\n",
    "    if points_count <= 3:\n",
    "        return brute_force(x_sorted)\n",
    "    # split into two halves (x line) -> keep sorted by x and y\n",
    "    half = points_count // 2\n",
    "    _x_sorted1, _x_sorted2 = x_sorted[:half], x_sorted[half:]\n",
    "    find_closest(_x_sorted1)\n",
    "    find_closest(_x_sorted2)\n",
    "    # check best result of split pair\n",
    "    find_closest_split_pair(x_sorted)\n",
    "\n",
    "\n",
    "def find_closest_split_pair(x_sorted):\n",
    "    points_count = len(x_sorted)\n",
    "    mid_x = x_sorted[points_count // 2][0]\n",
    "    # consider only point that are no further than best distance from x\n",
    "    remained_points = sorted([p for p in x_sorted if mid_x - Best[2] < p[0] < mid_x + Best[2]], key=lambda p: p[1])\n",
    "    remained_count = len(remained_points)\n",
    "    for i, p1 in enumerate(remained_points[:-1]):\n",
    "        for p2 in remained_points[i+1:min(i+7, remained_count)]:\n",
    "            calc_distance(p1, p2)"
   ]
  },
  {
   "cell_type": "code",
   "execution_count": 20,
   "metadata": {},
   "outputs": [
    {
     "data": {
      "text/plain": [
       "((-157490.6779931489, 745544.4399127254),\n",
       " (-181452.31315854553, 762340.0891811405),\n",
       " 29261.814607901313)"
      ]
     },
     "execution_count": 20,
     "metadata": {},
     "output_type": "execute_result"
    }
   ],
   "source": [
    "Best"
   ]
  },
  {
   "cell_type": "code",
   "execution_count": 1,
   "metadata": {},
   "outputs": [
    {
     "ename": "NameError",
     "evalue": "name 'rand_points' is not defined",
     "output_type": "error",
     "traceback": [
      "\u001b[1;31m---------------------------------------------------------------------------\u001b[0m",
      "\u001b[1;31mNameError\u001b[0m                                 Traceback (most recent call last)",
      "\u001b[1;32m<ipython-input-1-1f00db950720>\u001b[0m in \u001b[0;36m<module>\u001b[1;34m\u001b[0m\n\u001b[1;32m----> 1\u001b[1;33m \u001b[0mrand_points\u001b[0m\u001b[1;33m\u001b[0m\u001b[1;33m\u001b[0m\u001b[0m\n\u001b[0m",
      "\u001b[1;31mNameError\u001b[0m: name 'rand_points' is not defined"
     ]
    }
   ],
   "source": [
    "rand_points"
   ]
  },
  {
   "cell_type": "code",
   "execution_count": 31,
   "metadata": {},
   "outputs": [],
   "source": [
    "input= {(-129853.38915201924, -533291.505209951), (-161787.65749697684, -89543.08494652087), (174163.99710926742, 399823.63431563065), (-963176.8597509604, 440110.5874580711), (117859.71671062935, -24881.54533783655), (976883.9357577763, 458246.0485669736), (224365.72624212838, 994010.4423585511), (-509261.51237849385, -796165.7917443796), (-211581.60423367243, -765451.9702146574), (12385.238072776297, -286939.42268658814), (1677.5644835872179, 179207.2994385464), (716372.6965776815, -487214.81698473246), (457578.3746884494, 288930.753346274), (-831338.6379826216, 197044.79102960628), (658426.482067716, 609705.0905637828), (526275.0189565051, -300558.0778082745), (-567501.4694335342, 29792.412827103173), (-288747.4859289009, -416878.2525538269), (873461.8836183491, 87310.35108682347), (671928.3360486003, 897701.73112443)}"
   ]
  },
  {
   "cell_type": "code",
   "execution_count": 9,
   "metadata": {},
   "outputs": [
    {
     "name": "stdout",
     "output_type": "stream",
     "text": [
      "((-129853.38915201924, -533291.505209951), (-288747.4859289009, -416878.2525538269), 196975.58068075244)\n"
     ]
    },
    {
     "data": {
      "text/plain": [
       "((-129853.38915201924, -533291.505209951),\n",
       " (-288747.4859289009, -416878.2525538269))"
      ]
     },
     "execution_count": 9,
     "metadata": {},
     "output_type": "execute_result"
    }
   ],
   "source": [
    "closest_pair(input)"
   ]
  },
  {
   "cell_type": "code",
   "execution_count": 21,
   "metadata": {},
   "outputs": [
    {
     "name": "stdout",
     "output_type": "stream",
     "text": [
      "[(-963176.8597509604, 440110.5874580711), (-831338.6379826216, 197044.79102960628), (-567501.4694335342, 29792.412827103173), (-509261.51237849385, -796165.7917443796), (-288747.4859289009, -416878.2525538269), (-211581.60423367243, -765451.9702146574), (-161787.65749697684, -89543.08494652087), (-129853.38915201924, -533291.505209951), (1677.5644835872179, 179207.2994385464), (12385.238072776297, -286939.42268658814), (117859.71671062935, -24881.54533783655), (174163.99710926742, 399823.63431563065), (224365.72624212838, 994010.4423585511), (457578.3746884494, 288930.753346274), (526275.0189565051, -300558.0778082745), (658426.482067716, 609705.0905637828), (671928.3360486003, 897701.73112443), (716372.6965776815, -487214.81698473246), (873461.8836183491, 87310.35108682347), (976883.9357577763, 458246.0485669736)]\n"
     ]
    }
   ],
   "source": [
    "pt1 = (-129853.38915201924, -533291.505209951)\n",
    "pt2 = (-288747.4859289009, -416878.2525538269)\n",
    "\n",
    "def calc_distance(p1, p2):\n",
    "    dx = p1[0]-p2[0]\n",
    "    dy = p1[1]-p2[1]\n",
    "    dist = sqrt(dx**2 + dy**2)\n",
    "    return dist\n",
    "\n",
    "def opt_distance(cord_list_sorted,cord_compare):\n",
    "    for i in cord_list_sorted:\n",
    "        \n",
    "\n",
    "def sort_by_x(cord_list):\n",
    "    cord_list_sorted = sorted(cord_list)\n",
    "    return cord_list_sorted\n",
    "\n",
    "#print(calc_distance(pt1 , pt2))\n",
    "print(sort_by_x(input))"
   ]
  },
  {
   "cell_type": "code",
   "execution_count": 27,
   "metadata": {},
   "outputs": [
    {
     "data": {
      "text/plain": [
       "{(-963176.8597509604, 440110.5874580711),\n",
       " (-831338.6379826216, 197044.79102960628),\n",
       " (-567501.4694335342, 29792.412827103173),\n",
       " (-509261.51237849385, -796165.7917443796),\n",
       " (-288747.4859289009, -416878.2525538269),\n",
       " (-211581.60423367243, -765451.9702146574),\n",
       " (-161787.65749697684, -89543.08494652087),\n",
       " (-129853.38915201924, -533291.505209951),\n",
       " (1677.5644835872179, 179207.2994385464),\n",
       " (12385.238072776297, -286939.42268658814),\n",
       " (117859.71671062935, -24881.54533783655),\n",
       " (174163.99710926742, 399823.63431563065),\n",
       " (224365.72624212838, 994010.4423585511),\n",
       " (457578.3746884494, 288930.753346274),\n",
       " (526275.0189565051, -300558.0778082745),\n",
       " (658426.482067716, 609705.0905637828),\n",
       " (671928.3360486003, 897701.73112443),\n",
       " (716372.6965776815, -487214.81698473246),\n",
       " (873461.8836183491, 87310.35108682347),\n",
       " (976883.9357577763, 458246.0485669736)}"
      ]
     },
     "execution_count": 27,
     "metadata": {},
     "output_type": "execute_result"
    }
   ],
   "source": [
    "input"
   ]
  },
  {
   "cell_type": "code",
   "execution_count": null,
   "metadata": {},
   "outputs": [],
   "source": [
    "    p2 =(12395.238072776297, -286943.42268658814)\n",
    "    for p1 in input:\n",
    "        dx = p1[0]-p2[0]\n",
    "        dy = p1[1]-p2[1]\n",
    "        if dx < Best[2] and dy < Best[2]: #add here a condition of largest value\n",
    "            dist = sqrt(dx**2 + dy**2)\n",
    "            if dist < Best[2]:\n",
    "                Best = p1, p2, dist\n",
    "    return Best"
   ]
  },
  {
   "cell_type": "code",
   "execution_count": 68,
   "metadata": {},
   "outputs": [
    {
     "name": "stdout",
     "output_type": "stream",
     "text": [
      "((12385.238072776297, -286939.42268658814), (12395.238072776297, -286943.42268658814), 10.770329614269007)\n"
     ]
    }
   ],
   "source": [
    "global Best\n",
    "Best = None #Global variable\n",
    "Best = [None, None, float(\"inf\")]\n",
    "\n",
    "p2 =(12395.238072776297, -286943.42268658814)\n",
    "for p1 in input:\n",
    "    dx = p1[0]-p2[0]\n",
    "    dy = p1[1]-p2[1]\n",
    "    if dx < Best[2] and dy < Best[2]: #add here a condition of largest value\n",
    "        dist = sqrt(dx**2 + dy**2)\n",
    "        if dist < Best[2]:\n",
    "            Best = p1, p2, dist\n",
    "print(Best)"
   ]
  }
 ],
 "metadata": {
  "kernelspec": {
   "display_name": "Python 3",
   "language": "python",
   "name": "python3"
  },
  "language_info": {
   "codemirror_mode": {
    "name": "ipython",
    "version": 3
   },
   "file_extension": ".py",
   "mimetype": "text/x-python",
   "name": "python",
   "nbconvert_exporter": "python",
   "pygments_lexer": "ipython3",
   "version": "3.7.3"
  }
 },
 "nbformat": 4,
 "nbformat_minor": 2
}
