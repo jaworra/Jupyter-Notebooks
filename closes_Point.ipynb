{
  "nbformat": 4,
  "nbformat_minor": 0,
  "metadata": {
    "kernelspec": {
      "display_name": "Python 3",
      "language": "python",
      "name": "python3"
    },
    "language_info": {
      "codemirror_mode": {
        "name": "ipython",
        "version": 3
      },
      "file_extension": ".py",
      "mimetype": "text/x-python",
      "name": "python",
      "nbconvert_exporter": "python",
      "pygments_lexer": "ipython3",
      "version": "3.7.3"
    },
    "colab": {
      "name": "closes_Point.ipynb",
      "provenance": []
    }
  },
  "cells": [
    {
      "cell_type": "markdown",
      "metadata": {
        "id": "zhoXI3LjqgTs",
        "colab_type": "text"
      },
      "source": [
        "### Find the closet point from a list of points\n",
        "\n",
        "Optimise algorithm."
      ]
    },
    {
      "cell_type": "code",
      "metadata": {
        "id": "v3gTD01OqgTu",
        "colab_type": "code",
        "colab": {}
      },
      "source": [
        "def closes_pt(pt_list_unsorted,p2):\n",
        "    Best = [None, None, float(\"inf\")]\n",
        "    \n",
        "    pt_list_sorted = sorted(pt_list_unsorted)\n",
        "    for p1 in pt_list_sorted:\n",
        "        dx = p1[0]-p2[0]\n",
        "        dy = p1[1]-p2[1]\n",
        "        if dx < Best[2] and dy < Best[2]: #add here a condition of largest value\n",
        "            dist = sqrt(dx**2 + dy**2)\n",
        "            if dist < Best[2]:\n",
        "                Best = p1, p2, dist\n",
        "    return Best"
      ],
      "execution_count": 0,
      "outputs": []
    },
    {
      "cell_type": "markdown",
      "metadata": {
        "id": "gKZN9b5zqgTy",
        "colab_type": "text"
      },
      "source": [
        "### Test Runs"
      ]
    },
    {
      "cell_type": "code",
      "metadata": {
        "id": "Dvtoz7XzqgTz",
        "colab_type": "code",
        "colab": {
          "base_uri": "https://localhost:8080/",
          "height": 51
        },
        "outputId": "39c585e4-e69a-4302-e13d-07254561108c"
      },
      "source": [
        "from random import random, randint\n",
        "from numpy import mean\n",
        "from time import perf_counter\n",
        "from math import sqrt\n",
        "\n",
        "compare_point = (12395.238072776297,-286943.42268658814) #random point here\n",
        "times = []\n",
        "for x in range(50):\n",
        "    rand_points = {(randint(-1000000, 1000000) + random(), randint(-1000000, 1000000) + random()) for i in range(50)}\n",
        "    t0 = perf_counter() #time\n",
        "    best_point_ = closes_pt(rand_points,compare_point)\n",
        "    t1 = perf_counter()\n",
        "    times.append(t1 - t0)\n",
        "    print(best_point_)\n",
        "    break\n",
        "    \n",
        "print(mean(times))"
      ],
      "execution_count": 4,
      "outputs": [
        {
          "output_type": "stream",
          "text": [
            "((5911.5423297543, -217298.00768070298), (12395.238072776297, -286943.42268658814), 69946.5663333809)\n",
            "3.3822000006011876e-05\n"
          ],
          "name": "stdout"
        }
      ]
    },
    {
      "cell_type": "markdown",
      "metadata": {
        "id": "Q7nI64OTqgT4",
        "colab_type": "text"
      },
      "source": [
        "### Devide and conquere algorithrim\n",
        "This application is to find the nearest points from a list of points."
      ]
    },
    {
      "cell_type": "code",
      "metadata": {
        "id": "6iTUfOV6qgT4",
        "colab_type": "code",
        "colab": {}
      },
      "source": [
        "from math import sqrt\n",
        "from itertools import combinations\n",
        "\n",
        "# store best solution here\n",
        "Best = None\n",
        "\n",
        "def calc_distance(p1, p2):\n",
        "    global Best\n",
        "    dx = p1[0]-p2[0]\n",
        "    dy = p1[1]-p2[1]\n",
        "    if dx < Best[2] and dy < Best[2]:\n",
        "        dist = sqrt(dx**2 + dy**2)\n",
        "        if dist < Best[2]:\n",
        "            Best = p1, p2, dist\n",
        "\n",
        "\n",
        "def brute_force(points):\n",
        "    for p1, p2 in combinations(points, 2):\n",
        "        calc_distance(p1, p2)\n",
        "\n",
        "\n",
        "def closest_pair(points):\n",
        "    global Best\n",
        "    Best = [None, None, float(\"inf\")]\n",
        "    x_sorted = sorted(points)\n",
        "    find_closest(x_sorted)\n",
        "    print(Best)\n",
        "    return Best[:2]\n",
        "\n",
        "\n",
        "def find_closest(x_sorted):\n",
        "    # perform brute force for 3 or 2 points\n",
        "    points_count = len(x_sorted)\n",
        "    if points_count <= 3:\n",
        "        return brute_force(x_sorted)\n",
        "    # split into two halves (x line) -> keep sorted by x and y\n",
        "    half = points_count // 2\n",
        "    _x_sorted1, _x_sorted2 = x_sorted[:half], x_sorted[half:]\n",
        "    find_closest(_x_sorted1)\n",
        "    find_closest(_x_sorted2)\n",
        "    # check best result of split pair\n",
        "    find_closest_split_pair(x_sorted)\n",
        "\n",
        "\n",
        "def find_closest_split_pair(x_sorted):\n",
        "    points_count = len(x_sorted)\n",
        "    mid_x = x_sorted[points_count // 2][0]\n",
        "    # consider only point that are no further than best distance from x\n",
        "    remained_points = sorted([p for p in x_sorted if mid_x - Best[2] < p[0] < mid_x + Best[2]], key=lambda p: p[1])\n",
        "    remained_count = len(remained_points)\n",
        "    for i, p1 in enumerate(remained_points[:-1]):\n",
        "        for p2 in remained_points[i+1:min(i+7, remained_count)]:\n",
        "            calc_distance(p1, p2)"
      ],
      "execution_count": 0,
      "outputs": []
    },
    {
      "cell_type": "code",
      "metadata": {
        "id": "QNLUo-GbqgT7",
        "colab_type": "code",
        "colab": {},
        "outputId": "96800d5e-e642-4648-e54b-f5613d412e34"
      },
      "source": [
        "global Best\n",
        "Best = None #Global variable\n",
        "Best = [None, None, float(\"inf\")]\n",
        "\n",
        "p2 =(12395.238072776297, -286943.42268658814)\n",
        "for p1 in input:\n",
        "    dx = p1[0]-p2[0]\n",
        "    dy = p1[1]-p2[1]\n",
        "    if dx < Best[2] and dy < Best[2]: #add here a condition of largest value\n",
        "        dist = sqrt(dx**2 + dy**2)\n",
        "        if dist < Best[2]:\n",
        "            Best = p1, p2, dist\n",
        "print(Best)"
      ],
      "execution_count": 0,
      "outputs": [
        {
          "output_type": "stream",
          "text": [
            "((12385.238072776297, -286939.42268658814), (12395.238072776297, -286943.42268658814), 10.770329614269007)\n"
          ],
          "name": "stdout"
        }
      ]
    }
  ]
}