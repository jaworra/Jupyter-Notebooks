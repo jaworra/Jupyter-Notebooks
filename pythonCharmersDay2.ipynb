{
 "cells": [
  {
   "cell_type": "markdown",
   "metadata": {},
   "source": [
    "## Web APIs\n",
    "\n",
    "As revision from yesterday a we API is a contract between systems - if you send a request in a particular formatthen the API will respond in a known format.\n"
   ]
  },
  {
   "cell_type": "code",
   "execution_count": 3,
   "metadata": {},
   "outputs": [],
   "source": [
    "# %load D:/Notebooks/extras/connection_information.txt\n",
    "# dog API\n",
    "dog_url = \"https://dog.ceo/api/breeds/image/random\"\n",
    "\n",
    "# open weather map API\n",
    "api_key = \"d1741b0c4ca70aeb629424a1ddcf28a1\"\n",
    "openweather_url = \"https://api.openweathermap.org/data/2.5/weather\"\n",
    "q = \"{city_name},{country_code}\"\n",
    "\n",
    "# database connection\n",
    "\n",
    "host = \"training-db.pythoncharmers.com\"\n",
    "port = 5432\n",
    "database = \"training\"\n",
    "username = \"trainee\"\n",
    "password = ''\n",
    "connection_string = f\"postgresql://{username}:{password}@{host}:{port}/{database}\"\n"
   ]
  },
  {
   "cell_type": "code",
   "execution_count": 19,
   "metadata": {},
   "outputs": [],
   "source": [
    "c"
   ]
  },
  {
   "cell_type": "code",
   "execution_count": 20,
   "metadata": {},
   "outputs": [],
   "source": [
    "requests.get?"
   ]
  },
  {
   "cell_type": "code",
   "execution_count": 21,
   "metadata": {},
   "outputs": [],
   "source": [
    "session =requests.Session()"
   ]
  },
  {
   "cell_type": "code",
   "execution_count": 24,
   "metadata": {},
   "outputs": [],
   "source": [
    "session.proxies ={\n",
    "    'http':'localhost:3128',\n",
    "    'https':'localhost:3128'\n",
    "}"
   ]
  },
  {
   "cell_type": "code",
   "execution_count": 25,
   "metadata": {},
   "outputs": [
    {
     "data": {
      "text/plain": [
       "<Response [200]>"
      ]
     },
     "execution_count": 25,
     "metadata": {},
     "output_type": "execute_result"
    }
   ],
   "source": [
    "session.get('https://www.tmr.qld.gov.au')"
   ]
  },
  {
   "cell_type": "code",
   "execution_count": 26,
   "metadata": {},
   "outputs": [],
   "source": [
    "getParameters = {\n",
    "    'appid':api_key,\n",
    "    'q':\"Brisbane\"\n",
    "}"
   ]
  },
  {
   "cell_type": "code",
   "execution_count": 27,
   "metadata": {},
   "outputs": [
    {
     "data": {
      "text/plain": [
       "<Response [200]>"
      ]
     },
     "execution_count": 27,
     "metadata": {},
     "output_type": "execute_result"
    }
   ],
   "source": [
    "session.get(openweather_url,params=getParameters)"
   ]
  },
  {
   "cell_type": "code",
   "execution_count": 29,
   "metadata": {},
   "outputs": [],
   "source": [
    "response = session.get(openweather_url,params=getParameters)"
   ]
  },
  {
   "cell_type": "code",
   "execution_count": 30,
   "metadata": {},
   "outputs": [
    {
     "data": {
      "text/plain": [
       "'application/json; charset=utf-8'"
      ]
     },
     "execution_count": 30,
     "metadata": {},
     "output_type": "execute_result"
    }
   ],
   "source": [
    "response.headers['Content-Type']"
   ]
  },
  {
   "cell_type": "code",
   "execution_count": 35,
   "metadata": {},
   "outputs": [
    {
     "data": {
      "text/plain": [
       "{'coord': {'lon': 153.02, 'lat': -27.47},\n",
       " 'weather': [{'id': 521,\n",
       "   'main': 'Rain',\n",
       "   'description': 'shower rain',\n",
       "   'icon': '09n'}],\n",
       " 'base': 'stations',\n",
       " 'main': {'temp': 294.59,\n",
       "  'pressure': 1028,\n",
       "  'humidity': 82,\n",
       "  'temp_min': 292.04,\n",
       "  'temp_max': 297.04},\n",
       " 'visibility': 10000,\n",
       " 'wind': {'speed': 5.1, 'deg': 100},\n",
       " 'clouds': {'all': 75},\n",
       " 'dt': 1569887073,\n",
       " 'sys': {'type': 1,\n",
       "  'id': 9485,\n",
       "  'message': 0.0066,\n",
       "  'country': 'AU',\n",
       "  'sunrise': 1569871679,\n",
       "  'sunset': 1569916055},\n",
       " 'timezone': 36000,\n",
       " 'id': 2174003,\n",
       " 'name': 'Brisbane',\n",
       " 'cod': 200}"
      ]
     },
     "execution_count": 35,
     "metadata": {},
     "output_type": "execute_result"
    }
   ],
   "source": [
    "response.json()"
   ]
  },
  {
   "cell_type": "code",
   "execution_count": 34,
   "metadata": {},
   "outputs": [
    {
     "data": {
      "text/plain": [
       "{'coord': {'lon': 153.02, 'lat': -27.47},\n",
       " 'weather': [{'id': 521,\n",
       "   'main': 'Rain',\n",
       "   'description': 'shower rain',\n",
       "   'icon': '09n'}],\n",
       " 'base': 'stations',\n",
       " 'main': {'temp': 294.59,\n",
       "  'pressure': 1028,\n",
       "  'humidity': 82,\n",
       "  'temp_min': 292.04,\n",
       "  'temp_max': 297.04},\n",
       " 'visibility': 10000,\n",
       " 'wind': {'speed': 5.1, 'deg': 100},\n",
       " 'clouds': {'all': 75},\n",
       " 'dt': 1569887073,\n",
       " 'sys': {'type': 1,\n",
       "  'id': 9485,\n",
       "  'message': 0.0066,\n",
       "  'country': 'AU',\n",
       "  'sunrise': 1569871679,\n",
       "  'sunset': 1569916055},\n",
       " 'timezone': 36000,\n",
       " 'id': 2174003,\n",
       " 'name': 'Brisbane',\n",
       " 'cod': 200}"
      ]
     },
     "execution_count": 34,
     "metadata": {},
     "output_type": "execute_result"
    }
   ],
   "source": []
  },
  {
   "cell_type": "code",
   "execution_count": null,
   "metadata": {},
   "outputs": [],
   "source": []
  }
 ],
 "metadata": {
  "kernelspec": {
   "display_name": "Python 3",
   "language": "python",
   "name": "python3"
  },
  "language_info": {
   "codemirror_mode": {
    "name": "ipython",
    "version": 3
   },
   "file_extension": ".py",
   "mimetype": "text/x-python",
   "name": "python",
   "nbconvert_exporter": "python",
   "pygments_lexer": "ipython3",
   "version": "3.7.3"
  }
 },
 "nbformat": 4,
 "nbformat_minor": 2
}
