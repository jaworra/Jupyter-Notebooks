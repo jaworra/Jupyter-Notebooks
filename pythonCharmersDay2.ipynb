{
 "cells": [
  {
   "cell_type": "markdown",
   "metadata": {},
   "source": [
    "## Web APIs\n",
    "\n",
    "As revision from yesterday a we API is a contract between systems - if you send a request in a particular formatthen the API will respond in a known format.\n"
   ]
  },
  {
   "cell_type": "code",
   "execution_count": 3,
   "metadata": {},
   "outputs": [],
   "source": [
    "# %load D:/Notebooks/extras/connection_information.txt\n",
    "# dog API\n",
    "dog_url = \"https://dog.ceo/api/breeds/image/random\"\n",
    "\n",
    "# open weather map API\n",
    "api_key = \"d1741b0c4ca70aeb629424a1ddcf28a1\"\n",
    "openweather_url = \"https://api.openweathermap.org/data/2.5/weather\"\n",
    "q = \"{city_name},{country_code}\"\n",
    "\n",
    "# database connection\n",
    "\n",
    "host = \"training-db.pythoncharmers.com\"\n",
    "port = 5432\n",
    "database = \"training\"\n",
    "username = \"trainee\"\n",
    "password = ''\n",
    "connection_string = f\"postgresql://{username}:{password}@{host}:{port}/{database}\"\n"
   ]
  },
  {
   "cell_type": "code",
   "execution_count": 19,
   "metadata": {},
   "outputs": [],
   "source": [
    "import requests"
   ]
  },
  {
   "cell_type": "code",
   "execution_count": 20,
   "metadata": {},
   "outputs": [],
   "source": [
    "requests.get?"
   ]
  },
  {
   "cell_type": "code",
   "execution_count": 21,
   "metadata": {},
   "outputs": [],
   "source": [
    "session =requests.Session()"
   ]
  },
  {
   "cell_type": "code",
   "execution_count": 24,
   "metadata": {},
   "outputs": [],
   "source": [
    "session.proxies ={\n",
    "    'http':'localhost:3128',\n",
    "    'https':'localhost:3128'\n",
    "}"
   ]
  },
  {
   "cell_type": "code",
   "execution_count": 25,
   "metadata": {},
   "outputs": [
    {
     "data": {
      "text/plain": [
       "<Response [200]>"
      ]
     },
     "execution_count": 25,
     "metadata": {},
     "output_type": "execute_result"
    }
   ],
   "source": [
    "session.get('https://www.tmr.qld.gov.au')"
   ]
  },
  {
   "cell_type": "code",
   "execution_count": 26,
   "metadata": {},
   "outputs": [],
   "source": [
    "getParameters = {\n",
    "    'appid':api_key,\n",
    "    'q':\"Brisbane\"\n",
    "}"
   ]
  },
  {
   "cell_type": "code",
   "execution_count": 27,
   "metadata": {},
   "outputs": [
    {
     "data": {
      "text/plain": [
       "<Response [200]>"
      ]
     },
     "execution_count": 27,
     "metadata": {},
     "output_type": "execute_result"
    }
   ],
   "source": [
    "session.get(openweather_url,params=getParameters)"
   ]
  },
  {
   "cell_type": "code",
   "execution_count": 29,
   "metadata": {},
   "outputs": [],
   "source": [
    "response = session.get(openweather_url,params=getParameters)"
   ]
  },
  {
   "cell_type": "code",
   "execution_count": 30,
   "metadata": {},
   "outputs": [
    {
     "data": {
      "text/plain": [
       "'application/json; charset=utf-8'"
      ]
     },
     "execution_count": 30,
     "metadata": {},
     "output_type": "execute_result"
    }
   ],
   "source": [
    "response.headers['Content-Type']"
   ]
  },
  {
   "cell_type": "code",
   "execution_count": 35,
   "metadata": {},
   "outputs": [
    {
     "data": {
      "text/plain": [
       "{'coord': {'lon': 153.02, 'lat': -27.47},\n",
       " 'weather': [{'id': 521,\n",
       "   'main': 'Rain',\n",
       "   'description': 'shower rain',\n",
       "   'icon': '09n'}],\n",
       " 'base': 'stations',\n",
       " 'main': {'temp': 294.59,\n",
       "  'pressure': 1028,\n",
       "  'humidity': 82,\n",
       "  'temp_min': 292.04,\n",
       "  'temp_max': 297.04},\n",
       " 'visibility': 10000,\n",
       " 'wind': {'speed': 5.1, 'deg': 100},\n",
       " 'clouds': {'all': 75},\n",
       " 'dt': 1569887073,\n",
       " 'sys': {'type': 1,\n",
       "  'id': 9485,\n",
       "  'message': 0.0066,\n",
       "  'country': 'AU',\n",
       "  'sunrise': 1569871679,\n",
       "  'sunset': 1569916055},\n",
       " 'timezone': 36000,\n",
       " 'id': 2174003,\n",
       " 'name': 'Brisbane',\n",
       " 'cod': 200}"
      ]
     },
     "execution_count": 35,
     "metadata": {},
     "output_type": "execute_result"
    }
   ],
   "source": [
    "response.json()"
   ]
  },
  {
   "cell_type": "code",
   "execution_count": 34,
   "metadata": {},
   "outputs": [
    {
     "data": {
      "text/plain": [
       "{'coord': {'lon': 153.02, 'lat': -27.47},\n",
       " 'weather': [{'id': 521,\n",
       "   'main': 'Rain',\n",
       "   'description': 'shower rain',\n",
       "   'icon': '09n'}],\n",
       " 'base': 'stations',\n",
       " 'main': {'temp': 294.59,\n",
       "  'pressure': 1028,\n",
       "  'humidity': 82,\n",
       "  'temp_min': 292.04,\n",
       "  'temp_max': 297.04},\n",
       " 'visibility': 10000,\n",
       " 'wind': {'speed': 5.1, 'deg': 100},\n",
       " 'clouds': {'all': 75},\n",
       " 'dt': 1569887073,\n",
       " 'sys': {'type': 1,\n",
       "  'id': 9485,\n",
       "  'message': 0.0066,\n",
       "  'country': 'AU',\n",
       "  'sunrise': 1569871679,\n",
       "  'sunset': 1569916055},\n",
       " 'timezone': 36000,\n",
       " 'id': 2174003,\n",
       " 'name': 'Brisbane',\n",
       " 'cod': 200}"
      ]
     },
     "execution_count": 34,
     "metadata": {},
     "output_type": "execute_result"
    }
   ],
   "source": []
  },
  {
   "cell_type": "code",
   "execution_count": 36,
   "metadata": {},
   "outputs": [],
   "source": [
    "weather = response.json()"
   ]
  },
  {
   "cell_type": "code",
   "execution_count": 37,
   "metadata": {},
   "outputs": [
    {
     "data": {
      "text/plain": [
       "dict_keys(['coord', 'weather', 'base', 'main', 'visibility', 'wind', 'clouds', 'dt', 'sys', 'timezone', 'id', 'name', 'cod'])"
      ]
     },
     "execution_count": 37,
     "metadata": {},
     "output_type": "execute_result"
    }
   ],
   "source": [
    "weather.keys()"
   ]
  },
  {
   "cell_type": "code",
   "execution_count": 40,
   "metadata": {},
   "outputs": [
    {
     "data": {
      "text/plain": [
       "294.59"
      ]
     },
     "execution_count": 40,
     "metadata": {},
     "output_type": "execute_result"
    }
   ],
   "source": [
    "weather['main']['temp']"
   ]
  },
  {
   "cell_type": "code",
   "execution_count": 42,
   "metadata": {},
   "outputs": [],
   "source": [
    "getParameters['q'] = 'Melbourne'"
   ]
  },
  {
   "cell_type": "code",
   "execution_count": 43,
   "metadata": {},
   "outputs": [
    {
     "data": {
      "text/plain": [
       "286.32"
      ]
     },
     "execution_count": 43,
     "metadata": {},
     "output_type": "execute_result"
    }
   ],
   "source": [
    "response = session.get(openweather_url,params=getParameters)\n",
    "weather = response.json()\n",
    "weather['main']['temp']"
   ]
  },
  {
   "cell_type": "markdown",
   "metadata": {},
   "source": [
    "## Exercise: Using a rest API\n",
    "\n",
    "1. Pick the city you've been to thats furthes from Brisbane"
   ]
  },
  {
   "cell_type": "code",
   "execution_count": 47,
   "metadata": {},
   "outputs": [],
   "source": [
    "getParameters['q'] = 'Apia'"
   ]
  },
  {
   "cell_type": "code",
   "execution_count": 50,
   "metadata": {},
   "outputs": [
    {
     "data": {
      "text/plain": [
       "25"
      ]
     },
     "execution_count": 50,
     "metadata": {},
     "output_type": "execute_result"
    }
   ],
   "source": [
    "response = session.get(openweather_url,params=getParameters)\n",
    "weather = response.json()\n",
    "weather['main']['temp']"
   ]
  },
  {
   "cell_type": "code",
   "execution_count": 69,
   "metadata": {},
   "outputs": [],
   "source": [
    "getParameters['units'] = 'metric'"
   ]
  },
  {
   "cell_type": "code",
   "execution_count": 85,
   "metadata": {},
   "outputs": [],
   "source": [
    "def getCityTemp(city, countryCode='AU'):\n",
    "    \"\"\"Use the OpenWeaatherMap API to get the \n",
    "    current temperature for a given city\n",
    "    \n",
    "    Examples:\n",
    "    >getTemperture('Brisbane')\n",
    "    >getTemperature ('London', ContryCode ='GB')\"\"\"\n",
    "    \n",
    "    getParameters['q']= city +' ,' + countryCode\n",
    "    response = session.get(openweather_url,params=getParameters)\n",
    "    weather = response.json()\n",
    "    return weather['main']['temp']"
   ]
  },
  {
   "cell_type": "code",
   "execution_count": 86,
   "metadata": {},
   "outputs": [
    {
     "data": {
      "text/plain": [
       "16.24"
      ]
     },
     "execution_count": 86,
     "metadata": {},
     "output_type": "execute_result"
    }
   ],
   "source": [
    "getCityTemp('Perth', countryCode = 'AU')"
   ]
  },
  {
   "cell_type": "code",
   "execution_count": 99,
   "metadata": {},
   "outputs": [],
   "source": [
    "cities = ['Brisbane','Melboure','Sydney','Perth','Hobart']"
   ]
  },
  {
   "cell_type": "code",
   "execution_count": 100,
   "metadata": {},
   "outputs": [],
   "source": [
    "cities = ['Perth','Melbourne','Sydney']\n",
    "cityTemp = {}\n",
    "for cityName in cities:\n",
    "    cityTemp[cityName] = getCityTemp(cityName)"
   ]
  },
  {
   "cell_type": "markdown",
   "metadata": {},
   "source": [
    "## Working with tabular data in Python"
   ]
  },
  {
   "cell_type": "code",
   "execution_count": 101,
   "metadata": {},
   "outputs": [],
   "source": [
    "import pandas as pd"
   ]
  },
  {
   "cell_type": "code",
   "execution_count": 102,
   "metadata": {},
   "outputs": [],
   "source": [
    "%matplotlib inline"
   ]
  },
  {
   "cell_type": "code",
   "execution_count": 103,
   "metadata": {},
   "outputs": [
    {
     "data": {
      "text/html": [
       "<div>\n",
       "<style scoped>\n",
       "    .dataframe tbody tr th:only-of-type {\n",
       "        vertical-align: middle;\n",
       "    }\n",
       "\n",
       "    .dataframe tbody tr th {\n",
       "        vertical-align: top;\n",
       "    }\n",
       "\n",
       "    .dataframe thead th {\n",
       "        text-align: right;\n",
       "    }\n",
       "</style>\n",
       "<table border=\"1\" class=\"dataframe\">\n",
       "  <thead>\n",
       "    <tr style=\"text-align: right;\">\n",
       "      <th></th>\n",
       "      <th>Country</th>\n",
       "      <th>Gold</th>\n",
       "      <th>Silver</th>\n",
       "      <th>Bronze</th>\n",
       "    </tr>\n",
       "  </thead>\n",
       "  <tbody>\n",
       "    <tr>\n",
       "      <th>0</th>\n",
       "      <td>Afghanistan</td>\n",
       "      <td>0</td>\n",
       "      <td>0</td>\n",
       "      <td>1</td>\n",
       "    </tr>\n",
       "    <tr>\n",
       "      <th>1</th>\n",
       "      <td>Albania</td>\n",
       "      <td>0</td>\n",
       "      <td>0</td>\n",
       "      <td>0</td>\n",
       "    </tr>\n",
       "    <tr>\n",
       "      <th>2</th>\n",
       "      <td>Algeria</td>\n",
       "      <td>1</td>\n",
       "      <td>0</td>\n",
       "      <td>0</td>\n",
       "    </tr>\n",
       "    <tr>\n",
       "      <th>3</th>\n",
       "      <td>American Virgin Islands</td>\n",
       "      <td>0</td>\n",
       "      <td>0</td>\n",
       "      <td>0</td>\n",
       "    </tr>\n",
       "    <tr>\n",
       "      <th>4</th>\n",
       "      <td>Andorra</td>\n",
       "      <td>0</td>\n",
       "      <td>0</td>\n",
       "      <td>0</td>\n",
       "    </tr>\n",
       "    <tr>\n",
       "      <th>5</th>\n",
       "      <td>Angola</td>\n",
       "      <td>0</td>\n",
       "      <td>0</td>\n",
       "      <td>0</td>\n",
       "    </tr>\n",
       "    <tr>\n",
       "      <th>6</th>\n",
       "      <td>Antigua and Barbuda</td>\n",
       "      <td>0</td>\n",
       "      <td>0</td>\n",
       "      <td>0</td>\n",
       "    </tr>\n",
       "    <tr>\n",
       "      <th>7</th>\n",
       "      <td>Argentina</td>\n",
       "      <td>1</td>\n",
       "      <td>1</td>\n",
       "      <td>2</td>\n",
       "    </tr>\n",
       "    <tr>\n",
       "      <th>8</th>\n",
       "      <td>Armenia</td>\n",
       "      <td>0</td>\n",
       "      <td>1</td>\n",
       "      <td>2</td>\n",
       "    </tr>\n",
       "    <tr>\n",
       "      <th>9</th>\n",
       "      <td>Aruba</td>\n",
       "      <td>0</td>\n",
       "      <td>0</td>\n",
       "      <td>0</td>\n",
       "    </tr>\n",
       "    <tr>\n",
       "      <th>10</th>\n",
       "      <td>Australia</td>\n",
       "      <td>7</td>\n",
       "      <td>16</td>\n",
       "      <td>12</td>\n",
       "    </tr>\n",
       "    <tr>\n",
       "      <th>11</th>\n",
       "      <td>Austria</td>\n",
       "      <td>0</td>\n",
       "      <td>0</td>\n",
       "      <td>0</td>\n",
       "    </tr>\n",
       "    <tr>\n",
       "      <th>12</th>\n",
       "      <td>Azerbaijan</td>\n",
       "      <td>2</td>\n",
       "      <td>2</td>\n",
       "      <td>6</td>\n",
       "    </tr>\n",
       "    <tr>\n",
       "      <th>13</th>\n",
       "      <td>Bahamas</td>\n",
       "      <td>1</td>\n",
       "      <td>0</td>\n",
       "      <td>0</td>\n",
       "    </tr>\n",
       "    <tr>\n",
       "      <th>14</th>\n",
       "      <td>Bahrain</td>\n",
       "      <td>0</td>\n",
       "      <td>0</td>\n",
       "      <td>1</td>\n",
       "    </tr>\n",
       "    <tr>\n",
       "      <th>15</th>\n",
       "      <td>Bangladesh</td>\n",
       "      <td>0</td>\n",
       "      <td>0</td>\n",
       "      <td>0</td>\n",
       "    </tr>\n",
       "    <tr>\n",
       "      <th>16</th>\n",
       "      <td>Barbados</td>\n",
       "      <td>0</td>\n",
       "      <td>0</td>\n",
       "      <td>0</td>\n",
       "    </tr>\n",
       "    <tr>\n",
       "      <th>17</th>\n",
       "      <td>Belarus</td>\n",
       "      <td>2</td>\n",
       "      <td>5</td>\n",
       "      <td>5</td>\n",
       "    </tr>\n",
       "    <tr>\n",
       "      <th>18</th>\n",
       "      <td>Belgium</td>\n",
       "      <td>0</td>\n",
       "      <td>1</td>\n",
       "      <td>2</td>\n",
       "    </tr>\n",
       "    <tr>\n",
       "      <th>19</th>\n",
       "      <td>Belize</td>\n",
       "      <td>0</td>\n",
       "      <td>0</td>\n",
       "      <td>0</td>\n",
       "    </tr>\n",
       "    <tr>\n",
       "      <th>20</th>\n",
       "      <td>Benin</td>\n",
       "      <td>0</td>\n",
       "      <td>0</td>\n",
       "      <td>0</td>\n",
       "    </tr>\n",
       "    <tr>\n",
       "      <th>21</th>\n",
       "      <td>Bermuda</td>\n",
       "      <td>0</td>\n",
       "      <td>0</td>\n",
       "      <td>0</td>\n",
       "    </tr>\n",
       "    <tr>\n",
       "      <th>22</th>\n",
       "      <td>Bhutan</td>\n",
       "      <td>0</td>\n",
       "      <td>0</td>\n",
       "      <td>0</td>\n",
       "    </tr>\n",
       "    <tr>\n",
       "      <th>23</th>\n",
       "      <td>Bolivia</td>\n",
       "      <td>0</td>\n",
       "      <td>0</td>\n",
       "      <td>0</td>\n",
       "    </tr>\n",
       "    <tr>\n",
       "      <th>24</th>\n",
       "      <td>Bosnia and Herzegovina</td>\n",
       "      <td>0</td>\n",
       "      <td>0</td>\n",
       "      <td>0</td>\n",
       "    </tr>\n",
       "    <tr>\n",
       "      <th>25</th>\n",
       "      <td>Botswana</td>\n",
       "      <td>0</td>\n",
       "      <td>1</td>\n",
       "      <td>0</td>\n",
       "    </tr>\n",
       "    <tr>\n",
       "      <th>26</th>\n",
       "      <td>Brazil</td>\n",
       "      <td>3</td>\n",
       "      <td>5</td>\n",
       "      <td>9</td>\n",
       "    </tr>\n",
       "    <tr>\n",
       "      <th>27</th>\n",
       "      <td>British Virgin Islands</td>\n",
       "      <td>0</td>\n",
       "      <td>0</td>\n",
       "      <td>0</td>\n",
       "    </tr>\n",
       "    <tr>\n",
       "      <th>28</th>\n",
       "      <td>Brunei Darussalam</td>\n",
       "      <td>0</td>\n",
       "      <td>0</td>\n",
       "      <td>0</td>\n",
       "    </tr>\n",
       "    <tr>\n",
       "      <th>29</th>\n",
       "      <td>Bulgaria</td>\n",
       "      <td>0</td>\n",
       "      <td>1</td>\n",
       "      <td>1</td>\n",
       "    </tr>\n",
       "    <tr>\n",
       "      <th>...</th>\n",
       "      <td>...</td>\n",
       "      <td>...</td>\n",
       "      <td>...</td>\n",
       "      <td>...</td>\n",
       "    </tr>\n",
       "    <tr>\n",
       "      <th>174</th>\n",
       "      <td>Sudan</td>\n",
       "      <td>0</td>\n",
       "      <td>0</td>\n",
       "      <td>0</td>\n",
       "    </tr>\n",
       "    <tr>\n",
       "      <th>175</th>\n",
       "      <td>Suriname</td>\n",
       "      <td>0</td>\n",
       "      <td>0</td>\n",
       "      <td>0</td>\n",
       "    </tr>\n",
       "    <tr>\n",
       "      <th>176</th>\n",
       "      <td>Swaziland</td>\n",
       "      <td>0</td>\n",
       "      <td>0</td>\n",
       "      <td>0</td>\n",
       "    </tr>\n",
       "    <tr>\n",
       "      <th>177</th>\n",
       "      <td>Sweden</td>\n",
       "      <td>1</td>\n",
       "      <td>4</td>\n",
       "      <td>3</td>\n",
       "    </tr>\n",
       "    <tr>\n",
       "      <th>178</th>\n",
       "      <td>Switzerland</td>\n",
       "      <td>2</td>\n",
       "      <td>2</td>\n",
       "      <td>0</td>\n",
       "    </tr>\n",
       "    <tr>\n",
       "      <th>179</th>\n",
       "      <td>Syria</td>\n",
       "      <td>0</td>\n",
       "      <td>0</td>\n",
       "      <td>0</td>\n",
       "    </tr>\n",
       "    <tr>\n",
       "      <th>180</th>\n",
       "      <td>Taiwan(2)</td>\n",
       "      <td>0</td>\n",
       "      <td>1</td>\n",
       "      <td>1</td>\n",
       "    </tr>\n",
       "    <tr>\n",
       "      <th>181</th>\n",
       "      <td>Tajikistan</td>\n",
       "      <td>0</td>\n",
       "      <td>0</td>\n",
       "      <td>1</td>\n",
       "    </tr>\n",
       "    <tr>\n",
       "      <th>182</th>\n",
       "      <td>Tanzania</td>\n",
       "      <td>0</td>\n",
       "      <td>0</td>\n",
       "      <td>0</td>\n",
       "    </tr>\n",
       "    <tr>\n",
       "      <th>183</th>\n",
       "      <td>Thailand</td>\n",
       "      <td>0</td>\n",
       "      <td>2</td>\n",
       "      <td>1</td>\n",
       "    </tr>\n",
       "    <tr>\n",
       "      <th>184</th>\n",
       "      <td>Timor-Leste</td>\n",
       "      <td>0</td>\n",
       "      <td>0</td>\n",
       "      <td>0</td>\n",
       "    </tr>\n",
       "    <tr>\n",
       "      <th>185</th>\n",
       "      <td>Togo</td>\n",
       "      <td>0</td>\n",
       "      <td>0</td>\n",
       "      <td>0</td>\n",
       "    </tr>\n",
       "    <tr>\n",
       "      <th>186</th>\n",
       "      <td>Tonga</td>\n",
       "      <td>0</td>\n",
       "      <td>0</td>\n",
       "      <td>0</td>\n",
       "    </tr>\n",
       "    <tr>\n",
       "      <th>187</th>\n",
       "      <td>Trinidad and Tobago</td>\n",
       "      <td>1</td>\n",
       "      <td>0</td>\n",
       "      <td>3</td>\n",
       "    </tr>\n",
       "    <tr>\n",
       "      <th>188</th>\n",
       "      <td>Tunisia</td>\n",
       "      <td>1</td>\n",
       "      <td>1</td>\n",
       "      <td>1</td>\n",
       "    </tr>\n",
       "    <tr>\n",
       "      <th>189</th>\n",
       "      <td>Turkey</td>\n",
       "      <td>2</td>\n",
       "      <td>2</td>\n",
       "      <td>1</td>\n",
       "    </tr>\n",
       "    <tr>\n",
       "      <th>190</th>\n",
       "      <td>Turkmenistan</td>\n",
       "      <td>0</td>\n",
       "      <td>0</td>\n",
       "      <td>0</td>\n",
       "    </tr>\n",
       "    <tr>\n",
       "      <th>191</th>\n",
       "      <td>Tuvalu</td>\n",
       "      <td>0</td>\n",
       "      <td>0</td>\n",
       "      <td>0</td>\n",
       "    </tr>\n",
       "    <tr>\n",
       "      <th>192</th>\n",
       "      <td>Uganda</td>\n",
       "      <td>1</td>\n",
       "      <td>0</td>\n",
       "      <td>0</td>\n",
       "    </tr>\n",
       "    <tr>\n",
       "      <th>193</th>\n",
       "      <td>Ukraine</td>\n",
       "      <td>6</td>\n",
       "      <td>5</td>\n",
       "      <td>9</td>\n",
       "    </tr>\n",
       "    <tr>\n",
       "      <th>194</th>\n",
       "      <td>United Arab Emirates</td>\n",
       "      <td>0</td>\n",
       "      <td>0</td>\n",
       "      <td>0</td>\n",
       "    </tr>\n",
       "    <tr>\n",
       "      <th>195</th>\n",
       "      <td>United States of America</td>\n",
       "      <td>46</td>\n",
       "      <td>29</td>\n",
       "      <td>29</td>\n",
       "    </tr>\n",
       "    <tr>\n",
       "      <th>196</th>\n",
       "      <td>Uruguay</td>\n",
       "      <td>0</td>\n",
       "      <td>0</td>\n",
       "      <td>0</td>\n",
       "    </tr>\n",
       "    <tr>\n",
       "      <th>197</th>\n",
       "      <td>Uzbekistan</td>\n",
       "      <td>1</td>\n",
       "      <td>0</td>\n",
       "      <td>3</td>\n",
       "    </tr>\n",
       "    <tr>\n",
       "      <th>198</th>\n",
       "      <td>Vanuatu</td>\n",
       "      <td>0</td>\n",
       "      <td>0</td>\n",
       "      <td>0</td>\n",
       "    </tr>\n",
       "    <tr>\n",
       "      <th>199</th>\n",
       "      <td>Venezuela</td>\n",
       "      <td>1</td>\n",
       "      <td>0</td>\n",
       "      <td>0</td>\n",
       "    </tr>\n",
       "    <tr>\n",
       "      <th>200</th>\n",
       "      <td>Viet Nam</td>\n",
       "      <td>0</td>\n",
       "      <td>0</td>\n",
       "      <td>0</td>\n",
       "    </tr>\n",
       "    <tr>\n",
       "      <th>201</th>\n",
       "      <td>Yemen</td>\n",
       "      <td>0</td>\n",
       "      <td>0</td>\n",
       "      <td>0</td>\n",
       "    </tr>\n",
       "    <tr>\n",
       "      <th>202</th>\n",
       "      <td>Zambia</td>\n",
       "      <td>0</td>\n",
       "      <td>0</td>\n",
       "      <td>0</td>\n",
       "    </tr>\n",
       "    <tr>\n",
       "      <th>203</th>\n",
       "      <td>Zimbabwe</td>\n",
       "      <td>0</td>\n",
       "      <td>0</td>\n",
       "      <td>0</td>\n",
       "    </tr>\n",
       "  </tbody>\n",
       "</table>\n",
       "<p>204 rows × 4 columns</p>\n",
       "</div>"
      ],
      "text/plain": [
       "                      Country  Gold  Silver  Bronze\n",
       "0                 Afghanistan     0       0       1\n",
       "1                     Albania     0       0       0\n",
       "2                     Algeria     1       0       0\n",
       "3     American Virgin Islands     0       0       0\n",
       "4                     Andorra     0       0       0\n",
       "5                      Angola     0       0       0\n",
       "6         Antigua and Barbuda     0       0       0\n",
       "7                   Argentina     1       1       2\n",
       "8                     Armenia     0       1       2\n",
       "9                       Aruba     0       0       0\n",
       "10                  Australia     7      16      12\n",
       "11                    Austria     0       0       0\n",
       "12                 Azerbaijan     2       2       6\n",
       "13                    Bahamas     1       0       0\n",
       "14                    Bahrain     0       0       1\n",
       "15                 Bangladesh     0       0       0\n",
       "16                   Barbados     0       0       0\n",
       "17                    Belarus     2       5       5\n",
       "18                    Belgium     0       1       2\n",
       "19                     Belize     0       0       0\n",
       "20                      Benin     0       0       0\n",
       "21                    Bermuda     0       0       0\n",
       "22                     Bhutan     0       0       0\n",
       "23                    Bolivia     0       0       0\n",
       "24     Bosnia and Herzegovina     0       0       0\n",
       "25                   Botswana     0       1       0\n",
       "26                     Brazil     3       5       9\n",
       "27     British Virgin Islands     0       0       0\n",
       "28          Brunei Darussalam     0       0       0\n",
       "29                   Bulgaria     0       1       1\n",
       "..                        ...   ...     ...     ...\n",
       "174                     Sudan     0       0       0\n",
       "175                  Suriname     0       0       0\n",
       "176                 Swaziland     0       0       0\n",
       "177                    Sweden     1       4       3\n",
       "178               Switzerland     2       2       0\n",
       "179                     Syria     0       0       0\n",
       "180                 Taiwan(2)     0       1       1\n",
       "181                Tajikistan     0       0       1\n",
       "182                  Tanzania     0       0       0\n",
       "183                  Thailand     0       2       1\n",
       "184               Timor-Leste     0       0       0\n",
       "185                      Togo     0       0       0\n",
       "186                     Tonga     0       0       0\n",
       "187       Trinidad and Tobago     1       0       3\n",
       "188                   Tunisia     1       1       1\n",
       "189                    Turkey     2       2       1\n",
       "190              Turkmenistan     0       0       0\n",
       "191                    Tuvalu     0       0       0\n",
       "192                    Uganda     1       0       0\n",
       "193                   Ukraine     6       5       9\n",
       "194      United Arab Emirates     0       0       0\n",
       "195  United States of America    46      29      29\n",
       "196                   Uruguay     0       0       0\n",
       "197                Uzbekistan     1       0       3\n",
       "198                   Vanuatu     0       0       0\n",
       "199                 Venezuela     1       0       0\n",
       "200                  Viet Nam     0       0       0\n",
       "201                     Yemen     0       0       0\n",
       "202                    Zambia     0       0       0\n",
       "203                  Zimbabwe     0       0       0\n",
       "\n",
       "[204 rows x 4 columns]"
      ]
     },
     "execution_count": 103,
     "metadata": {},
     "output_type": "execute_result"
    }
   ],
   "source": [
    "pd.read_csv('D:/Data/olympics2012.csv')"
   ]
  },
  {
   "cell_type": "code",
   "execution_count": 106,
   "metadata": {},
   "outputs": [
    {
     "name": "stdout",
     "output_type": "stream",
     "text": [
      "D:\\Data\n"
     ]
    }
   ],
   "source": [
    "%cd D:/Data"
   ]
  },
  {
   "cell_type": "code",
   "execution_count": 110,
   "metadata": {},
   "outputs": [],
   "source": [
    "olympics=pd.read_csv('olympics2012.csv')"
   ]
  },
  {
   "cell_type": "code",
   "execution_count": 111,
   "metadata": {},
   "outputs": [
    {
     "data": {
      "text/plain": [
       "pandas.core.frame.DataFrame"
      ]
     },
     "execution_count": 111,
     "metadata": {},
     "output_type": "execute_result"
    }
   ],
   "source": [
    "type(olympics)"
   ]
  },
  {
   "cell_type": "code",
   "execution_count": 112,
   "metadata": {},
   "outputs": [
    {
     "data": {
      "text/html": [
       "<div>\n",
       "<style scoped>\n",
       "    .dataframe tbody tr th:only-of-type {\n",
       "        vertical-align: middle;\n",
       "    }\n",
       "\n",
       "    .dataframe tbody tr th {\n",
       "        vertical-align: top;\n",
       "    }\n",
       "\n",
       "    .dataframe thead th {\n",
       "        text-align: right;\n",
       "    }\n",
       "</style>\n",
       "<table border=\"1\" class=\"dataframe\">\n",
       "  <thead>\n",
       "    <tr style=\"text-align: right;\">\n",
       "      <th></th>\n",
       "      <th>Gold</th>\n",
       "      <th>Silver</th>\n",
       "      <th>Bronze</th>\n",
       "    </tr>\n",
       "  </thead>\n",
       "  <tbody>\n",
       "    <tr>\n",
       "      <th>count</th>\n",
       "      <td>204.000000</td>\n",
       "      <td>204.000000</td>\n",
       "      <td>204.000000</td>\n",
       "    </tr>\n",
       "    <tr>\n",
       "      <th>mean</th>\n",
       "      <td>1.480392</td>\n",
       "      <td>1.441176</td>\n",
       "      <td>1.745098</td>\n",
       "    </tr>\n",
       "    <tr>\n",
       "      <th>std</th>\n",
       "      <td>5.213152</td>\n",
       "      <td>4.145324</td>\n",
       "      <td>4.398133</td>\n",
       "    </tr>\n",
       "    <tr>\n",
       "      <th>min</th>\n",
       "      <td>0.000000</td>\n",
       "      <td>0.000000</td>\n",
       "      <td>0.000000</td>\n",
       "    </tr>\n",
       "    <tr>\n",
       "      <th>25%</th>\n",
       "      <td>0.000000</td>\n",
       "      <td>0.000000</td>\n",
       "      <td>0.000000</td>\n",
       "    </tr>\n",
       "    <tr>\n",
       "      <th>50%</th>\n",
       "      <td>0.000000</td>\n",
       "      <td>0.000000</td>\n",
       "      <td>0.000000</td>\n",
       "    </tr>\n",
       "    <tr>\n",
       "      <th>75%</th>\n",
       "      <td>1.000000</td>\n",
       "      <td>1.000000</td>\n",
       "      <td>2.000000</td>\n",
       "    </tr>\n",
       "    <tr>\n",
       "      <th>max</th>\n",
       "      <td>46.000000</td>\n",
       "      <td>29.000000</td>\n",
       "      <td>32.000000</td>\n",
       "    </tr>\n",
       "  </tbody>\n",
       "</table>\n",
       "</div>"
      ],
      "text/plain": [
       "             Gold      Silver      Bronze\n",
       "count  204.000000  204.000000  204.000000\n",
       "mean     1.480392    1.441176    1.745098\n",
       "std      5.213152    4.145324    4.398133\n",
       "min      0.000000    0.000000    0.000000\n",
       "25%      0.000000    0.000000    0.000000\n",
       "50%      0.000000    0.000000    0.000000\n",
       "75%      1.000000    1.000000    2.000000\n",
       "max     46.000000   29.000000   32.000000"
      ]
     },
     "execution_count": 112,
     "metadata": {},
     "output_type": "execute_result"
    }
   ],
   "source": [
    "olympics.describe()"
   ]
  },
  {
   "cell_type": "code",
   "execution_count": 113,
   "metadata": {},
   "outputs": [
    {
     "data": {
      "text/plain": [
       "array([[<matplotlib.axes._subplots.AxesSubplot object at 0x000000000C552048>,\n",
       "        <matplotlib.axes._subplots.AxesSubplot object at 0x000000000C6DFC18>],\n",
       "       [<matplotlib.axes._subplots.AxesSubplot object at 0x000000000BA48828>,\n",
       "        <matplotlib.axes._subplots.AxesSubplot object at 0x000000000E03C668>]],\n",
       "      dtype=object)"
      ]
     },
     "execution_count": 113,
     "metadata": {},
     "output_type": "execute_result"
    },
    {
     "data": {
      "image/png": "[encoded data removed]",
      "text/plain": [
       "<Figure size 432x288 with 4 Axes>"
      ]
     },
     "metadata": {
      "needs_background": "light"
     },
     "output_type": "display_data"
    }
   ],
   "source": [
    "olympics.hist()"
   ]
  },
  {
   "cell_type": "code",
   "execution_count": 114,
   "metadata": {},
   "outputs": [],
   "source": [
    "olympics=pd.read_csv('olympics2012.csv', index_col ='Country')"
   ]
  },
  {
   "cell_type": "code",
   "execution_count": 115,
   "metadata": {},
   "outputs": [
    {
     "data": {
      "text/html": [
       "<div>\n",
       "<style scoped>\n",
       "    .dataframe tbody tr th:only-of-type {\n",
       "        vertical-align: middle;\n",
       "    }\n",
       "\n",
       "    .dataframe tbody tr th {\n",
       "        vertical-align: top;\n",
       "    }\n",
       "\n",
       "    .dataframe thead th {\n",
       "        text-align: right;\n",
       "    }\n",
       "</style>\n",
       "<table border=\"1\" class=\"dataframe\">\n",
       "  <thead>\n",
       "    <tr style=\"text-align: right;\">\n",
       "      <th></th>\n",
       "      <th>Gold</th>\n",
       "      <th>Silver</th>\n",
       "      <th>Bronze</th>\n",
       "    </tr>\n",
       "    <tr>\n",
       "      <th>Country</th>\n",
       "      <th></th>\n",
       "      <th></th>\n",
       "      <th></th>\n",
       "    </tr>\n",
       "  </thead>\n",
       "  <tbody>\n",
       "    <tr>\n",
       "      <th>Afghanistan</th>\n",
       "      <td>0</td>\n",
       "      <td>0</td>\n",
       "      <td>1</td>\n",
       "    </tr>\n",
       "    <tr>\n",
       "      <th>Albania</th>\n",
       "      <td>0</td>\n",
       "      <td>0</td>\n",
       "      <td>0</td>\n",
       "    </tr>\n",
       "    <tr>\n",
       "      <th>Algeria</th>\n",
       "      <td>1</td>\n",
       "      <td>0</td>\n",
       "      <td>0</td>\n",
       "    </tr>\n",
       "    <tr>\n",
       "      <th>American Virgin Islands</th>\n",
       "      <td>0</td>\n",
       "      <td>0</td>\n",
       "      <td>0</td>\n",
       "    </tr>\n",
       "    <tr>\n",
       "      <th>Andorra</th>\n",
       "      <td>0</td>\n",
       "      <td>0</td>\n",
       "      <td>0</td>\n",
       "    </tr>\n",
       "  </tbody>\n",
       "</table>\n",
       "</div>"
      ],
      "text/plain": [
       "                         Gold  Silver  Bronze\n",
       "Country                                      \n",
       "Afghanistan                 0       0       1\n",
       "Albania                     0       0       0\n",
       "Algeria                     1       0       0\n",
       "American Virgin Islands     0       0       0\n",
       "Andorra                     0       0       0"
      ]
     },
     "execution_count": 115,
     "metadata": {},
     "output_type": "execute_result"
    }
   ],
   "source": [
    "olympics.head()"
   ]
  },
  {
   "cell_type": "code",
   "execution_count": 117,
   "metadata": {},
   "outputs": [
    {
     "data": {
      "text/plain": [
       "Index(['Gold', 'Silver', 'Bronze'], dtype='object')"
      ]
     },
     "execution_count": 117,
     "metadata": {},
     "output_type": "execute_result"
    }
   ],
   "source": [
    "olympics.columns"
   ]
  },
  {
   "cell_type": "code",
   "execution_count": 118,
   "metadata": {},
   "outputs": [
    {
     "data": {
      "text/plain": [
       "Index(['Afghanistan', 'Albania', 'Algeria', 'American Virgin Islands',\n",
       "       'Andorra', 'Angola', 'Antigua and Barbuda', 'Argentina', 'Armenia',\n",
       "       'Aruba',\n",
       "       ...\n",
       "       'United Arab Emirates', 'United States of America', 'Uruguay',\n",
       "       'Uzbekistan', 'Vanuatu', 'Venezuela', 'Viet Nam', 'Yemen', 'Zambia',\n",
       "       'Zimbabwe'],\n",
       "      dtype='object', name='Country', length=204)"
      ]
     },
     "execution_count": 118,
     "metadata": {},
     "output_type": "execute_result"
    }
   ],
   "source": [
    "olympics.index"
   ]
  },
  {
   "cell_type": "code",
   "execution_count": 119,
   "metadata": {},
   "outputs": [
    {
     "data": {
      "text/plain": [
       "Country\n",
       "Afghanistan                  0\n",
       "Albania                      0\n",
       "Algeria                      1\n",
       "American Virgin Islands      0\n",
       "Andorra                      0\n",
       "Angola                       0\n",
       "Antigua and Barbuda          0\n",
       "Argentina                    1\n",
       "Armenia                      0\n",
       "Aruba                        0\n",
       "Australia                    7\n",
       "Austria                      0\n",
       "Azerbaijan                   2\n",
       "Bahamas                      1\n",
       "Bahrain                      0\n",
       "Bangladesh                   0\n",
       "Barbados                     0\n",
       "Belarus                      2\n",
       "Belgium                      0\n",
       "Belize                       0\n",
       "Benin                        0\n",
       "Bermuda                      0\n",
       "Bhutan                       0\n",
       "Bolivia                      0\n",
       "Bosnia and Herzegovina       0\n",
       "Botswana                     0\n",
       "Brazil                       3\n",
       "British Virgin Islands       0\n",
       "Brunei Darussalam            0\n",
       "Bulgaria                     0\n",
       "                            ..\n",
       "Sudan                        0\n",
       "Suriname                     0\n",
       "Swaziland                    0\n",
       "Sweden                       1\n",
       "Switzerland                  2\n",
       "Syria                        0\n",
       "Taiwan(2)                    0\n",
       "Tajikistan                   0\n",
       "Tanzania                     0\n",
       "Thailand                     0\n",
       "Timor-Leste                  0\n",
       "Togo                         0\n",
       "Tonga                        0\n",
       "Trinidad and Tobago          1\n",
       "Tunisia                      1\n",
       "Turkey                       2\n",
       "Turkmenistan                 0\n",
       "Tuvalu                       0\n",
       "Uganda                       1\n",
       "Ukraine                      6\n",
       "United Arab Emirates         0\n",
       "United States of America    46\n",
       "Uruguay                      0\n",
       "Uzbekistan                   1\n",
       "Vanuatu                      0\n",
       "Venezuela                    1\n",
       "Viet Nam                     0\n",
       "Yemen                        0\n",
       "Zambia                       0\n",
       "Zimbabwe                     0\n",
       "Name: Gold, Length: 204, dtype: int64"
      ]
     },
     "execution_count": 119,
     "metadata": {},
     "output_type": "execute_result"
    }
   ],
   "source": [
    "olympics['Gold']"
   ]
  },
  {
   "cell_type": "markdown",
   "metadata": {},
   "source": [
    "## Exercise: Calculating the toal number of medals won by each county\n",
    "\n",
    "You know how to index out a column. What happens when you add the gold Colum to the silber column?\n",
    "\n",
    "Create a total column by adding the gold, silver and Bronze comlumns together"
   ]
  },
  {
   "cell_type": "code",
   "execution_count": 120,
   "metadata": {},
   "outputs": [],
   "source": [
    "olympics['total']= olympics['Gold']+olympics['Silver']+olympics['Bronze']"
   ]
  },
  {
   "cell_type": "code",
   "execution_count": 123,
   "metadata": {},
   "outputs": [
    {
     "data": {
      "text/plain": [
       "<matplotlib.axes._subplots.AxesSubplot at 0x1594e3c8>"
      ]
     },
     "execution_count": 123,
     "metadata": {},
     "output_type": "execute_result"
    },
    {
     "data": {
      "image/png": "[encoded data removed]",
      "text/plain": [
       "<Figure size 432x288 with 1 Axes>"
      ]
     },
     "metadata": {
      "needs_background": "light"
     },
     "output_type": "display_data"
    }
   ],
   "source": [
    "olympics['total'].hist()"
   ]
  },
  {
   "cell_type": "code",
   "execution_count": 125,
   "metadata": {},
   "outputs": [
    {
     "data": {
      "text/plain": [
       "<matplotlib.axes._subplots.AxesSubplot at 0x15a1b9e8>"
      ]
     },
     "execution_count": 125,
     "metadata": {},
     "output_type": "execute_result"
    },
    {
     "data": {
      "image/png": "[encoded data removed]",
      "text/plain": [
       "<Figure size 432x288 with 1 Axes>"
      ]
     },
     "metadata": {
      "needs_background": "light"
     },
     "output_type": "display_data"
    }
   ],
   "source": [
    "olympics['total'].nlargest(10).plot(kind='bar')"
   ]
  },
  {
   "cell_type": "code",
   "execution_count": 126,
   "metadata": {},
   "outputs": [
    {
     "data": {
      "text/html": [
       "<div>\n",
       "<style scoped>\n",
       "    .dataframe tbody tr th:only-of-type {\n",
       "        vertical-align: middle;\n",
       "    }\n",
       "\n",
       "    .dataframe tbody tr th {\n",
       "        vertical-align: top;\n",
       "    }\n",
       "\n",
       "    .dataframe thead th {\n",
       "        text-align: right;\n",
       "    }\n",
       "</style>\n",
       "<table border=\"1\" class=\"dataframe\">\n",
       "  <thead>\n",
       "    <tr style=\"text-align: right;\">\n",
       "      <th></th>\n",
       "      <th>Gold</th>\n",
       "      <th>Silver</th>\n",
       "      <th>Bronze</th>\n",
       "      <th>total</th>\n",
       "    </tr>\n",
       "    <tr>\n",
       "      <th>Country</th>\n",
       "      <th></th>\n",
       "      <th></th>\n",
       "      <th></th>\n",
       "      <th></th>\n",
       "    </tr>\n",
       "  </thead>\n",
       "  <tbody>\n",
       "    <tr>\n",
       "      <th>Japan</th>\n",
       "      <td>7</td>\n",
       "      <td>4</td>\n",
       "      <td>17</td>\n",
       "      <td>28</td>\n",
       "    </tr>\n",
       "    <tr>\n",
       "      <th>Thailand</th>\n",
       "      <td>0</td>\n",
       "      <td>2</td>\n",
       "      <td>1</td>\n",
       "      <td>3</td>\n",
       "    </tr>\n",
       "    <tr>\n",
       "      <th>Mauritius</th>\n",
       "      <td>0</td>\n",
       "      <td>0</td>\n",
       "      <td>0</td>\n",
       "      <td>0</td>\n",
       "    </tr>\n",
       "    <tr>\n",
       "      <th>Colombia</th>\n",
       "      <td>1</td>\n",
       "      <td>3</td>\n",
       "      <td>4</td>\n",
       "      <td>8</td>\n",
       "    </tr>\n",
       "    <tr>\n",
       "      <th>Kenya</th>\n",
       "      <td>2</td>\n",
       "      <td>4</td>\n",
       "      <td>5</td>\n",
       "      <td>11</td>\n",
       "    </tr>\n",
       "  </tbody>\n",
       "</table>\n",
       "</div>"
      ],
      "text/plain": [
       "           Gold  Silver  Bronze  total\n",
       "Country                               \n",
       "Japan         7       4      17     28\n",
       "Thailand      0       2       1      3\n",
       "Mauritius     0       0       0      0\n",
       "Colombia      1       3       4      8\n",
       "Kenya         2       4       5     11"
      ]
     },
     "execution_count": 126,
     "metadata": {},
     "output_type": "execute_result"
    }
   ],
   "source": [
    "olympics.sample(5)"
   ]
  },
  {
   "cell_type": "code",
   "execution_count": 127,
   "metadata": {},
   "outputs": [],
   "source": [
    "population = pd.read_csv(\n",
    "    'country_populations_by_year.csv',\n",
    "    index_col ='Country Name')"
   ]
  },
  {
   "cell_type": "code",
   "execution_count": 129,
   "metadata": {},
   "outputs": [
    {
     "data": {
      "text/html": [
       "<div>\n",
       "<style scoped>\n",
       "    .dataframe tbody tr th:only-of-type {\n",
       "        vertical-align: middle;\n",
       "    }\n",
       "\n",
       "    .dataframe tbody tr th {\n",
       "        vertical-align: top;\n",
       "    }\n",
       "\n",
       "    .dataframe thead th {\n",
       "        text-align: right;\n",
       "    }\n",
       "</style>\n",
       "<table border=\"1\" class=\"dataframe\">\n",
       "  <thead>\n",
       "    <tr style=\"text-align: right;\">\n",
       "      <th></th>\n",
       "      <th>Country Code</th>\n",
       "      <th>Indicator Name</th>\n",
       "      <th>Indicator Code</th>\n",
       "      <th>1960</th>\n",
       "      <th>1961</th>\n",
       "      <th>1962</th>\n",
       "      <th>1963</th>\n",
       "      <th>1964</th>\n",
       "      <th>1965</th>\n",
       "      <th>1966</th>\n",
       "      <th>...</th>\n",
       "      <th>2008</th>\n",
       "      <th>2009</th>\n",
       "      <th>2010</th>\n",
       "      <th>2011</th>\n",
       "      <th>2012</th>\n",
       "      <th>2013</th>\n",
       "      <th>2014</th>\n",
       "      <th>2015</th>\n",
       "      <th>2016</th>\n",
       "      <th>2017</th>\n",
       "    </tr>\n",
       "    <tr>\n",
       "      <th>Country Name</th>\n",
       "      <th></th>\n",
       "      <th></th>\n",
       "      <th></th>\n",
       "      <th></th>\n",
       "      <th></th>\n",
       "      <th></th>\n",
       "      <th></th>\n",
       "      <th></th>\n",
       "      <th></th>\n",
       "      <th></th>\n",
       "      <th></th>\n",
       "      <th></th>\n",
       "      <th></th>\n",
       "      <th></th>\n",
       "      <th></th>\n",
       "      <th></th>\n",
       "      <th></th>\n",
       "      <th></th>\n",
       "      <th></th>\n",
       "      <th></th>\n",
       "      <th></th>\n",
       "    </tr>\n",
       "  </thead>\n",
       "  <tbody>\n",
       "    <tr>\n",
       "      <th>Cabo Verde</th>\n",
       "      <td>CPV</td>\n",
       "      <td>Population, total</td>\n",
       "      <td>SP.POP.TOTL</td>\n",
       "      <td>202310.0</td>\n",
       "      <td>205956.0</td>\n",
       "      <td>210867.0</td>\n",
       "      <td>216908.0</td>\n",
       "      <td>223846.0</td>\n",
       "      <td>231428.0</td>\n",
       "      <td>239770.0</td>\n",
       "      <td>...</td>\n",
       "      <td>491723.0</td>\n",
       "      <td>496963.0</td>\n",
       "      <td>502384.0</td>\n",
       "      <td>508067.0</td>\n",
       "      <td>513979.0</td>\n",
       "      <td>520106.0</td>\n",
       "      <td>526437.0</td>\n",
       "      <td>532913.0</td>\n",
       "      <td>539560.0</td>\n",
       "      <td>546388.0</td>\n",
       "    </tr>\n",
       "    <tr>\n",
       "      <th>Sri Lanka</th>\n",
       "      <td>LKA</td>\n",
       "      <td>Population, total</td>\n",
       "      <td>SP.POP.TOTL</td>\n",
       "      <td>9874481.0</td>\n",
       "      <td>10111646.0</td>\n",
       "      <td>10352188.0</td>\n",
       "      <td>10597520.0</td>\n",
       "      <td>10849979.0</td>\n",
       "      <td>11110828.0</td>\n",
       "      <td>11380683.0</td>\n",
       "      <td>...</td>\n",
       "      <td>19945832.0</td>\n",
       "      <td>20075086.0</td>\n",
       "      <td>20198353.0</td>\n",
       "      <td>20315017.0</td>\n",
       "      <td>20425000.0</td>\n",
       "      <td>20585000.0</td>\n",
       "      <td>20771000.0</td>\n",
       "      <td>20966000.0</td>\n",
       "      <td>21203000.0</td>\n",
       "      <td>21444000.0</td>\n",
       "    </tr>\n",
       "    <tr>\n",
       "      <th>Singapore</th>\n",
       "      <td>SGP</td>\n",
       "      <td>Population, total</td>\n",
       "      <td>SP.POP.TOTL</td>\n",
       "      <td>1646400.0</td>\n",
       "      <td>1702400.0</td>\n",
       "      <td>1750200.0</td>\n",
       "      <td>1795000.0</td>\n",
       "      <td>1841600.0</td>\n",
       "      <td>1886900.0</td>\n",
       "      <td>1934400.0</td>\n",
       "      <td>...</td>\n",
       "      <td>4839396.0</td>\n",
       "      <td>4987573.0</td>\n",
       "      <td>5076732.0</td>\n",
       "      <td>5183688.0</td>\n",
       "      <td>5312437.0</td>\n",
       "      <td>5399162.0</td>\n",
       "      <td>5469724.0</td>\n",
       "      <td>5535002.0</td>\n",
       "      <td>5607283.0</td>\n",
       "      <td>5612253.0</td>\n",
       "    </tr>\n",
       "    <tr>\n",
       "      <th>Germany</th>\n",
       "      <td>DEU</td>\n",
       "      <td>Population, total</td>\n",
       "      <td>SP.POP.TOTL</td>\n",
       "      <td>72814900.0</td>\n",
       "      <td>73377632.0</td>\n",
       "      <td>74025784.0</td>\n",
       "      <td>74714353.0</td>\n",
       "      <td>75318337.0</td>\n",
       "      <td>75963695.0</td>\n",
       "      <td>76600311.0</td>\n",
       "      <td>...</td>\n",
       "      <td>82110097.0</td>\n",
       "      <td>81902307.0</td>\n",
       "      <td>81776930.0</td>\n",
       "      <td>80274983.0</td>\n",
       "      <td>80425823.0</td>\n",
       "      <td>80645605.0</td>\n",
       "      <td>80982500.0</td>\n",
       "      <td>81686611.0</td>\n",
       "      <td>82348669.0</td>\n",
       "      <td>82695000.0</td>\n",
       "    </tr>\n",
       "    <tr>\n",
       "      <th>Lithuania</th>\n",
       "      <td>LTU</td>\n",
       "      <td>Population, total</td>\n",
       "      <td>SP.POP.TOTL</td>\n",
       "      <td>2778550.0</td>\n",
       "      <td>2823550.0</td>\n",
       "      <td>2863350.0</td>\n",
       "      <td>2898950.0</td>\n",
       "      <td>2935200.0</td>\n",
       "      <td>2971450.0</td>\n",
       "      <td>3008050.0</td>\n",
       "      <td>...</td>\n",
       "      <td>3198231.0</td>\n",
       "      <td>3162916.0</td>\n",
       "      <td>3097282.0</td>\n",
       "      <td>3028115.0</td>\n",
       "      <td>2987773.0</td>\n",
       "      <td>2957689.0</td>\n",
       "      <td>2932367.0</td>\n",
       "      <td>2904910.0</td>\n",
       "      <td>2868231.0</td>\n",
       "      <td>2827721.0</td>\n",
       "    </tr>\n",
       "  </tbody>\n",
       "</table>\n",
       "<p>5 rows × 61 columns</p>\n",
       "</div>"
      ],
      "text/plain": [
       "             Country Code     Indicator Name Indicator Code        1960  \\\n",
       "Country Name                                                              \n",
       "Cabo Verde            CPV  Population, total    SP.POP.TOTL    202310.0   \n",
       "Sri Lanka             LKA  Population, total    SP.POP.TOTL   9874481.0   \n",
       "Singapore             SGP  Population, total    SP.POP.TOTL   1646400.0   \n",
       "Germany               DEU  Population, total    SP.POP.TOTL  72814900.0   \n",
       "Lithuania             LTU  Population, total    SP.POP.TOTL   2778550.0   \n",
       "\n",
       "                    1961        1962        1963        1964        1965  \\\n",
       "Country Name                                                               \n",
       "Cabo Verde      205956.0    210867.0    216908.0    223846.0    231428.0   \n",
       "Sri Lanka     10111646.0  10352188.0  10597520.0  10849979.0  11110828.0   \n",
       "Singapore      1702400.0   1750200.0   1795000.0   1841600.0   1886900.0   \n",
       "Germany       73377632.0  74025784.0  74714353.0  75318337.0  75963695.0   \n",
       "Lithuania      2823550.0   2863350.0   2898950.0   2935200.0   2971450.0   \n",
       "\n",
       "                    1966  ...        2008        2009        2010        2011  \\\n",
       "Country Name              ...                                                   \n",
       "Cabo Verde      239770.0  ...    491723.0    496963.0    502384.0    508067.0   \n",
       "Sri Lanka     11380683.0  ...  19945832.0  20075086.0  20198353.0  20315017.0   \n",
       "Singapore      1934400.0  ...   4839396.0   4987573.0   5076732.0   5183688.0   \n",
       "Germany       76600311.0  ...  82110097.0  81902307.0  81776930.0  80274983.0   \n",
       "Lithuania      3008050.0  ...   3198231.0   3162916.0   3097282.0   3028115.0   \n",
       "\n",
       "                    2012        2013        2014        2015        2016  \\\n",
       "Country Name                                                               \n",
       "Cabo Verde      513979.0    520106.0    526437.0    532913.0    539560.0   \n",
       "Sri Lanka     20425000.0  20585000.0  20771000.0  20966000.0  21203000.0   \n",
       "Singapore      5312437.0   5399162.0   5469724.0   5535002.0   5607283.0   \n",
       "Germany       80425823.0  80645605.0  80982500.0  81686611.0  82348669.0   \n",
       "Lithuania      2987773.0   2957689.0   2932367.0   2904910.0   2868231.0   \n",
       "\n",
       "                    2017  \n",
       "Country Name              \n",
       "Cabo Verde      546388.0  \n",
       "Sri Lanka     21444000.0  \n",
       "Singapore      5612253.0  \n",
       "Germany       82695000.0  \n",
       "Lithuania      2827721.0  \n",
       "\n",
       "[5 rows x 61 columns]"
      ]
     },
     "execution_count": 129,
     "metadata": {},
     "output_type": "execute_result"
    }
   ],
   "source": [
    "population.sample(5)"
   ]
  },
  {
   "cell_type": "code",
   "execution_count": 130,
   "metadata": {},
   "outputs": [],
   "source": [
    "compCountryPopMedals = olympics['total']/population['2012']"
   ]
  },
  {
   "cell_type": "code",
   "execution_count": 133,
   "metadata": {},
   "outputs": [
    {
     "data": {
      "text/plain": [
       "Grenada                0.000009\n",
       "Jamaica                0.000004\n",
       "Trinidad and Tobago    0.000003\n",
       "New Zealand            0.000003\n",
       "Slovenia               0.000002\n",
       "Georgia                0.000002\n",
       "Mongolia               0.000002\n",
       "Hungary                0.000002\n",
       "Lithuania              0.000002\n",
       "Montenegro             0.000002\n",
       "dtype: float64"
      ]
     },
     "execution_count": 133,
     "metadata": {},
     "output_type": "execute_result"
    }
   ],
   "source": [
    "compCountryPopMedals.nlargest(10)"
   ]
  },
  {
   "cell_type": "code",
   "execution_count": 134,
   "metadata": {},
   "outputs": [
    {
     "data": {
      "text/plain": [
       "<matplotlib.axes._subplots.AxesSubplot at 0x15aec978>"
      ]
     },
     "execution_count": 134,
     "metadata": {},
     "output_type": "execute_result"
    },
    {
     "data": {
      "image/png": "[encoded data removed]",
      "text/plain": [
       "<Figure size 432x288 with 1 Axes>"
      ]
     },
     "metadata": {
      "needs_background": "light"
     },
     "output_type": "display_data"
    }
   ],
   "source": [
    "compCountryPopMedals.nlargest(10).plot(kind='bar')"
   ]
  },
  {
   "cell_type": "code",
   "execution_count": null,
   "metadata": {},
   "outputs": [],
   "source": []
  }
 ],
 "metadata": {
  "kernelspec": {
   "display_name": "Python 3",
   "language": "python",
   "name": "python3"
  },
  "language_info": {
   "codemirror_mode": {
    "name": "ipython",
    "version": 3
   },
   "file_extension": ".py",
   "mimetype": "text/x-python",
   "name": "python",
   "nbconvert_exporter": "python",
   "pygments_lexer": "ipython3",
   "version": "3.7.3"
  }
 },
 "nbformat": 4,
 "nbformat_minor": 2
}
